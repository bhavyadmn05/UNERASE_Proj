{
  "cells": [
    {
      "cell_type": "code",
      "execution_count": 1,
      "id": "3024f7fc",
      "metadata": {
        "id": "3024f7fc"
      },
      "outputs": [],
      "source": [
        "# Full name: Mai Xuan Bach\n",
        "# ID: 11200489"
      ]
    },
    {
      "cell_type": "code",
      "execution_count": 2,
      "id": "10b4d1de",
      "metadata": {
        "id": "10b4d1de",
        "outputId": "7a6c1f84-95f5-48da-d078-68e2c92b6bec",
        "colab": {
          "base_uri": "https://localhost:8080/"
        }
      },
      "outputs": [
        {
          "output_type": "stream",
          "name": "stdout",
          "text": [
            "Requirement already satisfied: imblearn in /usr/local/lib/python3.11/dist-packages (0.0)\n",
            "Requirement already satisfied: imbalanced-learn in /usr/local/lib/python3.11/dist-packages (from imblearn) (0.13.0)\n",
            "Requirement already satisfied: numpy<3,>=1.24.3 in /usr/local/lib/python3.11/dist-packages (from imbalanced-learn->imblearn) (1.26.4)\n",
            "Requirement already satisfied: scipy<2,>=1.10.1 in /usr/local/lib/python3.11/dist-packages (from imbalanced-learn->imblearn) (1.14.1)\n",
            "Requirement already satisfied: scikit-learn<2,>=1.3.2 in /usr/local/lib/python3.11/dist-packages (from imbalanced-learn->imblearn) (1.6.1)\n",
            "Requirement already satisfied: sklearn-compat<1,>=0.1 in /usr/local/lib/python3.11/dist-packages (from imbalanced-learn->imblearn) (0.1.3)\n",
            "Requirement already satisfied: joblib<2,>=1.1.1 in /usr/local/lib/python3.11/dist-packages (from imbalanced-learn->imblearn) (1.4.2)\n",
            "Requirement already satisfied: threadpoolctl<4,>=2.0.0 in /usr/local/lib/python3.11/dist-packages (from imbalanced-learn->imblearn) (3.6.0)\n"
          ]
        }
      ],
      "source": [
        "!pip install imblearn"
      ]
    },
    {
      "cell_type": "code",
      "execution_count": 3,
      "id": "8b1c4d1b",
      "metadata": {
        "id": "8b1c4d1b"
      },
      "outputs": [],
      "source": [
        "import pandas as pd\n",
        "import numpy as np\n",
        "import matplotlib.pyplot as plt\n",
        "import seaborn as sns"
      ]
    },
    {
      "cell_type": "code",
      "execution_count": 4,
      "id": "aa279b3c",
      "metadata": {
        "id": "aa279b3c"
      },
      "outputs": [],
      "source": [
        "import statsmodels\n",
        "import re"
      ]
    },
    {
      "cell_type": "code",
      "execution_count": 5,
      "id": "79a6ef9e",
      "metadata": {
        "id": "79a6ef9e"
      },
      "outputs": [],
      "source": [
        "from sklearn.preprocessing import MinMaxScaler, LabelEncoder, OneHotEncoder"
      ]
    },
    {
      "cell_type": "code",
      "execution_count": 6,
      "id": "84a59b7d",
      "metadata": {
        "id": "84a59b7d"
      },
      "outputs": [],
      "source": [
        "from sklearn.model_selection import train_test_split"
      ]
    },
    {
      "cell_type": "code",
      "execution_count": 7,
      "id": "e04ba05b",
      "metadata": {
        "id": "e04ba05b"
      },
      "outputs": [],
      "source": [
        "from imblearn.over_sampling import SMOTE\n",
        "from sklearn.linear_model import LogisticRegression\n",
        "from sklearn import metrics\n",
        "from sklearn.metrics import confusion_matrix, accuracy_score, classification_report, f1_score\n",
        "from sklearn.neighbors import KNeighborsClassifier\n",
        "from sklearn.ensemble import RandomForestClassifier\n",
        "from sklearn.model_selection import GridSearchCV"
      ]
    },
    {
      "cell_type": "code",
      "execution_count": 8,
      "id": "c1fff5b9",
      "metadata": {
        "id": "c1fff5b9"
      },
      "outputs": [],
      "source": [
        "from sklearn.tree import DecisionTreeClassifier"
      ]
    },
    {
      "cell_type": "code",
      "execution_count": 9,
      "id": "0f6feecc",
      "metadata": {
        "id": "0f6feecc"
      },
      "outputs": [],
      "source": [
        "#!pip install xgboost"
      ]
    },
    {
      "cell_type": "code",
      "execution_count": 10,
      "id": "690b764f",
      "metadata": {
        "id": "690b764f"
      },
      "outputs": [],
      "source": [
        "from xgboost import XGBClassifier"
      ]
    },
    {
      "cell_type": "code",
      "execution_count": 11,
      "id": "211820a6",
      "metadata": {
        "id": "211820a6",
        "outputId": "3f843e30-9c3b-4f9d-9de5-826658fa4b90",
        "colab": {
          "base_uri": "https://localhost:8080/"
        }
      },
      "outputs": [
        {
          "output_type": "stream",
          "name": "stdout",
          "text": [
            "Requirement already satisfied: catboost in /usr/local/lib/python3.11/dist-packages (1.2.7)\n",
            "Requirement already satisfied: graphviz in /usr/local/lib/python3.11/dist-packages (from catboost) (0.20.3)\n",
            "Requirement already satisfied: matplotlib in /usr/local/lib/python3.11/dist-packages (from catboost) (3.10.0)\n",
            "Requirement already satisfied: numpy<2.0,>=1.16.0 in /usr/local/lib/python3.11/dist-packages (from catboost) (1.26.4)\n",
            "Requirement already satisfied: pandas>=0.24 in /usr/local/lib/python3.11/dist-packages (from catboost) (2.2.2)\n",
            "Requirement already satisfied: scipy in /usr/local/lib/python3.11/dist-packages (from catboost) (1.14.1)\n",
            "Requirement already satisfied: plotly in /usr/local/lib/python3.11/dist-packages (from catboost) (5.24.1)\n",
            "Requirement already satisfied: six in /usr/local/lib/python3.11/dist-packages (from catboost) (1.17.0)\n",
            "Requirement already satisfied: python-dateutil>=2.8.2 in /usr/local/lib/python3.11/dist-packages (from pandas>=0.24->catboost) (2.8.2)\n",
            "Requirement already satisfied: pytz>=2020.1 in /usr/local/lib/python3.11/dist-packages (from pandas>=0.24->catboost) (2025.2)\n",
            "Requirement already satisfied: tzdata>=2022.7 in /usr/local/lib/python3.11/dist-packages (from pandas>=0.24->catboost) (2025.2)\n",
            "Requirement already satisfied: contourpy>=1.0.1 in /usr/local/lib/python3.11/dist-packages (from matplotlib->catboost) (1.3.1)\n",
            "Requirement already satisfied: cycler>=0.10 in /usr/local/lib/python3.11/dist-packages (from matplotlib->catboost) (0.12.1)\n",
            "Requirement already satisfied: fonttools>=4.22.0 in /usr/local/lib/python3.11/dist-packages (from matplotlib->catboost) (4.56.0)\n",
            "Requirement already satisfied: kiwisolver>=1.3.1 in /usr/local/lib/python3.11/dist-packages (from matplotlib->catboost) (1.4.8)\n",
            "Requirement already satisfied: packaging>=20.0 in /usr/local/lib/python3.11/dist-packages (from matplotlib->catboost) (24.2)\n",
            "Requirement already satisfied: pillow>=8 in /usr/local/lib/python3.11/dist-packages (from matplotlib->catboost) (11.1.0)\n",
            "Requirement already satisfied: pyparsing>=2.3.1 in /usr/local/lib/python3.11/dist-packages (from matplotlib->catboost) (3.2.3)\n",
            "Requirement already satisfied: tenacity>=6.2.0 in /usr/local/lib/python3.11/dist-packages (from plotly->catboost) (9.0.0)\n"
          ]
        }
      ],
      "source": [
        "!pip install catboost"
      ]
    },
    {
      "cell_type": "code",
      "source": [
        "!pip install --upgrade numpy\n"
      ],
      "metadata": {
        "id": "qrfy0JXGX5Js",
        "outputId": "27a10dc6-9484-4ee4-c212-ff4192e3c39b",
        "colab": {
          "base_uri": "https://localhost:8080/"
        }
      },
      "id": "qrfy0JXGX5Js",
      "execution_count": 12,
      "outputs": [
        {
          "output_type": "stream",
          "name": "stdout",
          "text": [
            "Requirement already satisfied: numpy in /usr/local/lib/python3.11/dist-packages (1.26.4)\n",
            "Collecting numpy\n",
            "  Using cached numpy-2.2.4-cp311-cp311-manylinux_2_17_x86_64.manylinux2014_x86_64.whl.metadata (62 kB)\n",
            "Using cached numpy-2.2.4-cp311-cp311-manylinux_2_17_x86_64.manylinux2014_x86_64.whl (16.4 MB)\n",
            "Installing collected packages: numpy\n",
            "  Attempting uninstall: numpy\n",
            "    Found existing installation: numpy 1.26.4\n",
            "    Uninstalling numpy-1.26.4:\n",
            "      Successfully uninstalled numpy-1.26.4\n",
            "\u001b[31mERROR: pip's dependency resolver does not currently take into account all the packages that are installed. This behaviour is the source of the following dependency conflicts.\n",
            "catboost 1.2.7 requires numpy<2.0,>=1.16.0, but you have numpy 2.2.4 which is incompatible.\n",
            "numba 0.60.0 requires numpy<2.1,>=1.22, but you have numpy 2.2.4 which is incompatible.\n",
            "tensorflow 2.18.0 requires numpy<2.1.0,>=1.26.0, but you have numpy 2.2.4 which is incompatible.\u001b[0m\u001b[31m\n",
            "\u001b[0mSuccessfully installed numpy-2.2.4\n"
          ]
        }
      ]
    },
    {
      "cell_type": "code",
      "source": [
        "!pip uninstall -y catboost\n",
        "!pip install catboost\n"
      ],
      "metadata": {
        "id": "YCCjuQMeYpEh",
        "outputId": "1f355d00-bb92-4da7-fa64-2868ed9a6ff7",
        "colab": {
          "base_uri": "https://localhost:8080/"
        }
      },
      "id": "YCCjuQMeYpEh",
      "execution_count": 13,
      "outputs": [
        {
          "output_type": "stream",
          "name": "stdout",
          "text": [
            "Found existing installation: catboost 1.2.7\n",
            "Uninstalling catboost-1.2.7:\n",
            "  Successfully uninstalled catboost-1.2.7\n",
            "Collecting catboost\n",
            "  Using cached catboost-1.2.7-cp311-cp311-manylinux2014_x86_64.whl.metadata (1.2 kB)\n",
            "Requirement already satisfied: graphviz in /usr/local/lib/python3.11/dist-packages (from catboost) (0.20.3)\n",
            "Requirement already satisfied: matplotlib in /usr/local/lib/python3.11/dist-packages (from catboost) (3.10.0)\n",
            "Collecting numpy<2.0,>=1.16.0 (from catboost)\n",
            "  Using cached numpy-1.26.4-cp311-cp311-manylinux_2_17_x86_64.manylinux2014_x86_64.whl.metadata (61 kB)\n",
            "Requirement already satisfied: pandas>=0.24 in /usr/local/lib/python3.11/dist-packages (from catboost) (2.2.2)\n",
            "Requirement already satisfied: scipy in /usr/local/lib/python3.11/dist-packages (from catboost) (1.14.1)\n",
            "Requirement already satisfied: plotly in /usr/local/lib/python3.11/dist-packages (from catboost) (5.24.1)\n",
            "Requirement already satisfied: six in /usr/local/lib/python3.11/dist-packages (from catboost) (1.17.0)\n",
            "Requirement already satisfied: python-dateutil>=2.8.2 in /usr/local/lib/python3.11/dist-packages (from pandas>=0.24->catboost) (2.8.2)\n",
            "Requirement already satisfied: pytz>=2020.1 in /usr/local/lib/python3.11/dist-packages (from pandas>=0.24->catboost) (2025.2)\n",
            "Requirement already satisfied: tzdata>=2022.7 in /usr/local/lib/python3.11/dist-packages (from pandas>=0.24->catboost) (2025.2)\n",
            "Requirement already satisfied: contourpy>=1.0.1 in /usr/local/lib/python3.11/dist-packages (from matplotlib->catboost) (1.3.1)\n",
            "Requirement already satisfied: cycler>=0.10 in /usr/local/lib/python3.11/dist-packages (from matplotlib->catboost) (0.12.1)\n",
            "Requirement already satisfied: fonttools>=4.22.0 in /usr/local/lib/python3.11/dist-packages (from matplotlib->catboost) (4.56.0)\n",
            "Requirement already satisfied: kiwisolver>=1.3.1 in /usr/local/lib/python3.11/dist-packages (from matplotlib->catboost) (1.4.8)\n",
            "Requirement already satisfied: packaging>=20.0 in /usr/local/lib/python3.11/dist-packages (from matplotlib->catboost) (24.2)\n",
            "Requirement already satisfied: pillow>=8 in /usr/local/lib/python3.11/dist-packages (from matplotlib->catboost) (11.1.0)\n",
            "Requirement already satisfied: pyparsing>=2.3.1 in /usr/local/lib/python3.11/dist-packages (from matplotlib->catboost) (3.2.3)\n",
            "Requirement already satisfied: tenacity>=6.2.0 in /usr/local/lib/python3.11/dist-packages (from plotly->catboost) (9.0.0)\n",
            "Using cached catboost-1.2.7-cp311-cp311-manylinux2014_x86_64.whl (98.7 MB)\n",
            "Using cached numpy-1.26.4-cp311-cp311-manylinux_2_17_x86_64.manylinux2014_x86_64.whl (18.3 MB)\n",
            "Installing collected packages: numpy, catboost\n",
            "  Attempting uninstall: numpy\n",
            "    Found existing installation: numpy 2.2.4\n",
            "    Uninstalling numpy-2.2.4:\n",
            "      Successfully uninstalled numpy-2.2.4\n",
            "Successfully installed catboost-1.2.7 numpy-1.26.4\n"
          ]
        }
      ]
    },
    {
      "cell_type": "code",
      "execution_count": 14,
      "id": "ef1dfc65",
      "metadata": {
        "id": "ef1dfc65"
      },
      "outputs": [],
      "source": [
        "from catboost import CatBoostClassifier"
      ]
    },
    {
      "cell_type": "code",
      "execution_count": 15,
      "id": "f37721c7",
      "metadata": {
        "id": "f37721c7"
      },
      "outputs": [],
      "source": [
        "#!pip install lightgbm"
      ]
    },
    {
      "cell_type": "code",
      "execution_count": 16,
      "id": "7ad21382",
      "metadata": {
        "id": "7ad21382"
      },
      "outputs": [],
      "source": [
        "import lightgbm as lgb"
      ]
    },
    {
      "cell_type": "code",
      "execution_count": 17,
      "id": "ebe8c18b",
      "metadata": {
        "id": "ebe8c18b"
      },
      "outputs": [],
      "source": [
        "from lightgbm import LGBMClassifier"
      ]
    },
    {
      "cell_type": "code",
      "execution_count": 18,
      "id": "ad2418b9",
      "metadata": {
        "id": "ad2418b9"
      },
      "outputs": [],
      "source": [
        "from sklearn.metrics import mean_squared_error"
      ]
    },
    {
      "cell_type": "code",
      "execution_count": 19,
      "id": "e9a1c110",
      "metadata": {
        "id": "e9a1c110"
      },
      "outputs": [],
      "source": [
        "from sklearn.metrics import roc_auc_score"
      ]
    },
    {
      "cell_type": "code",
      "execution_count": 20,
      "id": "50df3273",
      "metadata": {
        "id": "50df3273"
      },
      "outputs": [],
      "source": [
        "import pandas.core.algorithms as algos\n",
        "import scipy.stats.stats as stats\n",
        "import traceback\n",
        "import string"
      ]
    },
    {
      "cell_type": "code",
      "execution_count": 23,
      "id": "6cc3cfc9",
      "metadata": {
        "id": "6cc3cfc9",
        "outputId": "2f5165b0-a312-441d-ab13-409fed43aec9",
        "colab": {
          "base_uri": "https://localhost:8080/"
        }
      },
      "outputs": [
        {
          "output_type": "stream",
          "name": "stdout",
          "text": [
            "Collecting scorecardpy\n",
            "  Downloading scorecardpy-0.1.9.7.tar.gz (58 kB)\n",
            "\u001b[?25l     \u001b[90m━━━━━━━━━━━━━━━━━━━━━━━━━━━━━━━━━━━━━━━━\u001b[0m \u001b[32m0.0/58.1 kB\u001b[0m \u001b[31m?\u001b[0m eta \u001b[36m-:--:--\u001b[0m\r\u001b[2K     \u001b[90m━━━━━━━━━━━━━━━━━━━━━━━━━━━━━━━━━━━━━━━━\u001b[0m \u001b[32m58.1/58.1 kB\u001b[0m \u001b[31m2.7 MB/s\u001b[0m eta \u001b[36m0:00:00\u001b[0m\n",
            "\u001b[?25h  Preparing metadata (setup.py) ... \u001b[?25l\u001b[?25hdone\n",
            "Requirement already satisfied: numpy in /usr/local/lib/python3.11/dist-packages (from scorecardpy) (1.26.4)\n",
            "Requirement already satisfied: pandas>=1.0.0 in /usr/local/lib/python3.11/dist-packages (from scorecardpy) (2.2.2)\n",
            "Requirement already satisfied: matplotlib in /usr/local/lib/python3.11/dist-packages (from scorecardpy) (3.10.0)\n",
            "Requirement already satisfied: scikit-learn>=0.19.1 in /usr/local/lib/python3.11/dist-packages (from scorecardpy) (1.6.1)\n",
            "Requirement already satisfied: statsmodels in /usr/local/lib/python3.11/dist-packages (from scorecardpy) (0.14.4)\n",
            "Requirement already satisfied: patsy in /usr/local/lib/python3.11/dist-packages (from scorecardpy) (1.0.1)\n",
            "Requirement already satisfied: python-dateutil>=2.8.2 in /usr/local/lib/python3.11/dist-packages (from pandas>=1.0.0->scorecardpy) (2.8.2)\n",
            "Requirement already satisfied: pytz>=2020.1 in /usr/local/lib/python3.11/dist-packages (from pandas>=1.0.0->scorecardpy) (2025.2)\n",
            "Requirement already satisfied: tzdata>=2022.7 in /usr/local/lib/python3.11/dist-packages (from pandas>=1.0.0->scorecardpy) (2025.2)\n",
            "Requirement already satisfied: scipy>=1.6.0 in /usr/local/lib/python3.11/dist-packages (from scikit-learn>=0.19.1->scorecardpy) (1.14.1)\n",
            "Requirement already satisfied: joblib>=1.2.0 in /usr/local/lib/python3.11/dist-packages (from scikit-learn>=0.19.1->scorecardpy) (1.4.2)\n",
            "Requirement already satisfied: threadpoolctl>=3.1.0 in /usr/local/lib/python3.11/dist-packages (from scikit-learn>=0.19.1->scorecardpy) (3.6.0)\n",
            "Requirement already satisfied: contourpy>=1.0.1 in /usr/local/lib/python3.11/dist-packages (from matplotlib->scorecardpy) (1.3.1)\n",
            "Requirement already satisfied: cycler>=0.10 in /usr/local/lib/python3.11/dist-packages (from matplotlib->scorecardpy) (0.12.1)\n",
            "Requirement already satisfied: fonttools>=4.22.0 in /usr/local/lib/python3.11/dist-packages (from matplotlib->scorecardpy) (4.56.0)\n",
            "Requirement already satisfied: kiwisolver>=1.3.1 in /usr/local/lib/python3.11/dist-packages (from matplotlib->scorecardpy) (1.4.8)\n",
            "Requirement already satisfied: packaging>=20.0 in /usr/local/lib/python3.11/dist-packages (from matplotlib->scorecardpy) (24.2)\n",
            "Requirement already satisfied: pillow>=8 in /usr/local/lib/python3.11/dist-packages (from matplotlib->scorecardpy) (11.1.0)\n",
            "Requirement already satisfied: pyparsing>=2.3.1 in /usr/local/lib/python3.11/dist-packages (from matplotlib->scorecardpy) (3.2.3)\n",
            "Requirement already satisfied: six>=1.5 in /usr/local/lib/python3.11/dist-packages (from python-dateutil>=2.8.2->pandas>=1.0.0->scorecardpy) (1.17.0)\n",
            "Building wheels for collected packages: scorecardpy\n",
            "  Building wheel for scorecardpy (setup.py) ... \u001b[?25l\u001b[?25hdone\n",
            "  Created wheel for scorecardpy: filename=scorecardpy-0.1.9.7-py3-none-any.whl size=60629 sha256=39f15f082ebf9dd00af9d30768cfc715f9865a25759386f2557c74db386fe360\n",
            "  Stored in directory: /root/.cache/pip/wheels/68/88/65/58d6aa058698c47d7a24352952ea07a1409cc2eff3a8087c0c\n",
            "Successfully built scorecardpy\n",
            "Installing collected packages: scorecardpy\n",
            "Successfully installed scorecardpy-0.1.9.7\n"
          ]
        }
      ],
      "source": [
        "!pip install scorecardpy"
      ]
    },
    {
      "cell_type": "code",
      "execution_count": 24,
      "id": "56e1c5da",
      "metadata": {
        "id": "56e1c5da"
      },
      "outputs": [],
      "source": [
        "import scorecardpy as sc"
      ]
    },
    {
      "cell_type": "code",
      "execution_count": 25,
      "id": "3b169c5d",
      "metadata": {
        "id": "3b169c5d"
      },
      "outputs": [],
      "source": [
        "import mlxtend"
      ]
    },
    {
      "cell_type": "code",
      "execution_count": 26,
      "id": "c1832799",
      "metadata": {
        "id": "c1832799"
      },
      "outputs": [],
      "source": [
        "pd.set_option('display.max_columns', None)"
      ]
    },
    {
      "cell_type": "code",
      "execution_count": 27,
      "id": "34f8a9af",
      "metadata": {
        "id": "34f8a9af"
      },
      "outputs": [],
      "source": [
        "pd.set_option('display.max_colwidth', None)"
      ]
    },
    {
      "cell_type": "code",
      "execution_count": 31,
      "id": "75d80cf6",
      "metadata": {
        "id": "75d80cf6",
        "outputId": "24d2d794-4acd-4e4d-f29f-b059caad42d9",
        "colab": {
          "base_uri": "https://localhost:8080/",
          "height": 261
        }
      },
      "outputs": [
        {
          "output_type": "execute_result",
          "data": {
            "text/plain": [
              "  customer_id            name  age gender owns_car owns_house  no_of_children  \\\n",
              "0  CST_115179        ita Bose   46      F        N          Y             0.0   \n",
              "1  CST_121920  Alper Jonathan   29      M        N          Y             0.0   \n",
              "2  CST_109330     Umesh Desai   37      M        N          Y             0.0   \n",
              "3  CST_128288             Rie   39      F        N          Y             0.0   \n",
              "4  CST_151355          McCool   46      M        Y          Y             0.0   \n",
              "\n",
              "   net_yearly_income  no_of_days_employed occupation_type  \\\n",
              "0          107934.04                612.0         Unknown   \n",
              "1          109862.62               2771.0        Laborers   \n",
              "2          230153.17                204.0        Laborers   \n",
              "3          122325.82              11941.0      Core staff   \n",
              "4          387286.00               1459.0      Core staff   \n",
              "\n",
              "   total_family_members  migrant_worker  yearly_debt_payments  credit_limit  \\\n",
              "0                   1.0             1.0              33070.28      18690.93   \n",
              "1                   2.0             0.0              15329.53      37745.19   \n",
              "2                   2.0             0.0              48416.60      41598.36   \n",
              "3                   2.0             0.0              22574.36      32627.76   \n",
              "4                   1.0             0.0              38282.95      52950.64   \n",
              "\n",
              "   credit_limit_used(%)  credit_score  prev_defaults  default_in_last_6months  \\\n",
              "0                    73         544.0              2                        1   \n",
              "1                    52         857.0              0                        0   \n",
              "2                    43         650.0              0                        0   \n",
              "3                    20         754.0              0                        0   \n",
              "4                    75         927.0              0                        0   \n",
              "\n",
              "   credit_card_default  \n",
              "0                    1  \n",
              "1                    0  \n",
              "2                    0  \n",
              "3                    0  \n",
              "4                    0  "
            ],
            "text/html": [
              "\n",
              "  <div id=\"df-4c0f440e-7cd6-4ec1-b1e6-cb6b9f8b9da6\" class=\"colab-df-container\">\n",
              "    <div>\n",
              "<style scoped>\n",
              "    .dataframe tbody tr th:only-of-type {\n",
              "        vertical-align: middle;\n",
              "    }\n",
              "\n",
              "    .dataframe tbody tr th {\n",
              "        vertical-align: top;\n",
              "    }\n",
              "\n",
              "    .dataframe thead th {\n",
              "        text-align: right;\n",
              "    }\n",
              "</style>\n",
              "<table border=\"1\" class=\"dataframe\">\n",
              "  <thead>\n",
              "    <tr style=\"text-align: right;\">\n",
              "      <th></th>\n",
              "      <th>customer_id</th>\n",
              "      <th>name</th>\n",
              "      <th>age</th>\n",
              "      <th>gender</th>\n",
              "      <th>owns_car</th>\n",
              "      <th>owns_house</th>\n",
              "      <th>no_of_children</th>\n",
              "      <th>net_yearly_income</th>\n",
              "      <th>no_of_days_employed</th>\n",
              "      <th>occupation_type</th>\n",
              "      <th>total_family_members</th>\n",
              "      <th>migrant_worker</th>\n",
              "      <th>yearly_debt_payments</th>\n",
              "      <th>credit_limit</th>\n",
              "      <th>credit_limit_used(%)</th>\n",
              "      <th>credit_score</th>\n",
              "      <th>prev_defaults</th>\n",
              "      <th>default_in_last_6months</th>\n",
              "      <th>credit_card_default</th>\n",
              "    </tr>\n",
              "  </thead>\n",
              "  <tbody>\n",
              "    <tr>\n",
              "      <th>0</th>\n",
              "      <td>CST_115179</td>\n",
              "      <td>ita Bose</td>\n",
              "      <td>46</td>\n",
              "      <td>F</td>\n",
              "      <td>N</td>\n",
              "      <td>Y</td>\n",
              "      <td>0.0</td>\n",
              "      <td>107934.04</td>\n",
              "      <td>612.0</td>\n",
              "      <td>Unknown</td>\n",
              "      <td>1.0</td>\n",
              "      <td>1.0</td>\n",
              "      <td>33070.28</td>\n",
              "      <td>18690.93</td>\n",
              "      <td>73</td>\n",
              "      <td>544.0</td>\n",
              "      <td>2</td>\n",
              "      <td>1</td>\n",
              "      <td>1</td>\n",
              "    </tr>\n",
              "    <tr>\n",
              "      <th>1</th>\n",
              "      <td>CST_121920</td>\n",
              "      <td>Alper Jonathan</td>\n",
              "      <td>29</td>\n",
              "      <td>M</td>\n",
              "      <td>N</td>\n",
              "      <td>Y</td>\n",
              "      <td>0.0</td>\n",
              "      <td>109862.62</td>\n",
              "      <td>2771.0</td>\n",
              "      <td>Laborers</td>\n",
              "      <td>2.0</td>\n",
              "      <td>0.0</td>\n",
              "      <td>15329.53</td>\n",
              "      <td>37745.19</td>\n",
              "      <td>52</td>\n",
              "      <td>857.0</td>\n",
              "      <td>0</td>\n",
              "      <td>0</td>\n",
              "      <td>0</td>\n",
              "    </tr>\n",
              "    <tr>\n",
              "      <th>2</th>\n",
              "      <td>CST_109330</td>\n",
              "      <td>Umesh Desai</td>\n",
              "      <td>37</td>\n",
              "      <td>M</td>\n",
              "      <td>N</td>\n",
              "      <td>Y</td>\n",
              "      <td>0.0</td>\n",
              "      <td>230153.17</td>\n",
              "      <td>204.0</td>\n",
              "      <td>Laborers</td>\n",
              "      <td>2.0</td>\n",
              "      <td>0.0</td>\n",
              "      <td>48416.60</td>\n",
              "      <td>41598.36</td>\n",
              "      <td>43</td>\n",
              "      <td>650.0</td>\n",
              "      <td>0</td>\n",
              "      <td>0</td>\n",
              "      <td>0</td>\n",
              "    </tr>\n",
              "    <tr>\n",
              "      <th>3</th>\n",
              "      <td>CST_128288</td>\n",
              "      <td>Rie</td>\n",
              "      <td>39</td>\n",
              "      <td>F</td>\n",
              "      <td>N</td>\n",
              "      <td>Y</td>\n",
              "      <td>0.0</td>\n",
              "      <td>122325.82</td>\n",
              "      <td>11941.0</td>\n",
              "      <td>Core staff</td>\n",
              "      <td>2.0</td>\n",
              "      <td>0.0</td>\n",
              "      <td>22574.36</td>\n",
              "      <td>32627.76</td>\n",
              "      <td>20</td>\n",
              "      <td>754.0</td>\n",
              "      <td>0</td>\n",
              "      <td>0</td>\n",
              "      <td>0</td>\n",
              "    </tr>\n",
              "    <tr>\n",
              "      <th>4</th>\n",
              "      <td>CST_151355</td>\n",
              "      <td>McCool</td>\n",
              "      <td>46</td>\n",
              "      <td>M</td>\n",
              "      <td>Y</td>\n",
              "      <td>Y</td>\n",
              "      <td>0.0</td>\n",
              "      <td>387286.00</td>\n",
              "      <td>1459.0</td>\n",
              "      <td>Core staff</td>\n",
              "      <td>1.0</td>\n",
              "      <td>0.0</td>\n",
              "      <td>38282.95</td>\n",
              "      <td>52950.64</td>\n",
              "      <td>75</td>\n",
              "      <td>927.0</td>\n",
              "      <td>0</td>\n",
              "      <td>0</td>\n",
              "      <td>0</td>\n",
              "    </tr>\n",
              "  </tbody>\n",
              "</table>\n",
              "</div>\n",
              "    <div class=\"colab-df-buttons\">\n",
              "\n",
              "  <div class=\"colab-df-container\">\n",
              "    <button class=\"colab-df-convert\" onclick=\"convertToInteractive('df-4c0f440e-7cd6-4ec1-b1e6-cb6b9f8b9da6')\"\n",
              "            title=\"Convert this dataframe to an interactive table.\"\n",
              "            style=\"display:none;\">\n",
              "\n",
              "  <svg xmlns=\"http://www.w3.org/2000/svg\" height=\"24px\" viewBox=\"0 -960 960 960\">\n",
              "    <path d=\"M120-120v-720h720v720H120Zm60-500h600v-160H180v160Zm220 220h160v-160H400v160Zm0 220h160v-160H400v160ZM180-400h160v-160H180v160Zm440 0h160v-160H620v160ZM180-180h160v-160H180v160Zm440 0h160v-160H620v160Z\"/>\n",
              "  </svg>\n",
              "    </button>\n",
              "\n",
              "  <style>\n",
              "    .colab-df-container {\n",
              "      display:flex;\n",
              "      gap: 12px;\n",
              "    }\n",
              "\n",
              "    .colab-df-convert {\n",
              "      background-color: #E8F0FE;\n",
              "      border: none;\n",
              "      border-radius: 50%;\n",
              "      cursor: pointer;\n",
              "      display: none;\n",
              "      fill: #1967D2;\n",
              "      height: 32px;\n",
              "      padding: 0 0 0 0;\n",
              "      width: 32px;\n",
              "    }\n",
              "\n",
              "    .colab-df-convert:hover {\n",
              "      background-color: #E2EBFA;\n",
              "      box-shadow: 0px 1px 2px rgba(60, 64, 67, 0.3), 0px 1px 3px 1px rgba(60, 64, 67, 0.15);\n",
              "      fill: #174EA6;\n",
              "    }\n",
              "\n",
              "    .colab-df-buttons div {\n",
              "      margin-bottom: 4px;\n",
              "    }\n",
              "\n",
              "    [theme=dark] .colab-df-convert {\n",
              "      background-color: #3B4455;\n",
              "      fill: #D2E3FC;\n",
              "    }\n",
              "\n",
              "    [theme=dark] .colab-df-convert:hover {\n",
              "      background-color: #434B5C;\n",
              "      box-shadow: 0px 1px 3px 1px rgba(0, 0, 0, 0.15);\n",
              "      filter: drop-shadow(0px 1px 2px rgba(0, 0, 0, 0.3));\n",
              "      fill: #FFFFFF;\n",
              "    }\n",
              "  </style>\n",
              "\n",
              "    <script>\n",
              "      const buttonEl =\n",
              "        document.querySelector('#df-4c0f440e-7cd6-4ec1-b1e6-cb6b9f8b9da6 button.colab-df-convert');\n",
              "      buttonEl.style.display =\n",
              "        google.colab.kernel.accessAllowed ? 'block' : 'none';\n",
              "\n",
              "      async function convertToInteractive(key) {\n",
              "        const element = document.querySelector('#df-4c0f440e-7cd6-4ec1-b1e6-cb6b9f8b9da6');\n",
              "        const dataTable =\n",
              "          await google.colab.kernel.invokeFunction('convertToInteractive',\n",
              "                                                    [key], {});\n",
              "        if (!dataTable) return;\n",
              "\n",
              "        const docLinkHtml = 'Like what you see? Visit the ' +\n",
              "          '<a target=\"_blank\" href=https://colab.research.google.com/notebooks/data_table.ipynb>data table notebook</a>'\n",
              "          + ' to learn more about interactive tables.';\n",
              "        element.innerHTML = '';\n",
              "        dataTable['output_type'] = 'display_data';\n",
              "        await google.colab.output.renderOutput(dataTable, element);\n",
              "        const docLink = document.createElement('div');\n",
              "        docLink.innerHTML = docLinkHtml;\n",
              "        element.appendChild(docLink);\n",
              "      }\n",
              "    </script>\n",
              "  </div>\n",
              "\n",
              "\n",
              "<div id=\"df-a7751000-8323-4cac-b7f0-2c7aadf20e86\">\n",
              "  <button class=\"colab-df-quickchart\" onclick=\"quickchart('df-a7751000-8323-4cac-b7f0-2c7aadf20e86')\"\n",
              "            title=\"Suggest charts\"\n",
              "            style=\"display:none;\">\n",
              "\n",
              "<svg xmlns=\"http://www.w3.org/2000/svg\" height=\"24px\"viewBox=\"0 0 24 24\"\n",
              "     width=\"24px\">\n",
              "    <g>\n",
              "        <path d=\"M19 3H5c-1.1 0-2 .9-2 2v14c0 1.1.9 2 2 2h14c1.1 0 2-.9 2-2V5c0-1.1-.9-2-2-2zM9 17H7v-7h2v7zm4 0h-2V7h2v10zm4 0h-2v-4h2v4z\"/>\n",
              "    </g>\n",
              "</svg>\n",
              "  </button>\n",
              "\n",
              "<style>\n",
              "  .colab-df-quickchart {\n",
              "      --bg-color: #E8F0FE;\n",
              "      --fill-color: #1967D2;\n",
              "      --hover-bg-color: #E2EBFA;\n",
              "      --hover-fill-color: #174EA6;\n",
              "      --disabled-fill-color: #AAA;\n",
              "      --disabled-bg-color: #DDD;\n",
              "  }\n",
              "\n",
              "  [theme=dark] .colab-df-quickchart {\n",
              "      --bg-color: #3B4455;\n",
              "      --fill-color: #D2E3FC;\n",
              "      --hover-bg-color: #434B5C;\n",
              "      --hover-fill-color: #FFFFFF;\n",
              "      --disabled-bg-color: #3B4455;\n",
              "      --disabled-fill-color: #666;\n",
              "  }\n",
              "\n",
              "  .colab-df-quickchart {\n",
              "    background-color: var(--bg-color);\n",
              "    border: none;\n",
              "    border-radius: 50%;\n",
              "    cursor: pointer;\n",
              "    display: none;\n",
              "    fill: var(--fill-color);\n",
              "    height: 32px;\n",
              "    padding: 0;\n",
              "    width: 32px;\n",
              "  }\n",
              "\n",
              "  .colab-df-quickchart:hover {\n",
              "    background-color: var(--hover-bg-color);\n",
              "    box-shadow: 0 1px 2px rgba(60, 64, 67, 0.3), 0 1px 3px 1px rgba(60, 64, 67, 0.15);\n",
              "    fill: var(--button-hover-fill-color);\n",
              "  }\n",
              "\n",
              "  .colab-df-quickchart-complete:disabled,\n",
              "  .colab-df-quickchart-complete:disabled:hover {\n",
              "    background-color: var(--disabled-bg-color);\n",
              "    fill: var(--disabled-fill-color);\n",
              "    box-shadow: none;\n",
              "  }\n",
              "\n",
              "  .colab-df-spinner {\n",
              "    border: 2px solid var(--fill-color);\n",
              "    border-color: transparent;\n",
              "    border-bottom-color: var(--fill-color);\n",
              "    animation:\n",
              "      spin 1s steps(1) infinite;\n",
              "  }\n",
              "\n",
              "  @keyframes spin {\n",
              "    0% {\n",
              "      border-color: transparent;\n",
              "      border-bottom-color: var(--fill-color);\n",
              "      border-left-color: var(--fill-color);\n",
              "    }\n",
              "    20% {\n",
              "      border-color: transparent;\n",
              "      border-left-color: var(--fill-color);\n",
              "      border-top-color: var(--fill-color);\n",
              "    }\n",
              "    30% {\n",
              "      border-color: transparent;\n",
              "      border-left-color: var(--fill-color);\n",
              "      border-top-color: var(--fill-color);\n",
              "      border-right-color: var(--fill-color);\n",
              "    }\n",
              "    40% {\n",
              "      border-color: transparent;\n",
              "      border-right-color: var(--fill-color);\n",
              "      border-top-color: var(--fill-color);\n",
              "    }\n",
              "    60% {\n",
              "      border-color: transparent;\n",
              "      border-right-color: var(--fill-color);\n",
              "    }\n",
              "    80% {\n",
              "      border-color: transparent;\n",
              "      border-right-color: var(--fill-color);\n",
              "      border-bottom-color: var(--fill-color);\n",
              "    }\n",
              "    90% {\n",
              "      border-color: transparent;\n",
              "      border-bottom-color: var(--fill-color);\n",
              "    }\n",
              "  }\n",
              "</style>\n",
              "\n",
              "  <script>\n",
              "    async function quickchart(key) {\n",
              "      const quickchartButtonEl =\n",
              "        document.querySelector('#' + key + ' button');\n",
              "      quickchartButtonEl.disabled = true;  // To prevent multiple clicks.\n",
              "      quickchartButtonEl.classList.add('colab-df-spinner');\n",
              "      try {\n",
              "        const charts = await google.colab.kernel.invokeFunction(\n",
              "            'suggestCharts', [key], {});\n",
              "      } catch (error) {\n",
              "        console.error('Error during call to suggestCharts:', error);\n",
              "      }\n",
              "      quickchartButtonEl.classList.remove('colab-df-spinner');\n",
              "      quickchartButtonEl.classList.add('colab-df-quickchart-complete');\n",
              "    }\n",
              "    (() => {\n",
              "      let quickchartButtonEl =\n",
              "        document.querySelector('#df-a7751000-8323-4cac-b7f0-2c7aadf20e86 button');\n",
              "      quickchartButtonEl.style.display =\n",
              "        google.colab.kernel.accessAllowed ? 'block' : 'none';\n",
              "    })();\n",
              "  </script>\n",
              "</div>\n",
              "\n",
              "    </div>\n",
              "  </div>\n"
            ],
            "application/vnd.google.colaboratory.intrinsic+json": {
              "type": "dataframe",
              "variable_name": "train",
              "summary": "{\n  \"name\": \"train\",\n  \"rows\": 45528,\n  \"fields\": [\n    {\n      \"column\": \"customer_id\",\n      \"properties\": {\n        \"dtype\": \"string\",\n        \"num_unique_values\": 45528,\n        \"samples\": [\n          \"CST_163708\",\n          \"CST_131305\",\n          \"CST_131350\"\n        ],\n        \"semantic_type\": \"\",\n        \"description\": \"\"\n      }\n    },\n    {\n      \"column\": \"name\",\n      \"properties\": {\n        \"dtype\": \"category\",\n        \"num_unique_values\": 4010,\n        \"samples\": [\n          \"Reuters\",\n          \"LaCapra Rick\",\n          \"Eric\"\n        ],\n        \"semantic_type\": \"\",\n        \"description\": \"\"\n      }\n    },\n    {\n      \"column\": \"age\",\n      \"properties\": {\n        \"dtype\": \"number\",\n        \"std\": 9,\n        \"min\": 23,\n        \"max\": 55,\n        \"num_unique_values\": 33,\n        \"samples\": [\n          44,\n          23,\n          51\n        ],\n        \"semantic_type\": \"\",\n        \"description\": \"\"\n      }\n    },\n    {\n      \"column\": \"gender\",\n      \"properties\": {\n        \"dtype\": \"category\",\n        \"num_unique_values\": 3,\n        \"samples\": [\n          \"F\",\n          \"M\",\n          \"XNA\"\n        ],\n        \"semantic_type\": \"\",\n        \"description\": \"\"\n      }\n    },\n    {\n      \"column\": \"owns_car\",\n      \"properties\": {\n        \"dtype\": \"category\",\n        \"num_unique_values\": 2,\n        \"samples\": [\n          \"Y\",\n          \"N\"\n        ],\n        \"semantic_type\": \"\",\n        \"description\": \"\"\n      }\n    },\n    {\n      \"column\": \"owns_house\",\n      \"properties\": {\n        \"dtype\": \"category\",\n        \"num_unique_values\": 2,\n        \"samples\": [\n          \"N\",\n          \"Y\"\n        ],\n        \"semantic_type\": \"\",\n        \"description\": \"\"\n      }\n    },\n    {\n      \"column\": \"no_of_children\",\n      \"properties\": {\n        \"dtype\": \"number\",\n        \"std\": 0.7240971792121731,\n        \"min\": 0.0,\n        \"max\": 9.0,\n        \"num_unique_values\": 10,\n        \"samples\": [\n          8.0,\n          1.0\n        ],\n        \"semantic_type\": \"\",\n        \"description\": \"\"\n      }\n    },\n    {\n      \"column\": \"net_yearly_income\",\n      \"properties\": {\n        \"dtype\": \"number\",\n        \"std\": 669074.0346069784,\n        \"min\": 27170.61,\n        \"max\": 140759012.73,\n        \"num_unique_values\": 45502,\n        \"samples\": [\n          96482.84,\n          323114.21\n        ],\n        \"semantic_type\": \"\",\n        \"description\": \"\"\n      }\n    },\n    {\n      \"column\": \"no_of_days_employed\",\n      \"properties\": {\n        \"dtype\": \"number\",\n        \"std\": 139323.52443415488,\n        \"min\": 2.0,\n        \"max\": 365252.0,\n        \"num_unique_values\": 7874,\n        \"samples\": [\n          4911.0,\n          2289.0\n        ],\n        \"semantic_type\": \"\",\n        \"description\": \"\"\n      }\n    },\n    {\n      \"column\": \"occupation_type\",\n      \"properties\": {\n        \"dtype\": \"category\",\n        \"num_unique_values\": 19,\n        \"samples\": [\n          \"Unknown\",\n          \"Sales staff\"\n        ],\n        \"semantic_type\": \"\",\n        \"description\": \"\"\n      }\n    },\n    {\n      \"column\": \"total_family_members\",\n      \"properties\": {\n        \"dtype\": \"number\",\n        \"std\": 0.9115724692537921,\n        \"min\": 1.0,\n        \"max\": 10.0,\n        \"num_unique_values\": 10,\n        \"samples\": [\n          9.0,\n          2.0\n        ],\n        \"semantic_type\": \"\",\n        \"description\": \"\"\n      }\n    },\n    {\n      \"column\": \"migrant_worker\",\n      \"properties\": {\n        \"dtype\": \"number\",\n        \"std\": 0.3834497700790912,\n        \"min\": 0.0,\n        \"max\": 1.0,\n        \"num_unique_values\": 2,\n        \"samples\": [\n          0.0,\n          1.0\n        ],\n        \"semantic_type\": \"\",\n        \"description\": \"\"\n      }\n    },\n    {\n      \"column\": \"yearly_debt_payments\",\n      \"properties\": {\n        \"dtype\": \"number\",\n        \"std\": 17269.72723427272,\n        \"min\": 2237.47,\n        \"max\": 328112.86,\n        \"num_unique_values\": 45251,\n        \"samples\": [\n          23373.7,\n          31901.93\n        ],\n        \"semantic_type\": \"\",\n        \"description\": \"\"\n      }\n    },\n    {\n      \"column\": \"credit_limit\",\n      \"properties\": {\n        \"dtype\": \"number\",\n        \"std\": 148784.68687788444,\n        \"min\": 4003.14,\n        \"max\": 31129970.49,\n        \"num_unique_values\": 45371,\n        \"samples\": [\n          70682.38,\n          27890.09\n        ],\n        \"semantic_type\": \"\",\n        \"description\": \"\"\n      }\n    },\n    {\n      \"column\": \"credit_limit_used(%)\",\n      \"properties\": {\n        \"dtype\": \"number\",\n        \"std\": 29,\n        \"min\": 0,\n        \"max\": 99,\n        \"num_unique_values\": 100,\n        \"samples\": [\n          2,\n          9\n        ],\n        \"semantic_type\": \"\",\n        \"description\": \"\"\n      }\n    },\n    {\n      \"column\": \"credit_score\",\n      \"properties\": {\n        \"dtype\": \"number\",\n        \"std\": 100.61974575060121,\n        \"min\": 500.0,\n        \"max\": 949.0,\n        \"num_unique_values\": 450,\n        \"samples\": [\n          562.0,\n          589.0\n        ],\n        \"semantic_type\": \"\",\n        \"description\": \"\"\n      }\n    },\n    {\n      \"column\": \"prev_defaults\",\n      \"properties\": {\n        \"dtype\": \"number\",\n        \"std\": 0,\n        \"min\": 0,\n        \"max\": 2,\n        \"num_unique_values\": 3,\n        \"samples\": [\n          2,\n          0\n        ],\n        \"semantic_type\": \"\",\n        \"description\": \"\"\n      }\n    },\n    {\n      \"column\": \"default_in_last_6months\",\n      \"properties\": {\n        \"dtype\": \"number\",\n        \"std\": 0,\n        \"min\": 0,\n        \"max\": 1,\n        \"num_unique_values\": 2,\n        \"samples\": [\n          0,\n          1\n        ],\n        \"semantic_type\": \"\",\n        \"description\": \"\"\n      }\n    },\n    {\n      \"column\": \"credit_card_default\",\n      \"properties\": {\n        \"dtype\": \"number\",\n        \"std\": 0,\n        \"min\": 0,\n        \"max\": 1,\n        \"num_unique_values\": 2,\n        \"samples\": [\n          0,\n          1\n        ],\n        \"semantic_type\": \"\",\n        \"description\": \"\"\n      }\n    }\n  ]\n}"
            }
          },
          "metadata": {},
          "execution_count": 31
        }
      ],
      "source": [
        "train = pd.read_csv('train.csv')\n",
        "train.head()\n"
      ]
    },
    {
      "cell_type": "code",
      "execution_count": 32,
      "id": "e97c2766",
      "metadata": {
        "id": "e97c2766",
        "outputId": "009a8f63-8a4c-4755-f336-b57781748cdb",
        "colab": {
          "base_uri": "https://localhost:8080/",
          "height": 178
        }
      },
      "outputs": [
        {
          "output_type": "execute_result",
          "data": {
            "text/plain": [
              "credit_card_default\n",
              "0    0.918797\n",
              "1    0.081203\n",
              "Name: proportion, dtype: float64"
            ],
            "text/html": [
              "<div>\n",
              "<style scoped>\n",
              "    .dataframe tbody tr th:only-of-type {\n",
              "        vertical-align: middle;\n",
              "    }\n",
              "\n",
              "    .dataframe tbody tr th {\n",
              "        vertical-align: top;\n",
              "    }\n",
              "\n",
              "    .dataframe thead th {\n",
              "        text-align: right;\n",
              "    }\n",
              "</style>\n",
              "<table border=\"1\" class=\"dataframe\">\n",
              "  <thead>\n",
              "    <tr style=\"text-align: right;\">\n",
              "      <th></th>\n",
              "      <th>proportion</th>\n",
              "    </tr>\n",
              "    <tr>\n",
              "      <th>credit_card_default</th>\n",
              "      <th></th>\n",
              "    </tr>\n",
              "  </thead>\n",
              "  <tbody>\n",
              "    <tr>\n",
              "      <th>0</th>\n",
              "      <td>0.918797</td>\n",
              "    </tr>\n",
              "    <tr>\n",
              "      <th>1</th>\n",
              "      <td>0.081203</td>\n",
              "    </tr>\n",
              "  </tbody>\n",
              "</table>\n",
              "</div><br><label><b>dtype:</b> float64</label>"
            ]
          },
          "metadata": {},
          "execution_count": 32
        }
      ],
      "source": [
        "train[\"credit_card_default\"].value_counts(normalize=True)"
      ]
    },
    {
      "cell_type": "code",
      "execution_count": 33,
      "id": "7f129fd7",
      "metadata": {
        "id": "7f129fd7",
        "outputId": "ab7f5e36-dc0f-4ccb-cba2-773b2be8eac2",
        "colab": {
          "base_uri": "https://localhost:8080/",
          "height": 495
        }
      },
      "outputs": [
        {
          "output_type": "execute_result",
          "data": {
            "text/plain": [
              "      customer_id              name  age gender owns_car owns_house  \\\n",
              "34126  CST_163708           Wachtel   50      F        N          Y   \n",
              "44609  CST_131305             Deepa   29      F        N          Y   \n",
              "44264  CST_131350             Jason   39      F        N          Y   \n",
              "33556  CST_106655  Gilbert Kreijger   35      F        Y          Y   \n",
              "28050  CST_154013            Slater   53      M        Y          Y   \n",
              "...           ...               ...  ...    ...      ...        ...   \n",
              "37523  CST_113336      Leika Kihara   26      F        N          Y   \n",
              "36228  CST_151817             Dixon   31      F        N          N   \n",
              "32772  CST_107659  P.J. Huffstutter   50      F        N          N   \n",
              "9762   CST_141352                an   25      M        N          Y   \n",
              "33325  CST_129867           Hyunjoo   50      F        N          N   \n",
              "\n",
              "       no_of_children  net_yearly_income  no_of_days_employed occupation_type  \\\n",
              "34126             0.0          269502.14               4181.0         Unknown   \n",
              "44609             0.0          115795.25             365250.0         Unknown   \n",
              "44264             0.0          113477.67             365241.0         Unknown   \n",
              "33556             1.0          215555.19               1882.0        Managers   \n",
              "28050             0.0          185082.22             365244.0         Unknown   \n",
              "...               ...                ...                  ...             ...   \n",
              "37523             0.0           95125.83             365244.0         Unknown   \n",
              "36228             0.0          119277.91                891.0        Laborers   \n",
              "32772             0.0          214846.93               1740.0     Sales staff   \n",
              "9762              0.0          175005.61                653.0        Laborers   \n",
              "33325             0.0          139512.15                939.0      Core staff   \n",
              "\n",
              "       total_family_members  migrant_worker  yearly_debt_payments  \\\n",
              "34126                   1.0             0.0              17440.44   \n",
              "44609                   2.0             0.0              28962.21   \n",
              "44264                   2.0             0.0              27463.96   \n",
              "33556                   3.0             0.0              47863.75   \n",
              "28050                   2.0             0.0              47185.73   \n",
              "...                     ...             ...                   ...   \n",
              "37523                   1.0             0.0              18408.08   \n",
              "36228                   2.0             0.0              18243.68   \n",
              "32772                   2.0             0.0              16482.42   \n",
              "9762                    2.0             0.0              19366.06   \n",
              "33325                   1.0             1.0              17139.86   \n",
              "\n",
              "       credit_limit  credit_limit_used(%)  credit_score  prev_defaults  \\\n",
              "34126      36017.45                    23         807.0              0   \n",
              "44609      21781.38                    60         858.0              0   \n",
              "44264      27485.15                    81         667.0              0   \n",
              "33556      25054.25                    32         690.0              0   \n",
              "28050      65186.23                    65         721.0              0   \n",
              "...             ...                   ...           ...            ...   \n",
              "37523      26632.82                     2         790.0              0   \n",
              "36228      16150.12                    18         791.0              0   \n",
              "32772      27253.76                    16         709.0              0   \n",
              "9762       35727.99                     9         691.0              0   \n",
              "33325      23630.38                    49         791.0              0   \n",
              "\n",
              "       default_in_last_6months  credit_card_default  \n",
              "34126                        0                    0  \n",
              "44609                        0                    0  \n",
              "44264                        0                    1  \n",
              "33556                        0                    0  \n",
              "28050                        0                    0  \n",
              "...                        ...                  ...  \n",
              "37523                        0                    0  \n",
              "36228                        0                    0  \n",
              "32772                        0                    0  \n",
              "9762                         0                    0  \n",
              "33325                        0                    0  \n",
              "\n",
              "[30000 rows x 19 columns]"
            ],
            "text/html": [
              "\n",
              "  <div id=\"df-efee8e02-c635-42a4-abe6-7c581e634c20\" class=\"colab-df-container\">\n",
              "    <div>\n",
              "<style scoped>\n",
              "    .dataframe tbody tr th:only-of-type {\n",
              "        vertical-align: middle;\n",
              "    }\n",
              "\n",
              "    .dataframe tbody tr th {\n",
              "        vertical-align: top;\n",
              "    }\n",
              "\n",
              "    .dataframe thead th {\n",
              "        text-align: right;\n",
              "    }\n",
              "</style>\n",
              "<table border=\"1\" class=\"dataframe\">\n",
              "  <thead>\n",
              "    <tr style=\"text-align: right;\">\n",
              "      <th></th>\n",
              "      <th>customer_id</th>\n",
              "      <th>name</th>\n",
              "      <th>age</th>\n",
              "      <th>gender</th>\n",
              "      <th>owns_car</th>\n",
              "      <th>owns_house</th>\n",
              "      <th>no_of_children</th>\n",
              "      <th>net_yearly_income</th>\n",
              "      <th>no_of_days_employed</th>\n",
              "      <th>occupation_type</th>\n",
              "      <th>total_family_members</th>\n",
              "      <th>migrant_worker</th>\n",
              "      <th>yearly_debt_payments</th>\n",
              "      <th>credit_limit</th>\n",
              "      <th>credit_limit_used(%)</th>\n",
              "      <th>credit_score</th>\n",
              "      <th>prev_defaults</th>\n",
              "      <th>default_in_last_6months</th>\n",
              "      <th>credit_card_default</th>\n",
              "    </tr>\n",
              "  </thead>\n",
              "  <tbody>\n",
              "    <tr>\n",
              "      <th>34126</th>\n",
              "      <td>CST_163708</td>\n",
              "      <td>Wachtel</td>\n",
              "      <td>50</td>\n",
              "      <td>F</td>\n",
              "      <td>N</td>\n",
              "      <td>Y</td>\n",
              "      <td>0.0</td>\n",
              "      <td>269502.14</td>\n",
              "      <td>4181.0</td>\n",
              "      <td>Unknown</td>\n",
              "      <td>1.0</td>\n",
              "      <td>0.0</td>\n",
              "      <td>17440.44</td>\n",
              "      <td>36017.45</td>\n",
              "      <td>23</td>\n",
              "      <td>807.0</td>\n",
              "      <td>0</td>\n",
              "      <td>0</td>\n",
              "      <td>0</td>\n",
              "    </tr>\n",
              "    <tr>\n",
              "      <th>44609</th>\n",
              "      <td>CST_131305</td>\n",
              "      <td>Deepa</td>\n",
              "      <td>29</td>\n",
              "      <td>F</td>\n",
              "      <td>N</td>\n",
              "      <td>Y</td>\n",
              "      <td>0.0</td>\n",
              "      <td>115795.25</td>\n",
              "      <td>365250.0</td>\n",
              "      <td>Unknown</td>\n",
              "      <td>2.0</td>\n",
              "      <td>0.0</td>\n",
              "      <td>28962.21</td>\n",
              "      <td>21781.38</td>\n",
              "      <td>60</td>\n",
              "      <td>858.0</td>\n",
              "      <td>0</td>\n",
              "      <td>0</td>\n",
              "      <td>0</td>\n",
              "    </tr>\n",
              "    <tr>\n",
              "      <th>44264</th>\n",
              "      <td>CST_131350</td>\n",
              "      <td>Jason</td>\n",
              "      <td>39</td>\n",
              "      <td>F</td>\n",
              "      <td>N</td>\n",
              "      <td>Y</td>\n",
              "      <td>0.0</td>\n",
              "      <td>113477.67</td>\n",
              "      <td>365241.0</td>\n",
              "      <td>Unknown</td>\n",
              "      <td>2.0</td>\n",
              "      <td>0.0</td>\n",
              "      <td>27463.96</td>\n",
              "      <td>27485.15</td>\n",
              "      <td>81</td>\n",
              "      <td>667.0</td>\n",
              "      <td>0</td>\n",
              "      <td>0</td>\n",
              "      <td>1</td>\n",
              "    </tr>\n",
              "    <tr>\n",
              "      <th>33556</th>\n",
              "      <td>CST_106655</td>\n",
              "      <td>Gilbert Kreijger</td>\n",
              "      <td>35</td>\n",
              "      <td>F</td>\n",
              "      <td>Y</td>\n",
              "      <td>Y</td>\n",
              "      <td>1.0</td>\n",
              "      <td>215555.19</td>\n",
              "      <td>1882.0</td>\n",
              "      <td>Managers</td>\n",
              "      <td>3.0</td>\n",
              "      <td>0.0</td>\n",
              "      <td>47863.75</td>\n",
              "      <td>25054.25</td>\n",
              "      <td>32</td>\n",
              "      <td>690.0</td>\n",
              "      <td>0</td>\n",
              "      <td>0</td>\n",
              "      <td>0</td>\n",
              "    </tr>\n",
              "    <tr>\n",
              "      <th>28050</th>\n",
              "      <td>CST_154013</td>\n",
              "      <td>Slater</td>\n",
              "      <td>53</td>\n",
              "      <td>M</td>\n",
              "      <td>Y</td>\n",
              "      <td>Y</td>\n",
              "      <td>0.0</td>\n",
              "      <td>185082.22</td>\n",
              "      <td>365244.0</td>\n",
              "      <td>Unknown</td>\n",
              "      <td>2.0</td>\n",
              "      <td>0.0</td>\n",
              "      <td>47185.73</td>\n",
              "      <td>65186.23</td>\n",
              "      <td>65</td>\n",
              "      <td>721.0</td>\n",
              "      <td>0</td>\n",
              "      <td>0</td>\n",
              "      <td>0</td>\n",
              "    </tr>\n",
              "    <tr>\n",
              "      <th>...</th>\n",
              "      <td>...</td>\n",
              "      <td>...</td>\n",
              "      <td>...</td>\n",
              "      <td>...</td>\n",
              "      <td>...</td>\n",
              "      <td>...</td>\n",
              "      <td>...</td>\n",
              "      <td>...</td>\n",
              "      <td>...</td>\n",
              "      <td>...</td>\n",
              "      <td>...</td>\n",
              "      <td>...</td>\n",
              "      <td>...</td>\n",
              "      <td>...</td>\n",
              "      <td>...</td>\n",
              "      <td>...</td>\n",
              "      <td>...</td>\n",
              "      <td>...</td>\n",
              "      <td>...</td>\n",
              "    </tr>\n",
              "    <tr>\n",
              "      <th>37523</th>\n",
              "      <td>CST_113336</td>\n",
              "      <td>Leika Kihara</td>\n",
              "      <td>26</td>\n",
              "      <td>F</td>\n",
              "      <td>N</td>\n",
              "      <td>Y</td>\n",
              "      <td>0.0</td>\n",
              "      <td>95125.83</td>\n",
              "      <td>365244.0</td>\n",
              "      <td>Unknown</td>\n",
              "      <td>1.0</td>\n",
              "      <td>0.0</td>\n",
              "      <td>18408.08</td>\n",
              "      <td>26632.82</td>\n",
              "      <td>2</td>\n",
              "      <td>790.0</td>\n",
              "      <td>0</td>\n",
              "      <td>0</td>\n",
              "      <td>0</td>\n",
              "    </tr>\n",
              "    <tr>\n",
              "      <th>36228</th>\n",
              "      <td>CST_151817</td>\n",
              "      <td>Dixon</td>\n",
              "      <td>31</td>\n",
              "      <td>F</td>\n",
              "      <td>N</td>\n",
              "      <td>N</td>\n",
              "      <td>0.0</td>\n",
              "      <td>119277.91</td>\n",
              "      <td>891.0</td>\n",
              "      <td>Laborers</td>\n",
              "      <td>2.0</td>\n",
              "      <td>0.0</td>\n",
              "      <td>18243.68</td>\n",
              "      <td>16150.12</td>\n",
              "      <td>18</td>\n",
              "      <td>791.0</td>\n",
              "      <td>0</td>\n",
              "      <td>0</td>\n",
              "      <td>0</td>\n",
              "    </tr>\n",
              "    <tr>\n",
              "      <th>32772</th>\n",
              "      <td>CST_107659</td>\n",
              "      <td>P.J. Huffstutter</td>\n",
              "      <td>50</td>\n",
              "      <td>F</td>\n",
              "      <td>N</td>\n",
              "      <td>N</td>\n",
              "      <td>0.0</td>\n",
              "      <td>214846.93</td>\n",
              "      <td>1740.0</td>\n",
              "      <td>Sales staff</td>\n",
              "      <td>2.0</td>\n",
              "      <td>0.0</td>\n",
              "      <td>16482.42</td>\n",
              "      <td>27253.76</td>\n",
              "      <td>16</td>\n",
              "      <td>709.0</td>\n",
              "      <td>0</td>\n",
              "      <td>0</td>\n",
              "      <td>0</td>\n",
              "    </tr>\n",
              "    <tr>\n",
              "      <th>9762</th>\n",
              "      <td>CST_141352</td>\n",
              "      <td>an</td>\n",
              "      <td>25</td>\n",
              "      <td>M</td>\n",
              "      <td>N</td>\n",
              "      <td>Y</td>\n",
              "      <td>0.0</td>\n",
              "      <td>175005.61</td>\n",
              "      <td>653.0</td>\n",
              "      <td>Laborers</td>\n",
              "      <td>2.0</td>\n",
              "      <td>0.0</td>\n",
              "      <td>19366.06</td>\n",
              "      <td>35727.99</td>\n",
              "      <td>9</td>\n",
              "      <td>691.0</td>\n",
              "      <td>0</td>\n",
              "      <td>0</td>\n",
              "      <td>0</td>\n",
              "    </tr>\n",
              "    <tr>\n",
              "      <th>33325</th>\n",
              "      <td>CST_129867</td>\n",
              "      <td>Hyunjoo</td>\n",
              "      <td>50</td>\n",
              "      <td>F</td>\n",
              "      <td>N</td>\n",
              "      <td>N</td>\n",
              "      <td>0.0</td>\n",
              "      <td>139512.15</td>\n",
              "      <td>939.0</td>\n",
              "      <td>Core staff</td>\n",
              "      <td>1.0</td>\n",
              "      <td>1.0</td>\n",
              "      <td>17139.86</td>\n",
              "      <td>23630.38</td>\n",
              "      <td>49</td>\n",
              "      <td>791.0</td>\n",
              "      <td>0</td>\n",
              "      <td>0</td>\n",
              "      <td>0</td>\n",
              "    </tr>\n",
              "  </tbody>\n",
              "</table>\n",
              "<p>30000 rows × 19 columns</p>\n",
              "</div>\n",
              "    <div class=\"colab-df-buttons\">\n",
              "\n",
              "  <div class=\"colab-df-container\">\n",
              "    <button class=\"colab-df-convert\" onclick=\"convertToInteractive('df-efee8e02-c635-42a4-abe6-7c581e634c20')\"\n",
              "            title=\"Convert this dataframe to an interactive table.\"\n",
              "            style=\"display:none;\">\n",
              "\n",
              "  <svg xmlns=\"http://www.w3.org/2000/svg\" height=\"24px\" viewBox=\"0 -960 960 960\">\n",
              "    <path d=\"M120-120v-720h720v720H120Zm60-500h600v-160H180v160Zm220 220h160v-160H400v160Zm0 220h160v-160H400v160ZM180-400h160v-160H180v160Zm440 0h160v-160H620v160ZM180-180h160v-160H180v160Zm440 0h160v-160H620v160Z\"/>\n",
              "  </svg>\n",
              "    </button>\n",
              "\n",
              "  <style>\n",
              "    .colab-df-container {\n",
              "      display:flex;\n",
              "      gap: 12px;\n",
              "    }\n",
              "\n",
              "    .colab-df-convert {\n",
              "      background-color: #E8F0FE;\n",
              "      border: none;\n",
              "      border-radius: 50%;\n",
              "      cursor: pointer;\n",
              "      display: none;\n",
              "      fill: #1967D2;\n",
              "      height: 32px;\n",
              "      padding: 0 0 0 0;\n",
              "      width: 32px;\n",
              "    }\n",
              "\n",
              "    .colab-df-convert:hover {\n",
              "      background-color: #E2EBFA;\n",
              "      box-shadow: 0px 1px 2px rgba(60, 64, 67, 0.3), 0px 1px 3px 1px rgba(60, 64, 67, 0.15);\n",
              "      fill: #174EA6;\n",
              "    }\n",
              "\n",
              "    .colab-df-buttons div {\n",
              "      margin-bottom: 4px;\n",
              "    }\n",
              "\n",
              "    [theme=dark] .colab-df-convert {\n",
              "      background-color: #3B4455;\n",
              "      fill: #D2E3FC;\n",
              "    }\n",
              "\n",
              "    [theme=dark] .colab-df-convert:hover {\n",
              "      background-color: #434B5C;\n",
              "      box-shadow: 0px 1px 3px 1px rgba(0, 0, 0, 0.15);\n",
              "      filter: drop-shadow(0px 1px 2px rgba(0, 0, 0, 0.3));\n",
              "      fill: #FFFFFF;\n",
              "    }\n",
              "  </style>\n",
              "\n",
              "    <script>\n",
              "      const buttonEl =\n",
              "        document.querySelector('#df-efee8e02-c635-42a4-abe6-7c581e634c20 button.colab-df-convert');\n",
              "      buttonEl.style.display =\n",
              "        google.colab.kernel.accessAllowed ? 'block' : 'none';\n",
              "\n",
              "      async function convertToInteractive(key) {\n",
              "        const element = document.querySelector('#df-efee8e02-c635-42a4-abe6-7c581e634c20');\n",
              "        const dataTable =\n",
              "          await google.colab.kernel.invokeFunction('convertToInteractive',\n",
              "                                                    [key], {});\n",
              "        if (!dataTable) return;\n",
              "\n",
              "        const docLinkHtml = 'Like what you see? Visit the ' +\n",
              "          '<a target=\"_blank\" href=https://colab.research.google.com/notebooks/data_table.ipynb>data table notebook</a>'\n",
              "          + ' to learn more about interactive tables.';\n",
              "        element.innerHTML = '';\n",
              "        dataTable['output_type'] = 'display_data';\n",
              "        await google.colab.output.renderOutput(dataTable, element);\n",
              "        const docLink = document.createElement('div');\n",
              "        docLink.innerHTML = docLinkHtml;\n",
              "        element.appendChild(docLink);\n",
              "      }\n",
              "    </script>\n",
              "  </div>\n",
              "\n",
              "\n",
              "<div id=\"df-88a8720a-662b-4094-adac-d224e3ceb78f\">\n",
              "  <button class=\"colab-df-quickchart\" onclick=\"quickchart('df-88a8720a-662b-4094-adac-d224e3ceb78f')\"\n",
              "            title=\"Suggest charts\"\n",
              "            style=\"display:none;\">\n",
              "\n",
              "<svg xmlns=\"http://www.w3.org/2000/svg\" height=\"24px\"viewBox=\"0 0 24 24\"\n",
              "     width=\"24px\">\n",
              "    <g>\n",
              "        <path d=\"M19 3H5c-1.1 0-2 .9-2 2v14c0 1.1.9 2 2 2h14c1.1 0 2-.9 2-2V5c0-1.1-.9-2-2-2zM9 17H7v-7h2v7zm4 0h-2V7h2v10zm4 0h-2v-4h2v4z\"/>\n",
              "    </g>\n",
              "</svg>\n",
              "  </button>\n",
              "\n",
              "<style>\n",
              "  .colab-df-quickchart {\n",
              "      --bg-color: #E8F0FE;\n",
              "      --fill-color: #1967D2;\n",
              "      --hover-bg-color: #E2EBFA;\n",
              "      --hover-fill-color: #174EA6;\n",
              "      --disabled-fill-color: #AAA;\n",
              "      --disabled-bg-color: #DDD;\n",
              "  }\n",
              "\n",
              "  [theme=dark] .colab-df-quickchart {\n",
              "      --bg-color: #3B4455;\n",
              "      --fill-color: #D2E3FC;\n",
              "      --hover-bg-color: #434B5C;\n",
              "      --hover-fill-color: #FFFFFF;\n",
              "      --disabled-bg-color: #3B4455;\n",
              "      --disabled-fill-color: #666;\n",
              "  }\n",
              "\n",
              "  .colab-df-quickchart {\n",
              "    background-color: var(--bg-color);\n",
              "    border: none;\n",
              "    border-radius: 50%;\n",
              "    cursor: pointer;\n",
              "    display: none;\n",
              "    fill: var(--fill-color);\n",
              "    height: 32px;\n",
              "    padding: 0;\n",
              "    width: 32px;\n",
              "  }\n",
              "\n",
              "  .colab-df-quickchart:hover {\n",
              "    background-color: var(--hover-bg-color);\n",
              "    box-shadow: 0 1px 2px rgba(60, 64, 67, 0.3), 0 1px 3px 1px rgba(60, 64, 67, 0.15);\n",
              "    fill: var(--button-hover-fill-color);\n",
              "  }\n",
              "\n",
              "  .colab-df-quickchart-complete:disabled,\n",
              "  .colab-df-quickchart-complete:disabled:hover {\n",
              "    background-color: var(--disabled-bg-color);\n",
              "    fill: var(--disabled-fill-color);\n",
              "    box-shadow: none;\n",
              "  }\n",
              "\n",
              "  .colab-df-spinner {\n",
              "    border: 2px solid var(--fill-color);\n",
              "    border-color: transparent;\n",
              "    border-bottom-color: var(--fill-color);\n",
              "    animation:\n",
              "      spin 1s steps(1) infinite;\n",
              "  }\n",
              "\n",
              "  @keyframes spin {\n",
              "    0% {\n",
              "      border-color: transparent;\n",
              "      border-bottom-color: var(--fill-color);\n",
              "      border-left-color: var(--fill-color);\n",
              "    }\n",
              "    20% {\n",
              "      border-color: transparent;\n",
              "      border-left-color: var(--fill-color);\n",
              "      border-top-color: var(--fill-color);\n",
              "    }\n",
              "    30% {\n",
              "      border-color: transparent;\n",
              "      border-left-color: var(--fill-color);\n",
              "      border-top-color: var(--fill-color);\n",
              "      border-right-color: var(--fill-color);\n",
              "    }\n",
              "    40% {\n",
              "      border-color: transparent;\n",
              "      border-right-color: var(--fill-color);\n",
              "      border-top-color: var(--fill-color);\n",
              "    }\n",
              "    60% {\n",
              "      border-color: transparent;\n",
              "      border-right-color: var(--fill-color);\n",
              "    }\n",
              "    80% {\n",
              "      border-color: transparent;\n",
              "      border-right-color: var(--fill-color);\n",
              "      border-bottom-color: var(--fill-color);\n",
              "    }\n",
              "    90% {\n",
              "      border-color: transparent;\n",
              "      border-bottom-color: var(--fill-color);\n",
              "    }\n",
              "  }\n",
              "</style>\n",
              "\n",
              "  <script>\n",
              "    async function quickchart(key) {\n",
              "      const quickchartButtonEl =\n",
              "        document.querySelector('#' + key + ' button');\n",
              "      quickchartButtonEl.disabled = true;  // To prevent multiple clicks.\n",
              "      quickchartButtonEl.classList.add('colab-df-spinner');\n",
              "      try {\n",
              "        const charts = await google.colab.kernel.invokeFunction(\n",
              "            'suggestCharts', [key], {});\n",
              "      } catch (error) {\n",
              "        console.error('Error during call to suggestCharts:', error);\n",
              "      }\n",
              "      quickchartButtonEl.classList.remove('colab-df-spinner');\n",
              "      quickchartButtonEl.classList.add('colab-df-quickchart-complete');\n",
              "    }\n",
              "    (() => {\n",
              "      let quickchartButtonEl =\n",
              "        document.querySelector('#df-88a8720a-662b-4094-adac-d224e3ceb78f button');\n",
              "      quickchartButtonEl.style.display =\n",
              "        google.colab.kernel.accessAllowed ? 'block' : 'none';\n",
              "    })();\n",
              "  </script>\n",
              "</div>\n",
              "\n",
              "  <div id=\"id_4d19dbb1-705c-4137-aba4-468909af9a99\">\n",
              "    <style>\n",
              "      .colab-df-generate {\n",
              "        background-color: #E8F0FE;\n",
              "        border: none;\n",
              "        border-radius: 50%;\n",
              "        cursor: pointer;\n",
              "        display: none;\n",
              "        fill: #1967D2;\n",
              "        height: 32px;\n",
              "        padding: 0 0 0 0;\n",
              "        width: 32px;\n",
              "      }\n",
              "\n",
              "      .colab-df-generate:hover {\n",
              "        background-color: #E2EBFA;\n",
              "        box-shadow: 0px 1px 2px rgba(60, 64, 67, 0.3), 0px 1px 3px 1px rgba(60, 64, 67, 0.15);\n",
              "        fill: #174EA6;\n",
              "      }\n",
              "\n",
              "      [theme=dark] .colab-df-generate {\n",
              "        background-color: #3B4455;\n",
              "        fill: #D2E3FC;\n",
              "      }\n",
              "\n",
              "      [theme=dark] .colab-df-generate:hover {\n",
              "        background-color: #434B5C;\n",
              "        box-shadow: 0px 1px 3px 1px rgba(0, 0, 0, 0.15);\n",
              "        filter: drop-shadow(0px 1px 2px rgba(0, 0, 0, 0.3));\n",
              "        fill: #FFFFFF;\n",
              "      }\n",
              "    </style>\n",
              "    <button class=\"colab-df-generate\" onclick=\"generateWithVariable('df')\"\n",
              "            title=\"Generate code using this dataframe.\"\n",
              "            style=\"display:none;\">\n",
              "\n",
              "  <svg xmlns=\"http://www.w3.org/2000/svg\" height=\"24px\"viewBox=\"0 0 24 24\"\n",
              "       width=\"24px\">\n",
              "    <path d=\"M7,19H8.4L18.45,9,17,7.55,7,17.6ZM5,21V16.75L18.45,3.32a2,2,0,0,1,2.83,0l1.4,1.43a1.91,1.91,0,0,1,.58,1.4,1.91,1.91,0,0,1-.58,1.4L9.25,21ZM18.45,9,17,7.55Zm-12,3A5.31,5.31,0,0,0,4.9,8.1,5.31,5.31,0,0,0,1,6.5,5.31,5.31,0,0,0,4.9,4.9,5.31,5.31,0,0,0,6.5,1,5.31,5.31,0,0,0,8.1,4.9,5.31,5.31,0,0,0,12,6.5,5.46,5.46,0,0,0,6.5,12Z\"/>\n",
              "  </svg>\n",
              "    </button>\n",
              "    <script>\n",
              "      (() => {\n",
              "      const buttonEl =\n",
              "        document.querySelector('#id_4d19dbb1-705c-4137-aba4-468909af9a99 button.colab-df-generate');\n",
              "      buttonEl.style.display =\n",
              "        google.colab.kernel.accessAllowed ? 'block' : 'none';\n",
              "\n",
              "      buttonEl.onclick = () => {\n",
              "        google.colab.notebook.generateWithVariable('df');\n",
              "      }\n",
              "      })();\n",
              "    </script>\n",
              "  </div>\n",
              "\n",
              "    </div>\n",
              "  </div>\n"
            ],
            "application/vnd.google.colaboratory.intrinsic+json": {
              "type": "dataframe",
              "variable_name": "df",
              "summary": "{\n  \"name\": \"df\",\n  \"rows\": 30000,\n  \"fields\": [\n    {\n      \"column\": \"customer_id\",\n      \"properties\": {\n        \"dtype\": \"string\",\n        \"num_unique_values\": 30000,\n        \"samples\": [\n          \"CST_124859\",\n          \"CST_120850\",\n          \"CST_108505\"\n        ],\n        \"semantic_type\": \"\",\n        \"description\": \"\"\n      }\n    },\n    {\n      \"column\": \"name\",\n      \"properties\": {\n        \"dtype\": \"category\",\n        \"num_unique_values\": 3514,\n        \"samples\": [\n          \"Backman\",\n          \"Dowsett\",\n          \"Hyunjoo\"\n        ],\n        \"semantic_type\": \"\",\n        \"description\": \"\"\n      }\n    },\n    {\n      \"column\": \"age\",\n      \"properties\": {\n        \"dtype\": \"number\",\n        \"std\": 9,\n        \"min\": 23,\n        \"max\": 55,\n        \"num_unique_values\": 33,\n        \"samples\": [\n          55,\n          26,\n          54\n        ],\n        \"semantic_type\": \"\",\n        \"description\": \"\"\n      }\n    },\n    {\n      \"column\": \"gender\",\n      \"properties\": {\n        \"dtype\": \"category\",\n        \"num_unique_values\": 3,\n        \"samples\": [\n          \"F\",\n          \"M\",\n          \"XNA\"\n        ],\n        \"semantic_type\": \"\",\n        \"description\": \"\"\n      }\n    },\n    {\n      \"column\": \"owns_car\",\n      \"properties\": {\n        \"dtype\": \"category\",\n        \"num_unique_values\": 2,\n        \"samples\": [\n          \"Y\",\n          \"N\"\n        ],\n        \"semantic_type\": \"\",\n        \"description\": \"\"\n      }\n    },\n    {\n      \"column\": \"owns_house\",\n      \"properties\": {\n        \"dtype\": \"category\",\n        \"num_unique_values\": 2,\n        \"samples\": [\n          \"N\",\n          \"Y\"\n        ],\n        \"semantic_type\": \"\",\n        \"description\": \"\"\n      }\n    },\n    {\n      \"column\": \"no_of_children\",\n      \"properties\": {\n        \"dtype\": \"number\",\n        \"std\": 0.7244434684968231,\n        \"min\": 0.0,\n        \"max\": 9.0,\n        \"num_unique_values\": 9,\n        \"samples\": [\n          7.0,\n          1.0\n        ],\n        \"semantic_type\": \"\",\n        \"description\": \"\"\n      }\n    },\n    {\n      \"column\": \"net_yearly_income\",\n      \"properties\": {\n        \"dtype\": \"number\",\n        \"std\": 116931.58438264027,\n        \"min\": 28532.17,\n        \"max\": 4433825.02,\n        \"num_unique_values\": 29990,\n        \"samples\": [\n          245413.51,\n          241015.13\n        ],\n        \"semantic_type\": \"\",\n        \"description\": \"\"\n      }\n    },\n    {\n      \"column\": \"no_of_days_employed\",\n      \"properties\": {\n        \"dtype\": \"number\",\n        \"std\": 139203.86999445368,\n        \"min\": 2.0,\n        \"max\": 365252.0,\n        \"num_unique_values\": 6792,\n        \"samples\": [\n          2095.0,\n          4230.0\n        ],\n        \"semantic_type\": \"\",\n        \"description\": \"\"\n      }\n    },\n    {\n      \"column\": \"occupation_type\",\n      \"properties\": {\n        \"dtype\": \"category\",\n        \"num_unique_values\": 19,\n        \"samples\": [\n          \"Unknown\",\n          \"Core staff\"\n        ],\n        \"semantic_type\": \"\",\n        \"description\": \"\"\n      }\n    },\n    {\n      \"column\": \"total_family_members\",\n      \"properties\": {\n        \"dtype\": \"number\",\n        \"std\": 0.9120051682114937,\n        \"min\": 1.0,\n        \"max\": 10.0,\n        \"num_unique_values\": 10,\n        \"samples\": [\n          9.0,\n          2.0\n        ],\n        \"semantic_type\": \"\",\n        \"description\": \"\"\n      }\n    },\n    {\n      \"column\": \"migrant_worker\",\n      \"properties\": {\n        \"dtype\": \"number\",\n        \"std\": 0.3831205031621222,\n        \"min\": 0.0,\n        \"max\": 1.0,\n        \"num_unique_values\": 2,\n        \"samples\": [\n          1.0,\n          0.0\n        ],\n        \"semantic_type\": \"\",\n        \"description\": \"\"\n      }\n    },\n    {\n      \"column\": \"yearly_debt_payments\",\n      \"properties\": {\n        \"dtype\": \"number\",\n        \"std\": 17204.385521086504,\n        \"min\": 2881.98,\n        \"max\": 328112.86,\n        \"num_unique_values\": 29850,\n        \"samples\": [\n          25987.25,\n          26682.2\n        ],\n        \"semantic_type\": \"\",\n        \"description\": \"\"\n      }\n    },\n    {\n      \"column\": \"credit_limit\",\n      \"properties\": {\n        \"dtype\": \"number\",\n        \"std\": 29936.523031910518,\n        \"min\": 4030.68,\n        \"max\": 841596.19,\n        \"num_unique_values\": 29928,\n        \"samples\": [\n          17158.83,\n          52941.71\n        ],\n        \"semantic_type\": \"\",\n        \"description\": \"\"\n      }\n    },\n    {\n      \"column\": \"credit_limit_used(%)\",\n      \"properties\": {\n        \"dtype\": \"number\",\n        \"std\": 29,\n        \"min\": 0,\n        \"max\": 99,\n        \"num_unique_values\": 100,\n        \"samples\": [\n          37,\n          48\n        ],\n        \"semantic_type\": \"\",\n        \"description\": \"\"\n      }\n    },\n    {\n      \"column\": \"credit_score\",\n      \"properties\": {\n        \"dtype\": \"number\",\n        \"std\": 100.93608453695425,\n        \"min\": 500.0,\n        \"max\": 949.0,\n        \"num_unique_values\": 450,\n        \"samples\": [\n          634.0,\n          648.0\n        ],\n        \"semantic_type\": \"\",\n        \"description\": \"\"\n      }\n    },\n    {\n      \"column\": \"prev_defaults\",\n      \"properties\": {\n        \"dtype\": \"number\",\n        \"std\": 0,\n        \"min\": 0,\n        \"max\": 2,\n        \"num_unique_values\": 3,\n        \"samples\": [\n          0,\n          1\n        ],\n        \"semantic_type\": \"\",\n        \"description\": \"\"\n      }\n    },\n    {\n      \"column\": \"default_in_last_6months\",\n      \"properties\": {\n        \"dtype\": \"number\",\n        \"std\": 0,\n        \"min\": 0,\n        \"max\": 1,\n        \"num_unique_values\": 2,\n        \"samples\": [\n          1,\n          0\n        ],\n        \"semantic_type\": \"\",\n        \"description\": \"\"\n      }\n    },\n    {\n      \"column\": \"credit_card_default\",\n      \"properties\": {\n        \"dtype\": \"number\",\n        \"std\": 0,\n        \"min\": 0,\n        \"max\": 1,\n        \"num_unique_values\": 2,\n        \"samples\": [\n          1,\n          0\n        ],\n        \"semantic_type\": \"\",\n        \"description\": \"\"\n      }\n    }\n  ]\n}"
            }
          },
          "metadata": {},
          "execution_count": 33
        }
      ],
      "source": [
        "df = train.sample(n = 30000, random_state = 42, replace = False)\n",
        "df"
      ]
    },
    {
      "cell_type": "markdown",
      "id": "ff0d2b17",
      "metadata": {
        "id": "ff0d2b17"
      },
      "source": [
        "# EDA"
      ]
    },
    {
      "cell_type": "code",
      "execution_count": 34,
      "id": "71d5c1a9",
      "metadata": {
        "id": "71d5c1a9",
        "outputId": "68b50d99-1d22-46fd-eb43-10714c7fe23c",
        "colab": {
          "base_uri": "https://localhost:8080/"
        }
      },
      "outputs": [
        {
          "output_type": "stream",
          "name": "stdout",
          "text": [
            "(30000, 19)\n"
          ]
        }
      ],
      "source": [
        "# check shape and length\n",
        "print(df.shape)"
      ]
    },
    {
      "cell_type": "code",
      "execution_count": 35,
      "id": "04cc7732",
      "metadata": {
        "id": "04cc7732",
        "outputId": "4415fee5-1a56-4fe1-8ce7-9ab4a63e3678",
        "colab": {
          "base_uri": "https://localhost:8080/"
        }
      },
      "outputs": [
        {
          "output_type": "stream",
          "name": "stdout",
          "text": [
            "<class 'pandas.core.frame.DataFrame'>\n",
            "Index: 30000 entries, 34126 to 33325\n",
            "Data columns (total 19 columns):\n",
            " #   Column                   Non-Null Count  Dtype  \n",
            "---  ------                   --------------  -----  \n",
            " 0   customer_id              30000 non-null  object \n",
            " 1   name                     30000 non-null  object \n",
            " 2   age                      30000 non-null  int64  \n",
            " 3   gender                   30000 non-null  object \n",
            " 4   owns_car                 29631 non-null  object \n",
            " 5   owns_house               30000 non-null  object \n",
            " 6   no_of_children           29498 non-null  float64\n",
            " 7   net_yearly_income        30000 non-null  float64\n",
            " 8   no_of_days_employed      29685 non-null  float64\n",
            " 9   occupation_type          30000 non-null  object \n",
            " 10  total_family_members     29944 non-null  float64\n",
            " 11  migrant_worker           29947 non-null  float64\n",
            " 12  yearly_debt_payments     29938 non-null  float64\n",
            " 13  credit_limit             30000 non-null  float64\n",
            " 14  credit_limit_used(%)     30000 non-null  int64  \n",
            " 15  credit_score             29994 non-null  float64\n",
            " 16  prev_defaults            30000 non-null  int64  \n",
            " 17  default_in_last_6months  30000 non-null  int64  \n",
            " 18  credit_card_default      30000 non-null  int64  \n",
            "dtypes: float64(8), int64(5), object(6)\n",
            "memory usage: 4.6+ MB\n"
          ]
        }
      ],
      "source": [
        "df.info()"
      ]
    },
    {
      "cell_type": "markdown",
      "id": "a8665d03",
      "metadata": {
        "id": "a8665d03"
      },
      "source": [
        "## cat feats - num feats"
      ]
    },
    {
      "cell_type": "code",
      "execution_count": 36,
      "id": "0dc6dd41",
      "metadata": {
        "id": "0dc6dd41",
        "outputId": "cf54eb7f-e8f3-413f-dd92-77c5377e5b36",
        "colab": {
          "base_uri": "https://localhost:8080/"
        }
      },
      "outputs": [
        {
          "output_type": "stream",
          "name": "stdout",
          "text": [
            "no of cat feats:  6\n",
            "no of num feats:  13\n"
          ]
        }
      ],
      "source": [
        "cat_feats = [col for col in df.columns if df[col].dtypes == \"object\"]\n",
        "num_feats =  [col for col in df.columns if df[col].dtypes != \"object\"]\n",
        "\n",
        "print(\"no of cat feats: \", len(cat_feats))\n",
        "print(\"no of num feats: \", len(num_feats))"
      ]
    },
    {
      "cell_type": "code",
      "execution_count": 37,
      "id": "befab1a5",
      "metadata": {
        "id": "befab1a5",
        "outputId": "a8b943bd-15d5-4904-de03-c9555326bc75",
        "colab": {
          "base_uri": "https://localhost:8080/"
        }
      },
      "outputs": [
        {
          "output_type": "execute_result",
          "data": {
            "text/plain": [
              "['customer_id', 'name', 'gender', 'owns_car', 'owns_house', 'occupation_type']"
            ]
          },
          "metadata": {},
          "execution_count": 37
        }
      ],
      "source": [
        "cat_feats"
      ]
    },
    {
      "cell_type": "code",
      "execution_count": 38,
      "id": "fcf103b6",
      "metadata": {
        "id": "fcf103b6",
        "outputId": "bd510dad-733c-4c02-cc96-3e15cb72bdfe",
        "colab": {
          "base_uri": "https://localhost:8080/"
        }
      },
      "outputs": [
        {
          "output_type": "execute_result",
          "data": {
            "text/plain": [
              "['age',\n",
              " 'no_of_children',\n",
              " 'net_yearly_income',\n",
              " 'no_of_days_employed',\n",
              " 'total_family_members',\n",
              " 'migrant_worker',\n",
              " 'yearly_debt_payments',\n",
              " 'credit_limit',\n",
              " 'credit_limit_used(%)',\n",
              " 'credit_score',\n",
              " 'prev_defaults',\n",
              " 'default_in_last_6months',\n",
              " 'credit_card_default']"
            ]
          },
          "metadata": {},
          "execution_count": 38
        }
      ],
      "source": [
        "num_feats"
      ]
    },
    {
      "cell_type": "code",
      "execution_count": 39,
      "id": "111c9ac6",
      "metadata": {
        "id": "111c9ac6",
        "outputId": "a2ed44a5-89f5-42fb-aaa2-d9f3dc556181",
        "colab": {
          "base_uri": "https://localhost:8080/"
        }
      },
      "outputs": [
        {
          "output_type": "execute_result",
          "data": {
            "text/plain": [
              "0"
            ]
          },
          "metadata": {},
          "execution_count": 39
        }
      ],
      "source": [
        "df.duplicated().sum()"
      ]
    },
    {
      "cell_type": "markdown",
      "id": "f3ab45bd",
      "metadata": {
        "id": "f3ab45bd"
      },
      "source": [
        "## isnull()"
      ]
    },
    {
      "cell_type": "code",
      "execution_count": 40,
      "id": "3e2553cc",
      "metadata": {
        "id": "3e2553cc",
        "outputId": "e99a2d99-aade-4a65-c43f-f08ae0cf7cd4",
        "colab": {
          "base_uri": "https://localhost:8080/",
          "height": 397
        }
      },
      "outputs": [
        {
          "output_type": "execute_result",
          "data": {
            "text/plain": [
              "no_of_children             502\n",
              "owns_car                   369\n",
              "no_of_days_employed        315\n",
              "yearly_debt_payments        62\n",
              "total_family_members        56\n",
              "migrant_worker              53\n",
              "credit_score                 6\n",
              "customer_id                  0\n",
              "default_in_last_6months      0\n",
              "prev_defaults                0\n",
              "dtype: int64"
            ],
            "text/html": [
              "<div>\n",
              "<style scoped>\n",
              "    .dataframe tbody tr th:only-of-type {\n",
              "        vertical-align: middle;\n",
              "    }\n",
              "\n",
              "    .dataframe tbody tr th {\n",
              "        vertical-align: top;\n",
              "    }\n",
              "\n",
              "    .dataframe thead th {\n",
              "        text-align: right;\n",
              "    }\n",
              "</style>\n",
              "<table border=\"1\" class=\"dataframe\">\n",
              "  <thead>\n",
              "    <tr style=\"text-align: right;\">\n",
              "      <th></th>\n",
              "      <th>0</th>\n",
              "    </tr>\n",
              "  </thead>\n",
              "  <tbody>\n",
              "    <tr>\n",
              "      <th>no_of_children</th>\n",
              "      <td>502</td>\n",
              "    </tr>\n",
              "    <tr>\n",
              "      <th>owns_car</th>\n",
              "      <td>369</td>\n",
              "    </tr>\n",
              "    <tr>\n",
              "      <th>no_of_days_employed</th>\n",
              "      <td>315</td>\n",
              "    </tr>\n",
              "    <tr>\n",
              "      <th>yearly_debt_payments</th>\n",
              "      <td>62</td>\n",
              "    </tr>\n",
              "    <tr>\n",
              "      <th>total_family_members</th>\n",
              "      <td>56</td>\n",
              "    </tr>\n",
              "    <tr>\n",
              "      <th>migrant_worker</th>\n",
              "      <td>53</td>\n",
              "    </tr>\n",
              "    <tr>\n",
              "      <th>credit_score</th>\n",
              "      <td>6</td>\n",
              "    </tr>\n",
              "    <tr>\n",
              "      <th>customer_id</th>\n",
              "      <td>0</td>\n",
              "    </tr>\n",
              "    <tr>\n",
              "      <th>default_in_last_6months</th>\n",
              "      <td>0</td>\n",
              "    </tr>\n",
              "    <tr>\n",
              "      <th>prev_defaults</th>\n",
              "      <td>0</td>\n",
              "    </tr>\n",
              "  </tbody>\n",
              "</table>\n",
              "</div><br><label><b>dtype:</b> int64</label>"
            ]
          },
          "metadata": {},
          "execution_count": 40
        }
      ],
      "source": [
        "df.isnull().sum().sort_values(ascending=False).head(10)"
      ]
    },
    {
      "cell_type": "markdown",
      "id": "f6dd6db4",
      "metadata": {
        "id": "f6dd6db4"
      },
      "source": [
        "## Xem biến trạng thái default"
      ]
    },
    {
      "cell_type": "code",
      "execution_count": 41,
      "id": "8dd124d3",
      "metadata": {
        "id": "8dd124d3",
        "outputId": "e348990a-2d26-43bd-c453-ff9776a3c297",
        "colab": {
          "base_uri": "https://localhost:8080/",
          "height": 178
        }
      },
      "outputs": [
        {
          "output_type": "execute_result",
          "data": {
            "text/plain": [
              "credit_card_default\n",
              "0    27537\n",
              "1     2463\n",
              "Name: count, dtype: int64"
            ],
            "text/html": [
              "<div>\n",
              "<style scoped>\n",
              "    .dataframe tbody tr th:only-of-type {\n",
              "        vertical-align: middle;\n",
              "    }\n",
              "\n",
              "    .dataframe tbody tr th {\n",
              "        vertical-align: top;\n",
              "    }\n",
              "\n",
              "    .dataframe thead th {\n",
              "        text-align: right;\n",
              "    }\n",
              "</style>\n",
              "<table border=\"1\" class=\"dataframe\">\n",
              "  <thead>\n",
              "    <tr style=\"text-align: right;\">\n",
              "      <th></th>\n",
              "      <th>count</th>\n",
              "    </tr>\n",
              "    <tr>\n",
              "      <th>credit_card_default</th>\n",
              "      <th></th>\n",
              "    </tr>\n",
              "  </thead>\n",
              "  <tbody>\n",
              "    <tr>\n",
              "      <th>0</th>\n",
              "      <td>27537</td>\n",
              "    </tr>\n",
              "    <tr>\n",
              "      <th>1</th>\n",
              "      <td>2463</td>\n",
              "    </tr>\n",
              "  </tbody>\n",
              "</table>\n",
              "</div><br><label><b>dtype:</b> int64</label>"
            ]
          },
          "metadata": {},
          "execution_count": 41
        }
      ],
      "source": [
        "df[\"credit_card_default\"].value_counts()"
      ]
    },
    {
      "cell_type": "code",
      "execution_count": 42,
      "id": "34f7cb29",
      "metadata": {
        "id": "34f7cb29",
        "outputId": "8cca1008-dd1c-46c1-dd9e-071f5013d73e",
        "colab": {
          "base_uri": "https://localhost:8080/",
          "height": 178
        }
      },
      "outputs": [
        {
          "output_type": "execute_result",
          "data": {
            "text/plain": [
              "credit_card_default\n",
              "0    0.9179\n",
              "1    0.0821\n",
              "Name: proportion, dtype: float64"
            ],
            "text/html": [
              "<div>\n",
              "<style scoped>\n",
              "    .dataframe tbody tr th:only-of-type {\n",
              "        vertical-align: middle;\n",
              "    }\n",
              "\n",
              "    .dataframe tbody tr th {\n",
              "        vertical-align: top;\n",
              "    }\n",
              "\n",
              "    .dataframe thead th {\n",
              "        text-align: right;\n",
              "    }\n",
              "</style>\n",
              "<table border=\"1\" class=\"dataframe\">\n",
              "  <thead>\n",
              "    <tr style=\"text-align: right;\">\n",
              "      <th></th>\n",
              "      <th>proportion</th>\n",
              "    </tr>\n",
              "    <tr>\n",
              "      <th>credit_card_default</th>\n",
              "      <th></th>\n",
              "    </tr>\n",
              "  </thead>\n",
              "  <tbody>\n",
              "    <tr>\n",
              "      <th>0</th>\n",
              "      <td>0.9179</td>\n",
              "    </tr>\n",
              "    <tr>\n",
              "      <th>1</th>\n",
              "      <td>0.0821</td>\n",
              "    </tr>\n",
              "  </tbody>\n",
              "</table>\n",
              "</div><br><label><b>dtype:</b> float64</label>"
            ]
          },
          "metadata": {},
          "execution_count": 42
        }
      ],
      "source": [
        "df[\"credit_card_default\"].value_counts(normalize=True)"
      ]
    },
    {
      "cell_type": "markdown",
      "id": "c678be38",
      "metadata": {
        "id": "c678be38"
      },
      "source": [
        "## Fillnan: Categorical features"
      ]
    },
    {
      "cell_type": "code",
      "execution_count": 43,
      "id": "dfda43e8",
      "metadata": {
        "id": "dfda43e8",
        "outputId": "ac860d5c-982f-4103-9253-94422899cd7f",
        "colab": {
          "base_uri": "https://localhost:8080/",
          "height": 272
        }
      },
      "outputs": [
        {
          "output_type": "execute_result",
          "data": {
            "text/plain": [
              "customer_id          0\n",
              "name                 0\n",
              "gender               0\n",
              "owns_car           369\n",
              "owns_house           0\n",
              "occupation_type      0\n",
              "dtype: int64"
            ],
            "text/html": [
              "<div>\n",
              "<style scoped>\n",
              "    .dataframe tbody tr th:only-of-type {\n",
              "        vertical-align: middle;\n",
              "    }\n",
              "\n",
              "    .dataframe tbody tr th {\n",
              "        vertical-align: top;\n",
              "    }\n",
              "\n",
              "    .dataframe thead th {\n",
              "        text-align: right;\n",
              "    }\n",
              "</style>\n",
              "<table border=\"1\" class=\"dataframe\">\n",
              "  <thead>\n",
              "    <tr style=\"text-align: right;\">\n",
              "      <th></th>\n",
              "      <th>0</th>\n",
              "    </tr>\n",
              "  </thead>\n",
              "  <tbody>\n",
              "    <tr>\n",
              "      <th>customer_id</th>\n",
              "      <td>0</td>\n",
              "    </tr>\n",
              "    <tr>\n",
              "      <th>name</th>\n",
              "      <td>0</td>\n",
              "    </tr>\n",
              "    <tr>\n",
              "      <th>gender</th>\n",
              "      <td>0</td>\n",
              "    </tr>\n",
              "    <tr>\n",
              "      <th>owns_car</th>\n",
              "      <td>369</td>\n",
              "    </tr>\n",
              "    <tr>\n",
              "      <th>owns_house</th>\n",
              "      <td>0</td>\n",
              "    </tr>\n",
              "    <tr>\n",
              "      <th>occupation_type</th>\n",
              "      <td>0</td>\n",
              "    </tr>\n",
              "  </tbody>\n",
              "</table>\n",
              "</div><br><label><b>dtype:</b> int64</label>"
            ]
          },
          "metadata": {},
          "execution_count": 43
        }
      ],
      "source": [
        "df[cat_feats].isnull().sum()"
      ]
    },
    {
      "cell_type": "code",
      "execution_count": 44,
      "id": "398b6c2b",
      "metadata": {
        "id": "398b6c2b",
        "outputId": "dc8b3821-fd69-4faf-fb24-c283e996a706",
        "colab": {
          "base_uri": "https://localhost:8080/"
        }
      },
      "outputs": [
        {
          "output_type": "stream",
          "name": "stdout",
          "text": [
            "Column Name: customer_id\n",
            "customer_id\n",
            "CST_163708    0.000033\n",
            "CST_131964    0.000033\n",
            "CST_162494    0.000033\n",
            "CST_138114    0.000033\n",
            "CST_102185    0.000033\n",
            "                ...   \n",
            "CST_148239    0.000033\n",
            "CST_130171    0.000033\n",
            "CST_132131    0.000033\n",
            "CST_112807    0.000033\n",
            "CST_129867    0.000033\n",
            "Name: proportion, Length: 30000, dtype: float64\n",
            "\n",
            "\n",
            "Column Name: name\n",
            "name\n",
            "Jonathan            0.004367\n",
            "Jonathan Stempel    0.004133\n",
            "Jessica             0.003600\n",
            "Sarah               0.003533\n",
            "David               0.003467\n",
            "                      ...   \n",
            "Baker Jonathan      0.000033\n",
            "Joshua Franklin     0.000033\n",
            "Fathiya Dahrul      0.000033\n",
            "Becker              0.000033\n",
            "Olga Dzyubenko      0.000033\n",
            "Name: proportion, Length: 3514, dtype: float64\n",
            "\n",
            "\n",
            "Column Name: gender\n",
            "gender\n",
            "F      0.657700\n",
            "M      0.342267\n",
            "XNA    0.000033\n",
            "Name: proportion, dtype: float64\n",
            "\n",
            "\n",
            "Column Name: owns_car\n",
            "owns_car\n",
            "N    0.660862\n",
            "Y    0.339138\n",
            "Name: proportion, dtype: float64\n",
            "\n",
            "\n",
            "Column Name: owns_house\n",
            "owns_house\n",
            "Y    0.6962\n",
            "N    0.3038\n",
            "Name: proportion, dtype: float64\n",
            "\n",
            "\n",
            "Column Name: occupation_type\n",
            "occupation_type\n",
            "Unknown                  0.314500\n",
            "Laborers                 0.178200\n",
            "Sales staff              0.103000\n",
            "Core staff               0.089900\n",
            "Managers                 0.069033\n",
            "Drivers                  0.060767\n",
            "High skill tech staff    0.037567\n",
            "Accountants              0.031433\n",
            "Medicine staff           0.028067\n",
            "Security staff           0.022100\n",
            "Cooking staff            0.019667\n",
            "Cleaning staff           0.015000\n",
            "Private service staff    0.008467\n",
            "Low-skill Laborers       0.007633\n",
            "Secretaries              0.004700\n",
            "Waiters/barmen staff     0.004600\n",
            "Realty agents            0.002000\n",
            "HR staff                 0.001700\n",
            "IT staff                 0.001667\n",
            "Name: proportion, dtype: float64\n",
            "\n",
            "\n"
          ]
        }
      ],
      "source": [
        "for i in cat_feats:\n",
        "    print(\"Column Name:\",i)\n",
        "    print(df[i].value_counts(normalize=True))\n",
        "    print(\"\\n\")"
      ]
    },
    {
      "cell_type": "markdown",
      "id": "4999f7d0",
      "metadata": {
        "id": "4999f7d0"
      },
      "source": [
        "As there are missing values mostly less than 2%, so, let us impute all missing values with statistical way.\n",
        "That is, FillNA by MODE if it is categorical variable and FillNA by MEDIAN if it is numerical variable"
      ]
    },
    {
      "cell_type": "markdown",
      "id": "e03b55f0",
      "metadata": {
        "id": "e03b55f0"
      },
      "source": [
        "### Gender"
      ]
    },
    {
      "cell_type": "code",
      "execution_count": 45,
      "id": "9c659769",
      "metadata": {
        "id": "9c659769",
        "outputId": "1e71cb88-0cc6-48a4-8918-dc0efa82cb30",
        "colab": {
          "base_uri": "https://localhost:8080/",
          "height": 100
        }
      },
      "outputs": [
        {
          "output_type": "execute_result",
          "data": {
            "text/plain": [
              "      customer_id    name  age gender owns_car owns_house  no_of_children  \\\n",
              "28498  CST_144669  ernard   52    XNA        N          Y             2.0   \n",
              "\n",
              "       net_yearly_income  no_of_days_employed     occupation_type  \\\n",
              "28498          203596.95               2806.0  Low-skill Laborers   \n",
              "\n",
              "       total_family_members  migrant_worker  yearly_debt_payments  \\\n",
              "28498                   4.0             0.0               14700.2   \n",
              "\n",
              "       credit_limit  credit_limit_used(%)  credit_score  prev_defaults  \\\n",
              "28498      65487.34                    40         669.0              0   \n",
              "\n",
              "       default_in_last_6months  credit_card_default  \n",
              "28498                        0                    0  "
            ],
            "text/html": [
              "\n",
              "  <div id=\"df-878b5fa6-1aab-4963-ab2f-d9d12096602a\" class=\"colab-df-container\">\n",
              "    <div>\n",
              "<style scoped>\n",
              "    .dataframe tbody tr th:only-of-type {\n",
              "        vertical-align: middle;\n",
              "    }\n",
              "\n",
              "    .dataframe tbody tr th {\n",
              "        vertical-align: top;\n",
              "    }\n",
              "\n",
              "    .dataframe thead th {\n",
              "        text-align: right;\n",
              "    }\n",
              "</style>\n",
              "<table border=\"1\" class=\"dataframe\">\n",
              "  <thead>\n",
              "    <tr style=\"text-align: right;\">\n",
              "      <th></th>\n",
              "      <th>customer_id</th>\n",
              "      <th>name</th>\n",
              "      <th>age</th>\n",
              "      <th>gender</th>\n",
              "      <th>owns_car</th>\n",
              "      <th>owns_house</th>\n",
              "      <th>no_of_children</th>\n",
              "      <th>net_yearly_income</th>\n",
              "      <th>no_of_days_employed</th>\n",
              "      <th>occupation_type</th>\n",
              "      <th>total_family_members</th>\n",
              "      <th>migrant_worker</th>\n",
              "      <th>yearly_debt_payments</th>\n",
              "      <th>credit_limit</th>\n",
              "      <th>credit_limit_used(%)</th>\n",
              "      <th>credit_score</th>\n",
              "      <th>prev_defaults</th>\n",
              "      <th>default_in_last_6months</th>\n",
              "      <th>credit_card_default</th>\n",
              "    </tr>\n",
              "  </thead>\n",
              "  <tbody>\n",
              "    <tr>\n",
              "      <th>28498</th>\n",
              "      <td>CST_144669</td>\n",
              "      <td>ernard</td>\n",
              "      <td>52</td>\n",
              "      <td>XNA</td>\n",
              "      <td>N</td>\n",
              "      <td>Y</td>\n",
              "      <td>2.0</td>\n",
              "      <td>203596.95</td>\n",
              "      <td>2806.0</td>\n",
              "      <td>Low-skill Laborers</td>\n",
              "      <td>4.0</td>\n",
              "      <td>0.0</td>\n",
              "      <td>14700.2</td>\n",
              "      <td>65487.34</td>\n",
              "      <td>40</td>\n",
              "      <td>669.0</td>\n",
              "      <td>0</td>\n",
              "      <td>0</td>\n",
              "      <td>0</td>\n",
              "    </tr>\n",
              "  </tbody>\n",
              "</table>\n",
              "</div>\n",
              "    <div class=\"colab-df-buttons\">\n",
              "\n",
              "  <div class=\"colab-df-container\">\n",
              "    <button class=\"colab-df-convert\" onclick=\"convertToInteractive('df-878b5fa6-1aab-4963-ab2f-d9d12096602a')\"\n",
              "            title=\"Convert this dataframe to an interactive table.\"\n",
              "            style=\"display:none;\">\n",
              "\n",
              "  <svg xmlns=\"http://www.w3.org/2000/svg\" height=\"24px\" viewBox=\"0 -960 960 960\">\n",
              "    <path d=\"M120-120v-720h720v720H120Zm60-500h600v-160H180v160Zm220 220h160v-160H400v160Zm0 220h160v-160H400v160ZM180-400h160v-160H180v160Zm440 0h160v-160H620v160ZM180-180h160v-160H180v160Zm440 0h160v-160H620v160Z\"/>\n",
              "  </svg>\n",
              "    </button>\n",
              "\n",
              "  <style>\n",
              "    .colab-df-container {\n",
              "      display:flex;\n",
              "      gap: 12px;\n",
              "    }\n",
              "\n",
              "    .colab-df-convert {\n",
              "      background-color: #E8F0FE;\n",
              "      border: none;\n",
              "      border-radius: 50%;\n",
              "      cursor: pointer;\n",
              "      display: none;\n",
              "      fill: #1967D2;\n",
              "      height: 32px;\n",
              "      padding: 0 0 0 0;\n",
              "      width: 32px;\n",
              "    }\n",
              "\n",
              "    .colab-df-convert:hover {\n",
              "      background-color: #E2EBFA;\n",
              "      box-shadow: 0px 1px 2px rgba(60, 64, 67, 0.3), 0px 1px 3px 1px rgba(60, 64, 67, 0.15);\n",
              "      fill: #174EA6;\n",
              "    }\n",
              "\n",
              "    .colab-df-buttons div {\n",
              "      margin-bottom: 4px;\n",
              "    }\n",
              "\n",
              "    [theme=dark] .colab-df-convert {\n",
              "      background-color: #3B4455;\n",
              "      fill: #D2E3FC;\n",
              "    }\n",
              "\n",
              "    [theme=dark] .colab-df-convert:hover {\n",
              "      background-color: #434B5C;\n",
              "      box-shadow: 0px 1px 3px 1px rgba(0, 0, 0, 0.15);\n",
              "      filter: drop-shadow(0px 1px 2px rgba(0, 0, 0, 0.3));\n",
              "      fill: #FFFFFF;\n",
              "    }\n",
              "  </style>\n",
              "\n",
              "    <script>\n",
              "      const buttonEl =\n",
              "        document.querySelector('#df-878b5fa6-1aab-4963-ab2f-d9d12096602a button.colab-df-convert');\n",
              "      buttonEl.style.display =\n",
              "        google.colab.kernel.accessAllowed ? 'block' : 'none';\n",
              "\n",
              "      async function convertToInteractive(key) {\n",
              "        const element = document.querySelector('#df-878b5fa6-1aab-4963-ab2f-d9d12096602a');\n",
              "        const dataTable =\n",
              "          await google.colab.kernel.invokeFunction('convertToInteractive',\n",
              "                                                    [key], {});\n",
              "        if (!dataTable) return;\n",
              "\n",
              "        const docLinkHtml = 'Like what you see? Visit the ' +\n",
              "          '<a target=\"_blank\" href=https://colab.research.google.com/notebooks/data_table.ipynb>data table notebook</a>'\n",
              "          + ' to learn more about interactive tables.';\n",
              "        element.innerHTML = '';\n",
              "        dataTable['output_type'] = 'display_data';\n",
              "        await google.colab.output.renderOutput(dataTable, element);\n",
              "        const docLink = document.createElement('div');\n",
              "        docLink.innerHTML = docLinkHtml;\n",
              "        element.appendChild(docLink);\n",
              "      }\n",
              "    </script>\n",
              "  </div>\n",
              "\n",
              "\n",
              "    </div>\n",
              "  </div>\n"
            ],
            "application/vnd.google.colaboratory.intrinsic+json": {
              "type": "dataframe",
              "summary": "{\n  \"name\": \"df[df['gender'] == 'XNA']\",\n  \"rows\": 1,\n  \"fields\": [\n    {\n      \"column\": \"customer_id\",\n      \"properties\": {\n        \"dtype\": \"string\",\n        \"num_unique_values\": 1,\n        \"samples\": [\n          \"CST_144669\"\n        ],\n        \"semantic_type\": \"\",\n        \"description\": \"\"\n      }\n    },\n    {\n      \"column\": \"name\",\n      \"properties\": {\n        \"dtype\": \"string\",\n        \"num_unique_values\": 1,\n        \"samples\": [\n          \"ernard\"\n        ],\n        \"semantic_type\": \"\",\n        \"description\": \"\"\n      }\n    },\n    {\n      \"column\": \"age\",\n      \"properties\": {\n        \"dtype\": \"number\",\n        \"std\": null,\n        \"min\": 52,\n        \"max\": 52,\n        \"num_unique_values\": 1,\n        \"samples\": [\n          52\n        ],\n        \"semantic_type\": \"\",\n        \"description\": \"\"\n      }\n    },\n    {\n      \"column\": \"gender\",\n      \"properties\": {\n        \"dtype\": \"string\",\n        \"num_unique_values\": 1,\n        \"samples\": [\n          \"XNA\"\n        ],\n        \"semantic_type\": \"\",\n        \"description\": \"\"\n      }\n    },\n    {\n      \"column\": \"owns_car\",\n      \"properties\": {\n        \"dtype\": \"string\",\n        \"num_unique_values\": 1,\n        \"samples\": [\n          \"N\"\n        ],\n        \"semantic_type\": \"\",\n        \"description\": \"\"\n      }\n    },\n    {\n      \"column\": \"owns_house\",\n      \"properties\": {\n        \"dtype\": \"string\",\n        \"num_unique_values\": 1,\n        \"samples\": [\n          \"Y\"\n        ],\n        \"semantic_type\": \"\",\n        \"description\": \"\"\n      }\n    },\n    {\n      \"column\": \"no_of_children\",\n      \"properties\": {\n        \"dtype\": \"number\",\n        \"std\": null,\n        \"min\": 2.0,\n        \"max\": 2.0,\n        \"num_unique_values\": 1,\n        \"samples\": [\n          2.0\n        ],\n        \"semantic_type\": \"\",\n        \"description\": \"\"\n      }\n    },\n    {\n      \"column\": \"net_yearly_income\",\n      \"properties\": {\n        \"dtype\": \"number\",\n        \"std\": null,\n        \"min\": 203596.95,\n        \"max\": 203596.95,\n        \"num_unique_values\": 1,\n        \"samples\": [\n          203596.95\n        ],\n        \"semantic_type\": \"\",\n        \"description\": \"\"\n      }\n    },\n    {\n      \"column\": \"no_of_days_employed\",\n      \"properties\": {\n        \"dtype\": \"number\",\n        \"std\": null,\n        \"min\": 2806.0,\n        \"max\": 2806.0,\n        \"num_unique_values\": 1,\n        \"samples\": [\n          2806.0\n        ],\n        \"semantic_type\": \"\",\n        \"description\": \"\"\n      }\n    },\n    {\n      \"column\": \"occupation_type\",\n      \"properties\": {\n        \"dtype\": \"string\",\n        \"num_unique_values\": 1,\n        \"samples\": [\n          \"Low-skill Laborers\"\n        ],\n        \"semantic_type\": \"\",\n        \"description\": \"\"\n      }\n    },\n    {\n      \"column\": \"total_family_members\",\n      \"properties\": {\n        \"dtype\": \"number\",\n        \"std\": null,\n        \"min\": 4.0,\n        \"max\": 4.0,\n        \"num_unique_values\": 1,\n        \"samples\": [\n          4.0\n        ],\n        \"semantic_type\": \"\",\n        \"description\": \"\"\n      }\n    },\n    {\n      \"column\": \"migrant_worker\",\n      \"properties\": {\n        \"dtype\": \"number\",\n        \"std\": null,\n        \"min\": 0.0,\n        \"max\": 0.0,\n        \"num_unique_values\": 1,\n        \"samples\": [\n          0.0\n        ],\n        \"semantic_type\": \"\",\n        \"description\": \"\"\n      }\n    },\n    {\n      \"column\": \"yearly_debt_payments\",\n      \"properties\": {\n        \"dtype\": \"number\",\n        \"std\": null,\n        \"min\": 14700.2,\n        \"max\": 14700.2,\n        \"num_unique_values\": 1,\n        \"samples\": [\n          14700.2\n        ],\n        \"semantic_type\": \"\",\n        \"description\": \"\"\n      }\n    },\n    {\n      \"column\": \"credit_limit\",\n      \"properties\": {\n        \"dtype\": \"number\",\n        \"std\": null,\n        \"min\": 65487.34,\n        \"max\": 65487.34,\n        \"num_unique_values\": 1,\n        \"samples\": [\n          65487.34\n        ],\n        \"semantic_type\": \"\",\n        \"description\": \"\"\n      }\n    },\n    {\n      \"column\": \"credit_limit_used(%)\",\n      \"properties\": {\n        \"dtype\": \"number\",\n        \"std\": null,\n        \"min\": 40,\n        \"max\": 40,\n        \"num_unique_values\": 1,\n        \"samples\": [\n          40\n        ],\n        \"semantic_type\": \"\",\n        \"description\": \"\"\n      }\n    },\n    {\n      \"column\": \"credit_score\",\n      \"properties\": {\n        \"dtype\": \"number\",\n        \"std\": null,\n        \"min\": 669.0,\n        \"max\": 669.0,\n        \"num_unique_values\": 1,\n        \"samples\": [\n          669.0\n        ],\n        \"semantic_type\": \"\",\n        \"description\": \"\"\n      }\n    },\n    {\n      \"column\": \"prev_defaults\",\n      \"properties\": {\n        \"dtype\": \"number\",\n        \"std\": null,\n        \"min\": 0,\n        \"max\": 0,\n        \"num_unique_values\": 1,\n        \"samples\": [\n          0\n        ],\n        \"semantic_type\": \"\",\n        \"description\": \"\"\n      }\n    },\n    {\n      \"column\": \"default_in_last_6months\",\n      \"properties\": {\n        \"dtype\": \"number\",\n        \"std\": null,\n        \"min\": 0,\n        \"max\": 0,\n        \"num_unique_values\": 1,\n        \"samples\": [\n          0\n        ],\n        \"semantic_type\": \"\",\n        \"description\": \"\"\n      }\n    },\n    {\n      \"column\": \"credit_card_default\",\n      \"properties\": {\n        \"dtype\": \"number\",\n        \"std\": null,\n        \"min\": 0,\n        \"max\": 0,\n        \"num_unique_values\": 1,\n        \"samples\": [\n          0\n        ],\n        \"semantic_type\": \"\",\n        \"description\": \"\"\n      }\n    }\n  ]\n}"
            }
          },
          "metadata": {},
          "execution_count": 45
        }
      ],
      "source": [
        "df[df['gender'] == 'XNA']"
      ]
    },
    {
      "cell_type": "code",
      "execution_count": 46,
      "id": "715aea19",
      "metadata": {
        "id": "715aea19",
        "outputId": "98b117ba-4461-4318-87f2-3722857423c0",
        "colab": {
          "base_uri": "https://localhost:8080/",
          "height": 178
        }
      },
      "outputs": [
        {
          "output_type": "execute_result",
          "data": {
            "text/plain": [
              "gender\n",
              "F    19731\n",
              "M    10269\n",
              "Name: count, dtype: int64"
            ],
            "text/html": [
              "<div>\n",
              "<style scoped>\n",
              "    .dataframe tbody tr th:only-of-type {\n",
              "        vertical-align: middle;\n",
              "    }\n",
              "\n",
              "    .dataframe tbody tr th {\n",
              "        vertical-align: top;\n",
              "    }\n",
              "\n",
              "    .dataframe thead th {\n",
              "        text-align: right;\n",
              "    }\n",
              "</style>\n",
              "<table border=\"1\" class=\"dataframe\">\n",
              "  <thead>\n",
              "    <tr style=\"text-align: right;\">\n",
              "      <th></th>\n",
              "      <th>count</th>\n",
              "    </tr>\n",
              "    <tr>\n",
              "      <th>gender</th>\n",
              "      <th></th>\n",
              "    </tr>\n",
              "  </thead>\n",
              "  <tbody>\n",
              "    <tr>\n",
              "      <th>F</th>\n",
              "      <td>19731</td>\n",
              "    </tr>\n",
              "    <tr>\n",
              "      <th>M</th>\n",
              "      <td>10269</td>\n",
              "    </tr>\n",
              "  </tbody>\n",
              "</table>\n",
              "</div><br><label><b>dtype:</b> int64</label>"
            ]
          },
          "metadata": {},
          "execution_count": 46
        }
      ],
      "source": [
        "# change it to M as the name pronunces as Male\n",
        "df['gender'] = df['gender'].apply(lambda x: 'M' if x=='XNA' else x)\n",
        "df['gender'].value_counts()"
      ]
    },
    {
      "cell_type": "markdown",
      "id": "0e2793b7",
      "metadata": {
        "id": "0e2793b7"
      },
      "source": [
        "### Owns car"
      ]
    },
    {
      "cell_type": "code",
      "execution_count": 47,
      "id": "43b89652",
      "metadata": {
        "id": "43b89652",
        "outputId": "d6fadee0-1520-4203-be00-c1ef2c311fe4",
        "colab": {
          "base_uri": "https://localhost:8080/"
        }
      },
      "outputs": [
        {
          "output_type": "stream",
          "name": "stderr",
          "text": [
            "<ipython-input-47-2f7b9ff83468>:2: FutureWarning: A value is trying to be set on a copy of a DataFrame or Series through chained assignment using an inplace method.\n",
            "The behavior will change in pandas 3.0. This inplace method will never work because the intermediate object on which we are setting values always behaves as a copy.\n",
            "\n",
            "For example, when doing 'df[col].method(value, inplace=True)', try using 'df.method({col: value}, inplace=True)' or df[col] = df[col].method(value) instead, to perform the operation inplace on the original object.\n",
            "\n",
            "\n",
            "  df['owns_car'].fillna(df['owns_car'].mode()[0], inplace=True)\n"
          ]
        }
      ],
      "source": [
        "# fill owns_car with mode of the data\n",
        "df['owns_car'].fillna(df['owns_car'].mode()[0], inplace=True)"
      ]
    },
    {
      "cell_type": "code",
      "execution_count": 48,
      "id": "214aa9c8",
      "metadata": {
        "id": "214aa9c8",
        "outputId": "9d648fd4-3c3e-4b6f-b2d0-e8c1f24c1fca",
        "colab": {
          "base_uri": "https://localhost:8080/",
          "height": 178
        }
      },
      "outputs": [
        {
          "output_type": "execute_result",
          "data": {
            "text/plain": [
              "owns_car\n",
              "N    0.665033\n",
              "Y    0.334967\n",
              "Name: proportion, dtype: float64"
            ],
            "text/html": [
              "<div>\n",
              "<style scoped>\n",
              "    .dataframe tbody tr th:only-of-type {\n",
              "        vertical-align: middle;\n",
              "    }\n",
              "\n",
              "    .dataframe tbody tr th {\n",
              "        vertical-align: top;\n",
              "    }\n",
              "\n",
              "    .dataframe thead th {\n",
              "        text-align: right;\n",
              "    }\n",
              "</style>\n",
              "<table border=\"1\" class=\"dataframe\">\n",
              "  <thead>\n",
              "    <tr style=\"text-align: right;\">\n",
              "      <th></th>\n",
              "      <th>proportion</th>\n",
              "    </tr>\n",
              "    <tr>\n",
              "      <th>owns_car</th>\n",
              "      <th></th>\n",
              "    </tr>\n",
              "  </thead>\n",
              "  <tbody>\n",
              "    <tr>\n",
              "      <th>N</th>\n",
              "      <td>0.665033</td>\n",
              "    </tr>\n",
              "    <tr>\n",
              "      <th>Y</th>\n",
              "      <td>0.334967</td>\n",
              "    </tr>\n",
              "  </tbody>\n",
              "</table>\n",
              "</div><br><label><b>dtype:</b> float64</label>"
            ]
          },
          "metadata": {},
          "execution_count": 48
        }
      ],
      "source": [
        "df[\"owns_car\"].value_counts(normalize=True)"
      ]
    },
    {
      "cell_type": "code",
      "execution_count": 49,
      "id": "d6aeeb64",
      "metadata": {
        "id": "d6aeeb64",
        "outputId": "0c07fdcf-c7ef-47b0-f638-22918364a701",
        "colab": {
          "base_uri": "https://localhost:8080/",
          "height": 272
        }
      },
      "outputs": [
        {
          "output_type": "execute_result",
          "data": {
            "text/plain": [
              "customer_id        0\n",
              "name               0\n",
              "gender             0\n",
              "owns_car           0\n",
              "owns_house         0\n",
              "occupation_type    0\n",
              "dtype: int64"
            ],
            "text/html": [
              "<div>\n",
              "<style scoped>\n",
              "    .dataframe tbody tr th:only-of-type {\n",
              "        vertical-align: middle;\n",
              "    }\n",
              "\n",
              "    .dataframe tbody tr th {\n",
              "        vertical-align: top;\n",
              "    }\n",
              "\n",
              "    .dataframe thead th {\n",
              "        text-align: right;\n",
              "    }\n",
              "</style>\n",
              "<table border=\"1\" class=\"dataframe\">\n",
              "  <thead>\n",
              "    <tr style=\"text-align: right;\">\n",
              "      <th></th>\n",
              "      <th>0</th>\n",
              "    </tr>\n",
              "  </thead>\n",
              "  <tbody>\n",
              "    <tr>\n",
              "      <th>customer_id</th>\n",
              "      <td>0</td>\n",
              "    </tr>\n",
              "    <tr>\n",
              "      <th>name</th>\n",
              "      <td>0</td>\n",
              "    </tr>\n",
              "    <tr>\n",
              "      <th>gender</th>\n",
              "      <td>0</td>\n",
              "    </tr>\n",
              "    <tr>\n",
              "      <th>owns_car</th>\n",
              "      <td>0</td>\n",
              "    </tr>\n",
              "    <tr>\n",
              "      <th>owns_house</th>\n",
              "      <td>0</td>\n",
              "    </tr>\n",
              "    <tr>\n",
              "      <th>occupation_type</th>\n",
              "      <td>0</td>\n",
              "    </tr>\n",
              "  </tbody>\n",
              "</table>\n",
              "</div><br><label><b>dtype:</b> int64</label>"
            ]
          },
          "metadata": {},
          "execution_count": 49
        }
      ],
      "source": [
        "df[cat_feats].isnull().sum()"
      ]
    },
    {
      "cell_type": "markdown",
      "id": "dfe7f9e5",
      "metadata": {
        "id": "dfe7f9e5"
      },
      "source": [
        "## Fillnan:  Numerical features"
      ]
    },
    {
      "cell_type": "code",
      "execution_count": 50,
      "id": "c811b841",
      "metadata": {
        "id": "c811b841",
        "outputId": "5770e2a3-0e5d-413e-8c21-888444ca70fb",
        "colab": {
          "base_uri": "https://localhost:8080/",
          "height": 397
        }
      },
      "outputs": [
        {
          "output_type": "execute_result",
          "data": {
            "text/plain": [
              "no_of_children          502\n",
              "no_of_days_employed     315\n",
              "yearly_debt_payments     62\n",
              "total_family_members     56\n",
              "migrant_worker           53\n",
              "credit_score              6\n",
              "age                       0\n",
              "net_yearly_income         0\n",
              "credit_limit              0\n",
              "credit_limit_used(%)      0\n",
              "dtype: int64"
            ],
            "text/html": [
              "<div>\n",
              "<style scoped>\n",
              "    .dataframe tbody tr th:only-of-type {\n",
              "        vertical-align: middle;\n",
              "    }\n",
              "\n",
              "    .dataframe tbody tr th {\n",
              "        vertical-align: top;\n",
              "    }\n",
              "\n",
              "    .dataframe thead th {\n",
              "        text-align: right;\n",
              "    }\n",
              "</style>\n",
              "<table border=\"1\" class=\"dataframe\">\n",
              "  <thead>\n",
              "    <tr style=\"text-align: right;\">\n",
              "      <th></th>\n",
              "      <th>0</th>\n",
              "    </tr>\n",
              "  </thead>\n",
              "  <tbody>\n",
              "    <tr>\n",
              "      <th>no_of_children</th>\n",
              "      <td>502</td>\n",
              "    </tr>\n",
              "    <tr>\n",
              "      <th>no_of_days_employed</th>\n",
              "      <td>315</td>\n",
              "    </tr>\n",
              "    <tr>\n",
              "      <th>yearly_debt_payments</th>\n",
              "      <td>62</td>\n",
              "    </tr>\n",
              "    <tr>\n",
              "      <th>total_family_members</th>\n",
              "      <td>56</td>\n",
              "    </tr>\n",
              "    <tr>\n",
              "      <th>migrant_worker</th>\n",
              "      <td>53</td>\n",
              "    </tr>\n",
              "    <tr>\n",
              "      <th>credit_score</th>\n",
              "      <td>6</td>\n",
              "    </tr>\n",
              "    <tr>\n",
              "      <th>age</th>\n",
              "      <td>0</td>\n",
              "    </tr>\n",
              "    <tr>\n",
              "      <th>net_yearly_income</th>\n",
              "      <td>0</td>\n",
              "    </tr>\n",
              "    <tr>\n",
              "      <th>credit_limit</th>\n",
              "      <td>0</td>\n",
              "    </tr>\n",
              "    <tr>\n",
              "      <th>credit_limit_used(%)</th>\n",
              "      <td>0</td>\n",
              "    </tr>\n",
              "  </tbody>\n",
              "</table>\n",
              "</div><br><label><b>dtype:</b> int64</label>"
            ]
          },
          "metadata": {},
          "execution_count": 50
        }
      ],
      "source": [
        "df[num_feats].isnull().sum().sort_values(ascending=False).head(10)"
      ]
    },
    {
      "cell_type": "markdown",
      "id": "71c326e5",
      "metadata": {
        "id": "71c326e5"
      },
      "source": [
        "### no_of_days_employed"
      ]
    },
    {
      "cell_type": "code",
      "execution_count": 51,
      "id": "d8580c99",
      "metadata": {
        "id": "d8580c99"
      },
      "outputs": [],
      "source": [
        "# impute 'no_of_days_employed' with median based on 'occupation_type'\n",
        "occp_days_employed = df.groupby(by='occupation_type')['no_of_days_employed'].median()\n",
        "\n",
        "for i in occp_days_employed.index:\n",
        "    df['no_of_days_employed'] = np.where((df['no_of_days_employed'].isna()) & (df['occupation_type'] == i), occp_days_employed[i], df['no_of_days_employed'])"
      ]
    },
    {
      "cell_type": "code",
      "execution_count": 52,
      "id": "5c956b21",
      "metadata": {
        "id": "5c956b21",
        "outputId": "3822dafb-2569-427c-d2a6-678567169308",
        "colab": {
          "base_uri": "https://localhost:8080/"
        }
      },
      "outputs": [
        {
          "output_type": "execute_result",
          "data": {
            "text/plain": [
              "0"
            ]
          },
          "metadata": {},
          "execution_count": 52
        }
      ],
      "source": [
        "df.no_of_days_employed.isna().sum()"
      ]
    },
    {
      "cell_type": "markdown",
      "id": "b8f5ff43",
      "metadata": {
        "id": "b8f5ff43"
      },
      "source": [
        "### yearly_debt_payments"
      ]
    },
    {
      "cell_type": "code",
      "execution_count": 53,
      "id": "367d524d",
      "metadata": {
        "id": "367d524d"
      },
      "outputs": [],
      "source": [
        "# impute 'yearly_debt_payments' with median based on 'credit_card_default'\n",
        "yearDebt_credit = df.groupby(by='credit_card_default')['yearly_debt_payments'].median()\n",
        "for i in yearDebt_credit.index:\n",
        "    df['yearly_debt_payments'] = np.where((df['yearly_debt_payments'].isna()) & (df['credit_card_default'] == i), yearDebt_credit[i], df['yearly_debt_payments'])"
      ]
    },
    {
      "cell_type": "code",
      "execution_count": 54,
      "id": "ec7b6aac",
      "metadata": {
        "id": "ec7b6aac",
        "outputId": "9371450e-7a12-4494-b87f-2be19bb957df",
        "colab": {
          "base_uri": "https://localhost:8080/"
        }
      },
      "outputs": [
        {
          "output_type": "execute_result",
          "data": {
            "text/plain": [
              "0"
            ]
          },
          "metadata": {},
          "execution_count": 54
        }
      ],
      "source": [
        "df['yearly_debt_payments'].isna().sum()"
      ]
    },
    {
      "cell_type": "code",
      "execution_count": 55,
      "id": "b3578de4",
      "metadata": {
        "id": "b3578de4",
        "outputId": "7650c7a0-3924-4e5e-9314-d22ce0ebd9bf",
        "colab": {
          "base_uri": "https://localhost:8080/",
          "height": 241
        }
      },
      "outputs": [
        {
          "output_type": "execute_result",
          "data": {
            "text/plain": [
              "no_of_children          502\n",
              "total_family_members     56\n",
              "migrant_worker           53\n",
              "credit_score              6\n",
              "age                       0\n",
              "dtype: int64"
            ],
            "text/html": [
              "<div>\n",
              "<style scoped>\n",
              "    .dataframe tbody tr th:only-of-type {\n",
              "        vertical-align: middle;\n",
              "    }\n",
              "\n",
              "    .dataframe tbody tr th {\n",
              "        vertical-align: top;\n",
              "    }\n",
              "\n",
              "    .dataframe thead th {\n",
              "        text-align: right;\n",
              "    }\n",
              "</style>\n",
              "<table border=\"1\" class=\"dataframe\">\n",
              "  <thead>\n",
              "    <tr style=\"text-align: right;\">\n",
              "      <th></th>\n",
              "      <th>0</th>\n",
              "    </tr>\n",
              "  </thead>\n",
              "  <tbody>\n",
              "    <tr>\n",
              "      <th>no_of_children</th>\n",
              "      <td>502</td>\n",
              "    </tr>\n",
              "    <tr>\n",
              "      <th>total_family_members</th>\n",
              "      <td>56</td>\n",
              "    </tr>\n",
              "    <tr>\n",
              "      <th>migrant_worker</th>\n",
              "      <td>53</td>\n",
              "    </tr>\n",
              "    <tr>\n",
              "      <th>credit_score</th>\n",
              "      <td>6</td>\n",
              "    </tr>\n",
              "    <tr>\n",
              "      <th>age</th>\n",
              "      <td>0</td>\n",
              "    </tr>\n",
              "  </tbody>\n",
              "</table>\n",
              "</div><br><label><b>dtype:</b> int64</label>"
            ]
          },
          "metadata": {},
          "execution_count": 55
        }
      ],
      "source": [
        "df[num_feats].isnull().sum().sort_values(ascending = False).head(5)"
      ]
    },
    {
      "cell_type": "markdown",
      "id": "7705b0a8",
      "metadata": {
        "id": "7705b0a8"
      },
      "source": [
        "### migrant_worker"
      ]
    },
    {
      "cell_type": "code",
      "execution_count": 56,
      "id": "d1d47a86",
      "metadata": {
        "id": "d1d47a86",
        "outputId": "0593795f-85e0-4c73-dda2-6b2b6aa1e43e",
        "colab": {
          "base_uri": "https://localhost:8080/",
          "height": 115
        }
      },
      "outputs": [
        {
          "output_type": "execute_result",
          "data": {
            "text/plain": [
              "0    0.0\n",
              "Name: migrant_worker, dtype: float64"
            ],
            "text/html": [
              "<div>\n",
              "<style scoped>\n",
              "    .dataframe tbody tr th:only-of-type {\n",
              "        vertical-align: middle;\n",
              "    }\n",
              "\n",
              "    .dataframe tbody tr th {\n",
              "        vertical-align: top;\n",
              "    }\n",
              "\n",
              "    .dataframe thead th {\n",
              "        text-align: right;\n",
              "    }\n",
              "</style>\n",
              "<table border=\"1\" class=\"dataframe\">\n",
              "  <thead>\n",
              "    <tr style=\"text-align: right;\">\n",
              "      <th></th>\n",
              "      <th>migrant_worker</th>\n",
              "    </tr>\n",
              "  </thead>\n",
              "  <tbody>\n",
              "    <tr>\n",
              "      <th>0</th>\n",
              "      <td>0.0</td>\n",
              "    </tr>\n",
              "  </tbody>\n",
              "</table>\n",
              "</div><br><label><b>dtype:</b> float64</label>"
            ]
          },
          "metadata": {},
          "execution_count": 56
        }
      ],
      "source": [
        "df['migrant_worker'].mode()"
      ]
    },
    {
      "cell_type": "code",
      "execution_count": 57,
      "id": "5a0db41c",
      "metadata": {
        "id": "5a0db41c",
        "outputId": "c044658c-f700-41bd-ed9f-826aadc3e6f7",
        "colab": {
          "base_uri": "https://localhost:8080/"
        }
      },
      "outputs": [
        {
          "output_type": "stream",
          "name": "stderr",
          "text": [
            "<ipython-input-57-62a677eddd60>:2: FutureWarning: A value is trying to be set on a copy of a DataFrame or Series through chained assignment using an inplace method.\n",
            "The behavior will change in pandas 3.0. This inplace method will never work because the intermediate object on which we are setting values always behaves as a copy.\n",
            "\n",
            "For example, when doing 'df[col].method(value, inplace=True)', try using 'df.method({col: value}, inplace=True)' or df[col] = df[col].method(value) instead, to perform the operation inplace on the original object.\n",
            "\n",
            "\n",
            "  df['migrant_worker'].fillna(df['migrant_worker'].mode()[0], inplace=True)\n"
          ]
        },
        {
          "output_type": "execute_result",
          "data": {
            "text/plain": [
              "0"
            ]
          },
          "metadata": {},
          "execution_count": 57
        }
      ],
      "source": [
        "# imputing with mode of the data\n",
        "df['migrant_worker'].fillna(df['migrant_worker'].mode()[0], inplace=True)\n",
        "\n",
        "# check null values count\n",
        "df['migrant_worker'].isna().sum()"
      ]
    },
    {
      "cell_type": "markdown",
      "id": "7fec72b5",
      "metadata": {
        "id": "7fec72b5"
      },
      "source": [
        "### total_family_members"
      ]
    },
    {
      "cell_type": "code",
      "execution_count": 58,
      "id": "d0991a97",
      "metadata": {
        "id": "d0991a97",
        "outputId": "114f43a3-cf20-46a4-dcb6-f8a323df7024",
        "colab": {
          "base_uri": "https://localhost:8080/"
        }
      },
      "outputs": [
        {
          "output_type": "stream",
          "name": "stderr",
          "text": [
            "<ipython-input-58-621c7d92bc99>:2: FutureWarning: A value is trying to be set on a copy of a DataFrame or Series through chained assignment using an inplace method.\n",
            "The behavior will change in pandas 3.0. This inplace method will never work because the intermediate object on which we are setting values always behaves as a copy.\n",
            "\n",
            "For example, when doing 'df[col].method(value, inplace=True)', try using 'df.method({col: value}, inplace=True)' or df[col] = df[col].method(value) instead, to perform the operation inplace on the original object.\n",
            "\n",
            "\n",
            "  df['total_family_members'].fillna(df['total_family_members'].mode()[0], inplace=True)\n"
          ]
        },
        {
          "output_type": "execute_result",
          "data": {
            "text/plain": [
              "0"
            ]
          },
          "metadata": {},
          "execution_count": 58
        }
      ],
      "source": [
        "# imputing with mode of the data\n",
        "df['total_family_members'].fillna(df['total_family_members'].mode()[0], inplace=True)\n",
        "\n",
        "# check null values count\n",
        "df['total_family_members'].isna().sum()"
      ]
    },
    {
      "cell_type": "code",
      "execution_count": 59,
      "id": "f0e5cef0",
      "metadata": {
        "id": "f0e5cef0",
        "outputId": "bd01cdc4-e883-485d-d05c-142d8fa16e33",
        "colab": {
          "base_uri": "https://localhost:8080/",
          "height": 241
        }
      },
      "outputs": [
        {
          "output_type": "execute_result",
          "data": {
            "text/plain": [
              "no_of_children         502\n",
              "credit_score             6\n",
              "age                      0\n",
              "net_yearly_income        0\n",
              "no_of_days_employed      0\n",
              "dtype: int64"
            ],
            "text/html": [
              "<div>\n",
              "<style scoped>\n",
              "    .dataframe tbody tr th:only-of-type {\n",
              "        vertical-align: middle;\n",
              "    }\n",
              "\n",
              "    .dataframe tbody tr th {\n",
              "        vertical-align: top;\n",
              "    }\n",
              "\n",
              "    .dataframe thead th {\n",
              "        text-align: right;\n",
              "    }\n",
              "</style>\n",
              "<table border=\"1\" class=\"dataframe\">\n",
              "  <thead>\n",
              "    <tr style=\"text-align: right;\">\n",
              "      <th></th>\n",
              "      <th>0</th>\n",
              "    </tr>\n",
              "  </thead>\n",
              "  <tbody>\n",
              "    <tr>\n",
              "      <th>no_of_children</th>\n",
              "      <td>502</td>\n",
              "    </tr>\n",
              "    <tr>\n",
              "      <th>credit_score</th>\n",
              "      <td>6</td>\n",
              "    </tr>\n",
              "    <tr>\n",
              "      <th>age</th>\n",
              "      <td>0</td>\n",
              "    </tr>\n",
              "    <tr>\n",
              "      <th>net_yearly_income</th>\n",
              "      <td>0</td>\n",
              "    </tr>\n",
              "    <tr>\n",
              "      <th>no_of_days_employed</th>\n",
              "      <td>0</td>\n",
              "    </tr>\n",
              "  </tbody>\n",
              "</table>\n",
              "</div><br><label><b>dtype:</b> int64</label>"
            ]
          },
          "metadata": {},
          "execution_count": 59
        }
      ],
      "source": [
        "df[num_feats].isnull().sum().sort_values(ascending = False).head(5)"
      ]
    },
    {
      "cell_type": "markdown",
      "id": "b7a845d6",
      "metadata": {
        "id": "b7a845d6"
      },
      "source": [
        "### no_of_children"
      ]
    },
    {
      "cell_type": "code",
      "execution_count": 60,
      "id": "a206976a",
      "metadata": {
        "id": "a206976a",
        "outputId": "27ddbbd0-4906-450c-95dd-2874723740e9",
        "colab": {
          "base_uri": "https://localhost:8080/"
        }
      },
      "outputs": [
        {
          "output_type": "stream",
          "name": "stderr",
          "text": [
            "<ipython-input-60-674b7d9c1271>:2: FutureWarning: A value is trying to be set on a copy of a DataFrame or Series through chained assignment using an inplace method.\n",
            "The behavior will change in pandas 3.0. This inplace method will never work because the intermediate object on which we are setting values always behaves as a copy.\n",
            "\n",
            "For example, when doing 'df[col].method(value, inplace=True)', try using 'df.method({col: value}, inplace=True)' or df[col] = df[col].method(value) instead, to perform the operation inplace on the original object.\n",
            "\n",
            "\n",
            "  df['no_of_children'].fillna(df['no_of_children'].mode()[0], inplace=True)\n"
          ]
        }
      ],
      "source": [
        "# fill no_of_children with mode of the data\n",
        "df['no_of_children'].fillna(df['no_of_children'].mode()[0], inplace=True)"
      ]
    },
    {
      "cell_type": "markdown",
      "id": "3d4df298",
      "metadata": {
        "id": "3d4df298"
      },
      "source": [
        "### credit_score"
      ]
    },
    {
      "cell_type": "code",
      "execution_count": 61,
      "id": "a246b365",
      "metadata": {
        "id": "a246b365",
        "outputId": "c1508837-8612-41e5-e095-0cca0728bd0c",
        "colab": {
          "base_uri": "https://localhost:8080/"
        }
      },
      "outputs": [
        {
          "output_type": "execute_result",
          "data": {
            "text/plain": [
              "0"
            ]
          },
          "metadata": {},
          "execution_count": 61
        }
      ],
      "source": [
        "# check medians of credit_score wrt credit_card_default\n",
        "cred_score = df.groupby(by='credit_card_default')['credit_score'].median()\n",
        "\n",
        "for i in cred_score.index:\n",
        "    df['credit_score'] = np.where((df['credit_score'].isna()) & (df['credit_card_default'] == i), cred_score[i], df['credit_score'])\n",
        "\n",
        "# check for null values in 'credit_score'\n",
        "df['credit_score'].isna().sum()"
      ]
    },
    {
      "cell_type": "code",
      "execution_count": 62,
      "id": "abcde1d5",
      "metadata": {
        "id": "abcde1d5",
        "outputId": "f0843a11-5ae3-4497-eb77-8b471db1c26a",
        "colab": {
          "base_uri": "https://localhost:8080/",
          "height": 491
        }
      },
      "outputs": [
        {
          "output_type": "execute_result",
          "data": {
            "text/plain": [
              "age                        0\n",
              "no_of_children             0\n",
              "net_yearly_income          0\n",
              "no_of_days_employed        0\n",
              "total_family_members       0\n",
              "migrant_worker             0\n",
              "yearly_debt_payments       0\n",
              "credit_limit               0\n",
              "credit_limit_used(%)       0\n",
              "credit_score               0\n",
              "prev_defaults              0\n",
              "default_in_last_6months    0\n",
              "credit_card_default        0\n",
              "dtype: int64"
            ],
            "text/html": [
              "<div>\n",
              "<style scoped>\n",
              "    .dataframe tbody tr th:only-of-type {\n",
              "        vertical-align: middle;\n",
              "    }\n",
              "\n",
              "    .dataframe tbody tr th {\n",
              "        vertical-align: top;\n",
              "    }\n",
              "\n",
              "    .dataframe thead th {\n",
              "        text-align: right;\n",
              "    }\n",
              "</style>\n",
              "<table border=\"1\" class=\"dataframe\">\n",
              "  <thead>\n",
              "    <tr style=\"text-align: right;\">\n",
              "      <th></th>\n",
              "      <th>0</th>\n",
              "    </tr>\n",
              "  </thead>\n",
              "  <tbody>\n",
              "    <tr>\n",
              "      <th>age</th>\n",
              "      <td>0</td>\n",
              "    </tr>\n",
              "    <tr>\n",
              "      <th>no_of_children</th>\n",
              "      <td>0</td>\n",
              "    </tr>\n",
              "    <tr>\n",
              "      <th>net_yearly_income</th>\n",
              "      <td>0</td>\n",
              "    </tr>\n",
              "    <tr>\n",
              "      <th>no_of_days_employed</th>\n",
              "      <td>0</td>\n",
              "    </tr>\n",
              "    <tr>\n",
              "      <th>total_family_members</th>\n",
              "      <td>0</td>\n",
              "    </tr>\n",
              "    <tr>\n",
              "      <th>migrant_worker</th>\n",
              "      <td>0</td>\n",
              "    </tr>\n",
              "    <tr>\n",
              "      <th>yearly_debt_payments</th>\n",
              "      <td>0</td>\n",
              "    </tr>\n",
              "    <tr>\n",
              "      <th>credit_limit</th>\n",
              "      <td>0</td>\n",
              "    </tr>\n",
              "    <tr>\n",
              "      <th>credit_limit_used(%)</th>\n",
              "      <td>0</td>\n",
              "    </tr>\n",
              "    <tr>\n",
              "      <th>credit_score</th>\n",
              "      <td>0</td>\n",
              "    </tr>\n",
              "    <tr>\n",
              "      <th>prev_defaults</th>\n",
              "      <td>0</td>\n",
              "    </tr>\n",
              "    <tr>\n",
              "      <th>default_in_last_6months</th>\n",
              "      <td>0</td>\n",
              "    </tr>\n",
              "    <tr>\n",
              "      <th>credit_card_default</th>\n",
              "      <td>0</td>\n",
              "    </tr>\n",
              "  </tbody>\n",
              "</table>\n",
              "</div><br><label><b>dtype:</b> int64</label>"
            ]
          },
          "metadata": {},
          "execution_count": 62
        }
      ],
      "source": [
        "df[num_feats].isnull().sum().sort_values(ascending = False)"
      ]
    },
    {
      "cell_type": "code",
      "execution_count": 63,
      "id": "e68c1940",
      "metadata": {
        "id": "e68c1940",
        "outputId": "8a0693e5-8d9b-4e32-fb99-961f17bbbb49",
        "colab": {
          "base_uri": "https://localhost:8080/",
          "height": 679
        }
      },
      "outputs": [
        {
          "output_type": "execute_result",
          "data": {
            "text/plain": [
              "customer_id                0\n",
              "name                       0\n",
              "age                        0\n",
              "gender                     0\n",
              "owns_car                   0\n",
              "owns_house                 0\n",
              "no_of_children             0\n",
              "net_yearly_income          0\n",
              "no_of_days_employed        0\n",
              "occupation_type            0\n",
              "total_family_members       0\n",
              "migrant_worker             0\n",
              "yearly_debt_payments       0\n",
              "credit_limit               0\n",
              "credit_limit_used(%)       0\n",
              "credit_score               0\n",
              "prev_defaults              0\n",
              "default_in_last_6months    0\n",
              "credit_card_default        0\n",
              "dtype: int64"
            ],
            "text/html": [
              "<div>\n",
              "<style scoped>\n",
              "    .dataframe tbody tr th:only-of-type {\n",
              "        vertical-align: middle;\n",
              "    }\n",
              "\n",
              "    .dataframe tbody tr th {\n",
              "        vertical-align: top;\n",
              "    }\n",
              "\n",
              "    .dataframe thead th {\n",
              "        text-align: right;\n",
              "    }\n",
              "</style>\n",
              "<table border=\"1\" class=\"dataframe\">\n",
              "  <thead>\n",
              "    <tr style=\"text-align: right;\">\n",
              "      <th></th>\n",
              "      <th>0</th>\n",
              "    </tr>\n",
              "  </thead>\n",
              "  <tbody>\n",
              "    <tr>\n",
              "      <th>customer_id</th>\n",
              "      <td>0</td>\n",
              "    </tr>\n",
              "    <tr>\n",
              "      <th>name</th>\n",
              "      <td>0</td>\n",
              "    </tr>\n",
              "    <tr>\n",
              "      <th>age</th>\n",
              "      <td>0</td>\n",
              "    </tr>\n",
              "    <tr>\n",
              "      <th>gender</th>\n",
              "      <td>0</td>\n",
              "    </tr>\n",
              "    <tr>\n",
              "      <th>owns_car</th>\n",
              "      <td>0</td>\n",
              "    </tr>\n",
              "    <tr>\n",
              "      <th>owns_house</th>\n",
              "      <td>0</td>\n",
              "    </tr>\n",
              "    <tr>\n",
              "      <th>no_of_children</th>\n",
              "      <td>0</td>\n",
              "    </tr>\n",
              "    <tr>\n",
              "      <th>net_yearly_income</th>\n",
              "      <td>0</td>\n",
              "    </tr>\n",
              "    <tr>\n",
              "      <th>no_of_days_employed</th>\n",
              "      <td>0</td>\n",
              "    </tr>\n",
              "    <tr>\n",
              "      <th>occupation_type</th>\n",
              "      <td>0</td>\n",
              "    </tr>\n",
              "    <tr>\n",
              "      <th>total_family_members</th>\n",
              "      <td>0</td>\n",
              "    </tr>\n",
              "    <tr>\n",
              "      <th>migrant_worker</th>\n",
              "      <td>0</td>\n",
              "    </tr>\n",
              "    <tr>\n",
              "      <th>yearly_debt_payments</th>\n",
              "      <td>0</td>\n",
              "    </tr>\n",
              "    <tr>\n",
              "      <th>credit_limit</th>\n",
              "      <td>0</td>\n",
              "    </tr>\n",
              "    <tr>\n",
              "      <th>credit_limit_used(%)</th>\n",
              "      <td>0</td>\n",
              "    </tr>\n",
              "    <tr>\n",
              "      <th>credit_score</th>\n",
              "      <td>0</td>\n",
              "    </tr>\n",
              "    <tr>\n",
              "      <th>prev_defaults</th>\n",
              "      <td>0</td>\n",
              "    </tr>\n",
              "    <tr>\n",
              "      <th>default_in_last_6months</th>\n",
              "      <td>0</td>\n",
              "    </tr>\n",
              "    <tr>\n",
              "      <th>credit_card_default</th>\n",
              "      <td>0</td>\n",
              "    </tr>\n",
              "  </tbody>\n",
              "</table>\n",
              "</div><br><label><b>dtype:</b> int64</label>"
            ]
          },
          "metadata": {},
          "execution_count": 63
        }
      ],
      "source": [
        "df.isnull().sum()"
      ]
    },
    {
      "cell_type": "markdown",
      "id": "69aa4e7e",
      "metadata": {
        "id": "69aa4e7e"
      },
      "source": [
        "## Concentrated EDA"
      ]
    },
    {
      "cell_type": "code",
      "execution_count": 64,
      "id": "bf77ad20",
      "metadata": {
        "id": "bf77ad20",
        "outputId": "0b464364-f226-4659-b7f1-14684c19398a",
        "colab": {
          "base_uri": "https://localhost:8080/",
          "height": 433
        }
      },
      "outputs": [
        {
          "output_type": "display_data",
          "data": {
            "text/plain": [
              "<Figure size 640x480 with 1 Axes>"
            ],
            "image/png": "[encoded data removed]"
          },
          "metadata": {}
        }
      ],
      "source": [
        "# Ploting Credit_default ratio\n",
        "total_default_values = df.credit_card_default.value_counts(ascending=True).values\n",
        "\n",
        "plt.figure()\n",
        "plt.pie(total_default_values, labels=['Defaulter', 'Not Defaulter'], autopct='%1.1f%%', shadow=True)\n",
        "plt.title('Defaulter Ratio', fontsize=18)\n",
        "plt.show()"
      ]
    },
    {
      "cell_type": "code",
      "execution_count": 65,
      "id": "6b45788d",
      "metadata": {
        "id": "6b45788d",
        "outputId": "d68e4034-9185-4322-dfc0-d6a614f09330",
        "colab": {
          "base_uri": "https://localhost:8080/",
          "height": 640
        }
      },
      "outputs": [
        {
          "output_type": "stream",
          "name": "stderr",
          "text": [
            "<ipython-input-65-09eec931f20c>:3: UserWarning: \n",
            "\n",
            "`distplot` is a deprecated function and will be removed in seaborn v0.14.0.\n",
            "\n",
            "Please adapt your code to use either `displot` (a figure-level function with\n",
            "similar flexibility) or `histplot` (an axes-level function for histograms).\n",
            "\n",
            "For a guide to updating your code to use the new functions, please see\n",
            "https://gist.github.com/mwaskom/de44147ed2974457ad6372750bbe5751\n",
            "\n",
            "  sns.distplot(df['age'])\n"
          ]
        },
        {
          "output_type": "display_data",
          "data": {
            "text/plain": [
              "<Figure size 640x480 with 1 Axes>"
            ],
            "image/png": "[encoded data removed]"
          },
          "metadata": {}
        }
      ],
      "source": [
        "# visualize AGE feature - distplot\n",
        "plt.figure()\n",
        "sns.distplot(df['age'])\n",
        "plt.show()"
      ]
    },
    {
      "cell_type": "code",
      "execution_count": 67,
      "id": "e665f758",
      "metadata": {
        "id": "e665f758",
        "outputId": "a43aaeb2-5600-4f8b-be1e-d156e12258a3",
        "colab": {
          "base_uri": "https://localhost:8080/",
          "height": 542
        }
      },
      "outputs": [
        {
          "output_type": "display_data",
          "data": {
            "text/plain": [
              "<Figure size 700x600 with 1 Axes>"
            ],
            "image/png": "[encoded data removed]"
          },
          "metadata": {}
        }
      ],
      "source": [
        "plt.figure(figsize=[7,6])\n",
        "sns.boxplot(x=df['credit_card_default'], y=df['credit_score'])\n",
        "plt.show()\n"
      ]
    },
    {
      "cell_type": "code",
      "execution_count": 69,
      "id": "e84ec0ce",
      "metadata": {
        "id": "e84ec0ce",
        "outputId": "55ad26a9-16a0-44e9-d23f-4051a897c23e",
        "colab": {
          "base_uri": "https://localhost:8080/",
          "height": 542
        }
      },
      "outputs": [
        {
          "output_type": "display_data",
          "data": {
            "text/plain": [
              "<Figure size 700x600 with 1 Axes>"
            ],
            "image/png": "[encoded data removed]"
          },
          "metadata": {}
        }
      ],
      "source": [
        "plt.figure(figsize=[7,6])\n",
        "sns.boxplot(x=df['credit_card_default'], y=df['credit_limit_used(%)'])\n",
        "plt.show()\n"
      ]
    },
    {
      "cell_type": "code",
      "execution_count": 70,
      "id": "b39c868d",
      "metadata": {
        "id": "b39c868d",
        "outputId": "6ecb76d6-f7b1-4d5c-d2a0-dedad8904df4",
        "colab": {
          "base_uri": "https://localhost:8080/",
          "height": 462
        }
      },
      "outputs": [
        {
          "output_type": "display_data",
          "data": {
            "text/plain": [
              "<Figure size 1800x800 with 1 Axes>"
            ],
            "image/png": "[encoded data removed]"
          },
          "metadata": {}
        }
      ],
      "source": [
        "# barplots for occupation types wrt credit_default\n",
        "plt.figure(figsize=[18,8])\n",
        "sns.barplot(x=df['occupation_type'], y=df['net_yearly_income'], hue=df['credit_card_default'])\n",
        "plt.xticks(rotation=45)\n",
        "plt.show()"
      ]
    },
    {
      "cell_type": "code",
      "execution_count": 72,
      "id": "a8f1021a",
      "metadata": {
        "id": "a8f1021a",
        "outputId": "a0260060-3ac1-4e20-a9e0-14f53e22f75a",
        "colab": {
          "base_uri": "https://localhost:8080/",
          "height": 542
        }
      },
      "outputs": [
        {
          "output_type": "display_data",
          "data": {
            "text/plain": [
              "<Figure size 700x600 with 1 Axes>"
            ],
            "image/png": "[encoded data removed]"
          },
          "metadata": {}
        }
      ],
      "source": [
        "plt.figure(figsize=[7,6])\n",
        "sns.countplot(x=\"gender\", hue=\"credit_card_default\", data=df)\n",
        "plt.show()\n"
      ]
    },
    {
      "cell_type": "code",
      "execution_count": 73,
      "id": "cf89a3b1",
      "metadata": {
        "id": "cf89a3b1",
        "outputId": "3289c145-bb14-4ef3-9c95-64f239c2c6de",
        "colab": {
          "base_uri": "https://localhost:8080/",
          "height": 658
        }
      },
      "outputs": [
        {
          "output_type": "display_data",
          "data": {
            "text/plain": [
              "<Figure size 1600x1200 with 5 Axes>"
            ],
            "image/png": "[encoded data removed]"
          },
          "metadata": {}
        }
      ],
      "source": [
        "# boxplot of all continuous variables\n",
        "\n",
        "plt.figure(figsize=[16, 12])\n",
        "plt.subplot(2,3,1)\n",
        "df['net_yearly_income'].plot.box()\n",
        "plt.title('net_yearly_income Box Plot')\n",
        "\n",
        "plt.subplot(2,3,2)\n",
        "df['no_of_days_employed'].plot.box()\n",
        "plt.title('no_of_days_employed Box Plot')\n",
        "\n",
        "plt.subplot(2,3,3)\n",
        "df['yearly_debt_payments'].plot.box()\n",
        "plt.title('yearly_debt_payments Box Plot')\n",
        "\n",
        "plt.subplot(2,3,4)\n",
        "df['credit_limit'].plot.box()\n",
        "plt.title('credit_limit Box Plot')\n",
        "\n",
        "plt.subplot(2,3,5)\n",
        "df['credit_score'].plot.box()\n",
        "plt.title('credit_score Box Plot')\n",
        "plt.show()"
      ]
    },
    {
      "cell_type": "markdown",
      "id": "6d34eb7c",
      "metadata": {
        "id": "6d34eb7c"
      },
      "source": [
        "# Data Processing"
      ]
    },
    {
      "cell_type": "markdown",
      "id": "902faa97",
      "metadata": {
        "id": "902faa97"
      },
      "source": [
        "## Drop columns which have IV < 0.02"
      ]
    },
    {
      "cell_type": "code",
      "execution_count": 74,
      "id": "9b6230ed",
      "metadata": {
        "id": "9b6230ed"
      },
      "outputs": [],
      "source": [
        "max_bin = 20\n",
        "force_bin = 3\n",
        "\n",
        "# define a binning function\n",
        "def mono_bin(Y, X, n = max_bin):\n",
        "\n",
        "    df1 = pd.DataFrame({\"X\": X, \"Y\": Y})\n",
        "    justmiss = df1[['X','Y']][df1.X.isnull()]\n",
        "    notmiss = df1[['X','Y']][df1.X.notnull()]\n",
        "    r = 0\n",
        "    while np.abs(r) < 1:\n",
        "        try:\n",
        "            d1 = pd.DataFrame({\"X\": notmiss.X, \"Y\": notmiss.Y, \"Bucket\": pd.qcut(notmiss.X, n)})\n",
        "            d2 = d1.groupby('Bucket', as_index=True)\n",
        "            r, p = stats.spearmanr(d2.mean().X, d2.mean().Y)\n",
        "            n = n - 1\n",
        "        except Exception as e:\n",
        "            n = n - 1\n",
        "\n",
        "    if len(d2) == 1:\n",
        "        n = force_bin\n",
        "        bins = algos.quantile(notmiss.X, np.linspace(0, 1, n))\n",
        "        if len(np.unique(bins)) == 2:\n",
        "            bins = np.insert(bins, 0, 1)\n",
        "            bins[1] = bins[1]-(bins[1]/2)\n",
        "        d1 = pd.DataFrame({\"X\": notmiss.X, \"Y\": notmiss.Y, \"Bucket\": pd.cut(notmiss.X, np.unique(bins),include_lowest=True)})\n",
        "        d2 = d1.groupby('Bucket', as_index=True)\n",
        "\n",
        "    d3 = pd.DataFrame({},index=[])\n",
        "    d3[\"MIN_VALUE\"] = d2.min().X\n",
        "    d3[\"MAX_VALUE\"] = d2.max().X\n",
        "    d3[\"COUNT\"] = d2.count().Y\n",
        "    d3[\"EVENT\"] = d2.sum().Y\n",
        "    d3[\"NONEVENT\"] = d2.count().Y - d2.sum().Y\n",
        "    d3=d3.reset_index(drop=True)\n",
        "\n",
        "    if len(justmiss.index) > 0:\n",
        "        d4 = pd.DataFrame({'MIN_VALUE':np.nan},index=[0])\n",
        "        d4[\"MAX_VALUE\"] = np.nan\n",
        "        d4[\"COUNT\"] = justmiss.count().Y\n",
        "        d4[\"EVENT\"] = justmiss.sum().Y\n",
        "        d4[\"NONEVENT\"] = justmiss.count().Y - justmiss.sum().Y\n",
        "        d3 = d3.append(d4,ignore_index=True)\n",
        "\n",
        "    d3[\"EVENT_RATE\"] = d3.EVENT/d3.COUNT\n",
        "    d3[\"NON_EVENT_RATE\"] = d3.NONEVENT/d3.COUNT\n",
        "    d3[\"DIST_EVENT\"] = d3.EVENT/d3.sum().EVENT\n",
        "    d3[\"DIST_NON_EVENT\"] = d3.NONEVENT/d3.sum().NONEVENT\n",
        "    d3[\"WOE\"] = np.log(d3.DIST_EVENT/d3.DIST_NON_EVENT)\n",
        "    d3[\"IV\"] = (d3.DIST_EVENT-d3.DIST_NON_EVENT)*np.log(d3.DIST_EVENT/d3.DIST_NON_EVENT)\n",
        "    d3[\"VAR_NAME\"] = \"VAR\"\n",
        "    d3 = d3[['VAR_NAME','MIN_VALUE', 'MAX_VALUE', 'COUNT', 'EVENT', 'EVENT_RATE', 'NONEVENT', 'NON_EVENT_RATE', 'DIST_EVENT','DIST_NON_EVENT','WOE', 'IV']]\n",
        "    d3 = d3.replace([np.inf, -np.inf], 0)\n",
        "    d3.IV = d3.IV.sum()\n",
        "\n",
        "    return(d3)\n",
        "\n",
        "def char_bin(Y, X):\n",
        "\n",
        "    df1 = pd.DataFrame({\"X\": X, \"Y\": Y})\n",
        "    justmiss = df1[['X','Y']][df1.X.isnull()]\n",
        "    notmiss = df1[['X','Y']][df1.X.notnull()]\n",
        "    df2 = notmiss.groupby('X',as_index=True)\n",
        "\n",
        "    d3 = pd.DataFrame({},index=[])\n",
        "    d3[\"COUNT\"] = df2.count().Y\n",
        "    d3[\"MIN_VALUE\"] = df2.sum().Y.index\n",
        "    d3[\"MAX_VALUE\"] = d3[\"MIN_VALUE\"]\n",
        "    d3[\"EVENT\"] = df2.sum().Y\n",
        "    d3[\"NONEVENT\"] = df2.count().Y - df2.sum().Y\n",
        "\n",
        "    if len(justmiss.index) > 0:\n",
        "        d4 = pd.DataFrame({'MIN_VALUE':np.nan},index=[0])\n",
        "        d4[\"MAX_VALUE\"] = np.nan\n",
        "        d4[\"COUNT\"] = justmiss.count().Y\n",
        "        d4[\"EVENT\"] = justmiss.sum().Y\n",
        "        d4[\"NONEVENT\"] = justmiss.count().Y - justmiss.sum().Y\n",
        "        d3 = d3.append(d4,ignore_index=True)\n",
        "\n",
        "    d3[\"EVENT_RATE\"] = d3.EVENT/d3.COUNT\n",
        "    d3[\"NON_EVENT_RATE\"] = d3.NONEVENT/d3.COUNT\n",
        "    d3[\"DIST_EVENT\"] = d3.EVENT/d3.sum().EVENT\n",
        "    d3[\"DIST_NON_EVENT\"] = d3.NONEVENT/d3.sum().NONEVENT\n",
        "    d3[\"WOE\"] = np.log(d3.DIST_EVENT/d3.DIST_NON_EVENT)\n",
        "    d3[\"IV\"] = (d3.DIST_EVENT-d3.DIST_NON_EVENT)*np.log(d3.DIST_EVENT/d3.DIST_NON_EVENT)\n",
        "    d3[\"VAR_NAME\"] = \"VAR\"\n",
        "    d3 = d3[['VAR_NAME','MIN_VALUE', 'MAX_VALUE', 'COUNT', 'EVENT', 'EVENT_RATE', 'NONEVENT', 'NON_EVENT_RATE', 'DIST_EVENT','DIST_NON_EVENT','WOE', 'IV']]\n",
        "    d3 = d3.replace([np.inf, -np.inf], 0)\n",
        "    d3.IV = d3.IV.sum()\n",
        "    d3 = d3.reset_index(drop=True)\n",
        "\n",
        "    return(d3)\n",
        "\n",
        "def data_vars(df1, target):\n",
        "\n",
        "    stack = traceback.extract_stack()\n",
        "    filename, lineno, function_name, code = stack[-2]\n",
        "    vars_name = re.compile(r'\\((.*?)\\).*$').search(code).groups()[0]\n",
        "    final = (re.findall(r\"[\\w']+\", vars_name))[-1]\n",
        "\n",
        "    x = df1.dtypes.index\n",
        "    count = -1\n",
        "\n",
        "    for i in x:\n",
        "        if i.upper() not in (final.upper()):\n",
        "            if np.issubdtype(df1[i], np.number) and len(pd.Series.unique(df1[i])) > 2:\n",
        "                conv = mono_bin(target, df1[i])\n",
        "                conv[\"VAR_NAME\"] = i\n",
        "                count = count + 1\n",
        "            else:\n",
        "                conv = char_bin(target, df1[i])\n",
        "                conv[\"VAR_NAME\"] = i\n",
        "                count = count + 1\n",
        "\n",
        "            if count == 0:\n",
        "                iv_df = conv\n",
        "            else:\n",
        "                iv_df = iv_df.append(conv,ignore_index=True)\n",
        "\n",
        "    iv = pd.DataFrame({'IV':iv_df.groupby('VAR_NAME').IV.max()})\n",
        "    iv = iv.reset_index()\n",
        "    return(iv_df,iv)"
      ]
    },
    {
      "cell_type": "code",
      "source": [
        "from scipy.stats import spearmanr  # Correct import\n",
        "\n",
        "def mono_bin(Y, X, n, force_bin=None):\n",
        "    d1 = pd.DataFrame({\"X\": X, \"Y\": Y})\n",
        "    d1[\"Bucket\"] = pd.qcut(X, n, duplicates='drop')  # Updated here\n",
        "    d2 = d1.groupby('Bucket', as_index=True, observed=False)  # FutureWarning fix\n",
        "    r, p = spearmanr(d2.mean().X, d2.mean().Y)  # Updated function call\n",
        "\n",
        "    return d2  # Returning processed data\n"
      ],
      "metadata": {
        "id": "qnhe1wcWck6X"
      },
      "id": "qnhe1wcWck6X",
      "execution_count": 78,
      "outputs": []
    },
    {
      "cell_type": "code",
      "source": [
        "conv = mono_bin(target, df1[i], n=10)  # Choose a reasonable default value for n\n"
      ],
      "metadata": {
        "id": "sVi7Z4ridPQV",
        "outputId": "5ea4344c-0ce3-4003-f371-f768147f14e5",
        "colab": {
          "base_uri": "https://localhost:8080/",
          "height": 141
        }
      },
      "id": "sVi7Z4ridPQV",
      "execution_count": 81,
      "outputs": [
        {
          "output_type": "error",
          "ename": "NameError",
          "evalue": "name 'target' is not defined",
          "traceback": [
            "\u001b[0;31m---------------------------------------------------------------------------\u001b[0m",
            "\u001b[0;31mNameError\u001b[0m                                 Traceback (most recent call last)",
            "\u001b[0;32m<ipython-input-81-641c33790294>\u001b[0m in \u001b[0;36m<cell line: 0>\u001b[0;34m()\u001b[0m\n\u001b[0;32m----> 1\u001b[0;31m \u001b[0mconv\u001b[0m \u001b[0;34m=\u001b[0m \u001b[0mmono_bin\u001b[0m\u001b[0;34m(\u001b[0m\u001b[0mtarget\u001b[0m\u001b[0;34m,\u001b[0m \u001b[0mdf1\u001b[0m\u001b[0;34m[\u001b[0m\u001b[0mi\u001b[0m\u001b[0;34m]\u001b[0m\u001b[0;34m,\u001b[0m \u001b[0mn\u001b[0m\u001b[0;34m=\u001b[0m\u001b[0;36m10\u001b[0m\u001b[0;34m)\u001b[0m  \u001b[0;31m# Choose a reasonable default value for n\u001b[0m\u001b[0;34m\u001b[0m\u001b[0;34m\u001b[0m\u001b[0m\n\u001b[0m",
            "\u001b[0;31mNameError\u001b[0m: name 'target' is not defined"
          ]
        }
      ]
    },
    {
      "cell_type": "code",
      "source": [
        "final_iv, IV = data_vars(df.drop(columns=[\"customer_id\", \"name\", \"credit_card_default\"]), df[\"credit_card_default\"])\n"
      ],
      "metadata": {
        "id": "OxxM9IAUczea",
        "outputId": "a10cc41d-c9b0-43ce-e66f-5a7c8509f5bf",
        "colab": {
          "base_uri": "https://localhost:8080/",
          "height": 280
        }
      },
      "id": "OxxM9IAUczea",
      "execution_count": 80,
      "outputs": [
        {
          "output_type": "error",
          "ename": "TypeError",
          "evalue": "mono_bin() missing 1 required positional argument: 'n'",
          "traceback": [
            "\u001b[0;31m---------------------------------------------------------------------------\u001b[0m",
            "\u001b[0;31mTypeError\u001b[0m                                 Traceback (most recent call last)",
            "\u001b[0;32m<ipython-input-80-277c53a84449>\u001b[0m in \u001b[0;36m<cell line: 0>\u001b[0;34m()\u001b[0m\n\u001b[0;32m----> 1\u001b[0;31m \u001b[0mfinal_iv\u001b[0m\u001b[0;34m,\u001b[0m \u001b[0mIV\u001b[0m \u001b[0;34m=\u001b[0m \u001b[0mdata_vars\u001b[0m\u001b[0;34m(\u001b[0m\u001b[0mdf\u001b[0m\u001b[0;34m.\u001b[0m\u001b[0mdrop\u001b[0m\u001b[0;34m(\u001b[0m\u001b[0mcolumns\u001b[0m\u001b[0;34m=\u001b[0m\u001b[0;34m[\u001b[0m\u001b[0;34m\"customer_id\"\u001b[0m\u001b[0;34m,\u001b[0m \u001b[0;34m\"name\"\u001b[0m\u001b[0;34m,\u001b[0m \u001b[0;34m\"credit_card_default\"\u001b[0m\u001b[0;34m]\u001b[0m\u001b[0;34m)\u001b[0m\u001b[0;34m,\u001b[0m \u001b[0mdf\u001b[0m\u001b[0;34m[\u001b[0m\u001b[0;34m\"credit_card_default\"\u001b[0m\u001b[0;34m]\u001b[0m\u001b[0;34m)\u001b[0m\u001b[0;34m\u001b[0m\u001b[0;34m\u001b[0m\u001b[0m\n\u001b[0m",
            "\u001b[0;32m<ipython-input-74-747804e89c55>\u001b[0m in \u001b[0;36mdata_vars\u001b[0;34m(df1, target)\u001b[0m\n\u001b[1;32m    105\u001b[0m         \u001b[0;32mif\u001b[0m \u001b[0mi\u001b[0m\u001b[0;34m.\u001b[0m\u001b[0mupper\u001b[0m\u001b[0;34m(\u001b[0m\u001b[0;34m)\u001b[0m \u001b[0;32mnot\u001b[0m \u001b[0;32min\u001b[0m \u001b[0;34m(\u001b[0m\u001b[0mfinal\u001b[0m\u001b[0;34m.\u001b[0m\u001b[0mupper\u001b[0m\u001b[0;34m(\u001b[0m\u001b[0;34m)\u001b[0m\u001b[0;34m)\u001b[0m\u001b[0;34m:\u001b[0m\u001b[0;34m\u001b[0m\u001b[0;34m\u001b[0m\u001b[0m\n\u001b[1;32m    106\u001b[0m             \u001b[0;32mif\u001b[0m \u001b[0mnp\u001b[0m\u001b[0;34m.\u001b[0m\u001b[0missubdtype\u001b[0m\u001b[0;34m(\u001b[0m\u001b[0mdf1\u001b[0m\u001b[0;34m[\u001b[0m\u001b[0mi\u001b[0m\u001b[0;34m]\u001b[0m\u001b[0;34m,\u001b[0m \u001b[0mnp\u001b[0m\u001b[0;34m.\u001b[0m\u001b[0mnumber\u001b[0m\u001b[0;34m)\u001b[0m \u001b[0;32mand\u001b[0m \u001b[0mlen\u001b[0m\u001b[0;34m(\u001b[0m\u001b[0mpd\u001b[0m\u001b[0;34m.\u001b[0m\u001b[0mSeries\u001b[0m\u001b[0;34m.\u001b[0m\u001b[0munique\u001b[0m\u001b[0;34m(\u001b[0m\u001b[0mdf1\u001b[0m\u001b[0;34m[\u001b[0m\u001b[0mi\u001b[0m\u001b[0;34m]\u001b[0m\u001b[0;34m)\u001b[0m\u001b[0;34m)\u001b[0m \u001b[0;34m>\u001b[0m \u001b[0;36m2\u001b[0m\u001b[0;34m:\u001b[0m\u001b[0;34m\u001b[0m\u001b[0;34m\u001b[0m\u001b[0m\n\u001b[0;32m--> 107\u001b[0;31m                 \u001b[0mconv\u001b[0m \u001b[0;34m=\u001b[0m \u001b[0mmono_bin\u001b[0m\u001b[0;34m(\u001b[0m\u001b[0mtarget\u001b[0m\u001b[0;34m,\u001b[0m \u001b[0mdf1\u001b[0m\u001b[0;34m[\u001b[0m\u001b[0mi\u001b[0m\u001b[0;34m]\u001b[0m\u001b[0;34m)\u001b[0m\u001b[0;34m\u001b[0m\u001b[0;34m\u001b[0m\u001b[0m\n\u001b[0m\u001b[1;32m    108\u001b[0m                 \u001b[0mconv\u001b[0m\u001b[0;34m[\u001b[0m\u001b[0;34m\"VAR_NAME\"\u001b[0m\u001b[0;34m]\u001b[0m \u001b[0;34m=\u001b[0m \u001b[0mi\u001b[0m\u001b[0;34m\u001b[0m\u001b[0;34m\u001b[0m\u001b[0m\n\u001b[1;32m    109\u001b[0m                 \u001b[0mcount\u001b[0m \u001b[0;34m=\u001b[0m \u001b[0mcount\u001b[0m \u001b[0;34m+\u001b[0m \u001b[0;36m1\u001b[0m\u001b[0;34m\u001b[0m\u001b[0;34m\u001b[0m\u001b[0m\n",
            "\u001b[0;31mTypeError\u001b[0m: mono_bin() missing 1 required positional argument: 'n'"
          ]
        }
      ]
    },
    {
      "cell_type": "code",
      "execution_count": 79,
      "id": "6b35c1c0",
      "metadata": {
        "id": "6b35c1c0",
        "outputId": "a3d0c5f9-85ee-4dae-bf7f-09251280556a",
        "colab": {
          "base_uri": "https://localhost:8080/",
          "height": 280
        }
      },
      "outputs": [
        {
          "output_type": "error",
          "ename": "TypeError",
          "evalue": "mono_bin() missing 1 required positional argument: 'n'",
          "traceback": [
            "\u001b[0;31m---------------------------------------------------------------------------\u001b[0m",
            "\u001b[0;31mTypeError\u001b[0m                                 Traceback (most recent call last)",
            "\u001b[0;32m<ipython-input-79-5ef11c47bd67>\u001b[0m in \u001b[0;36m<cell line: 0>\u001b[0;34m()\u001b[0m\n\u001b[0;32m----> 1\u001b[0;31m \u001b[0mfinal_iv\u001b[0m\u001b[0;34m,\u001b[0m \u001b[0mIV\u001b[0m \u001b[0;34m=\u001b[0m \u001b[0mdata_vars\u001b[0m\u001b[0;34m(\u001b[0m\u001b[0mdf\u001b[0m\u001b[0;34m.\u001b[0m\u001b[0mdrop\u001b[0m\u001b[0;34m(\u001b[0m\u001b[0mcolumns\u001b[0m \u001b[0;34m=\u001b[0m\u001b[0;34m[\u001b[0m\u001b[0;34m\"customer_id\"\u001b[0m\u001b[0;34m,\u001b[0m \u001b[0;34m\"name\"\u001b[0m\u001b[0;34m,\u001b[0m \u001b[0;34m'credit_card_default'\u001b[0m\u001b[0;34m]\u001b[0m\u001b[0;34m)\u001b[0m\u001b[0;34m,\u001b[0m \u001b[0mdf\u001b[0m\u001b[0;34m[\u001b[0m\u001b[0;34m\"credit_card_default\"\u001b[0m\u001b[0;34m]\u001b[0m\u001b[0;34m)\u001b[0m\u001b[0;34m\u001b[0m\u001b[0;34m\u001b[0m\u001b[0m\n\u001b[0m",
            "\u001b[0;32m<ipython-input-74-747804e89c55>\u001b[0m in \u001b[0;36mdata_vars\u001b[0;34m(df1, target)\u001b[0m\n\u001b[1;32m    105\u001b[0m         \u001b[0;32mif\u001b[0m \u001b[0mi\u001b[0m\u001b[0;34m.\u001b[0m\u001b[0mupper\u001b[0m\u001b[0;34m(\u001b[0m\u001b[0;34m)\u001b[0m \u001b[0;32mnot\u001b[0m \u001b[0;32min\u001b[0m \u001b[0;34m(\u001b[0m\u001b[0mfinal\u001b[0m\u001b[0;34m.\u001b[0m\u001b[0mupper\u001b[0m\u001b[0;34m(\u001b[0m\u001b[0;34m)\u001b[0m\u001b[0;34m)\u001b[0m\u001b[0;34m:\u001b[0m\u001b[0;34m\u001b[0m\u001b[0;34m\u001b[0m\u001b[0m\n\u001b[1;32m    106\u001b[0m             \u001b[0;32mif\u001b[0m \u001b[0mnp\u001b[0m\u001b[0;34m.\u001b[0m\u001b[0missubdtype\u001b[0m\u001b[0;34m(\u001b[0m\u001b[0mdf1\u001b[0m\u001b[0;34m[\u001b[0m\u001b[0mi\u001b[0m\u001b[0;34m]\u001b[0m\u001b[0;34m,\u001b[0m \u001b[0mnp\u001b[0m\u001b[0;34m.\u001b[0m\u001b[0mnumber\u001b[0m\u001b[0;34m)\u001b[0m \u001b[0;32mand\u001b[0m \u001b[0mlen\u001b[0m\u001b[0;34m(\u001b[0m\u001b[0mpd\u001b[0m\u001b[0;34m.\u001b[0m\u001b[0mSeries\u001b[0m\u001b[0;34m.\u001b[0m\u001b[0munique\u001b[0m\u001b[0;34m(\u001b[0m\u001b[0mdf1\u001b[0m\u001b[0;34m[\u001b[0m\u001b[0mi\u001b[0m\u001b[0;34m]\u001b[0m\u001b[0;34m)\u001b[0m\u001b[0;34m)\u001b[0m \u001b[0;34m>\u001b[0m \u001b[0;36m2\u001b[0m\u001b[0;34m:\u001b[0m\u001b[0;34m\u001b[0m\u001b[0;34m\u001b[0m\u001b[0m\n\u001b[0;32m--> 107\u001b[0;31m                 \u001b[0mconv\u001b[0m \u001b[0;34m=\u001b[0m \u001b[0mmono_bin\u001b[0m\u001b[0;34m(\u001b[0m\u001b[0mtarget\u001b[0m\u001b[0;34m,\u001b[0m \u001b[0mdf1\u001b[0m\u001b[0;34m[\u001b[0m\u001b[0mi\u001b[0m\u001b[0;34m]\u001b[0m\u001b[0;34m)\u001b[0m\u001b[0;34m\u001b[0m\u001b[0;34m\u001b[0m\u001b[0m\n\u001b[0m\u001b[1;32m    108\u001b[0m                 \u001b[0mconv\u001b[0m\u001b[0;34m[\u001b[0m\u001b[0;34m\"VAR_NAME\"\u001b[0m\u001b[0;34m]\u001b[0m \u001b[0;34m=\u001b[0m \u001b[0mi\u001b[0m\u001b[0;34m\u001b[0m\u001b[0;34m\u001b[0m\u001b[0m\n\u001b[1;32m    109\u001b[0m                 \u001b[0mcount\u001b[0m \u001b[0;34m=\u001b[0m \u001b[0mcount\u001b[0m \u001b[0;34m+\u001b[0m \u001b[0;36m1\u001b[0m\u001b[0;34m\u001b[0m\u001b[0;34m\u001b[0m\u001b[0m\n",
            "\u001b[0;31mTypeError\u001b[0m: mono_bin() missing 1 required positional argument: 'n'"
          ]
        }
      ],
      "source": [
        "final_iv, IV = data_vars(df.drop(columns =[\"customer_id\", \"name\", 'credit_card_default']), df[\"credit_card_default\"])"
      ]
    },
    {
      "cell_type": "code",
      "execution_count": 77,
      "id": "0c16526c",
      "metadata": {
        "id": "0c16526c",
        "outputId": "9716db30-be27-4238-8494-37bc78a272dd",
        "colab": {
          "base_uri": "https://localhost:8080/",
          "height": 141
        }
      },
      "outputs": [
        {
          "output_type": "error",
          "ename": "NameError",
          "evalue": "name 'final_iv' is not defined",
          "traceback": [
            "\u001b[0;31m---------------------------------------------------------------------------\u001b[0m",
            "\u001b[0;31mNameError\u001b[0m                                 Traceback (most recent call last)",
            "\u001b[0;32m<ipython-input-77-3a9f1b79ee8b>\u001b[0m in \u001b[0;36m<cell line: 0>\u001b[0;34m()\u001b[0m\n\u001b[0;32m----> 1\u001b[0;31m \u001b[0mfinal_iv\u001b[0m\u001b[0;34m\u001b[0m\u001b[0;34m\u001b[0m\u001b[0m\n\u001b[0m",
            "\u001b[0;31mNameError\u001b[0m: name 'final_iv' is not defined"
          ]
        }
      ],
      "source": [
        "final_iv"
      ]
    },
    {
      "cell_type": "code",
      "execution_count": null,
      "id": "1eba9b6a",
      "metadata": {
        "id": "1eba9b6a"
      },
      "outputs": [],
      "source": [
        "IV.sort_values('IV')"
      ]
    },
    {
      "cell_type": "code",
      "execution_count": null,
      "id": "06319ad7",
      "metadata": {
        "id": "06319ad7"
      },
      "outputs": [],
      "source": [
        "IV.sort_values('IV', ascending=True).head(10)"
      ]
    },
    {
      "cell_type": "code",
      "execution_count": null,
      "id": "f5ce7485",
      "metadata": {
        "id": "f5ce7485"
      },
      "outputs": [],
      "source": [
        "IV.sort_values('IV', ascending=True).head(10)[\"VAR_NAME\"].values"
      ]
    },
    {
      "cell_type": "markdown",
      "id": "23d0ab63",
      "metadata": {
        "id": "23d0ab63"
      },
      "source": [
        "**We will drop some low (< 0.02) IV columns**"
      ]
    },
    {
      "cell_type": "code",
      "execution_count": null,
      "id": "8378486c",
      "metadata": {
        "id": "8378486c"
      },
      "outputs": [],
      "source": [
        "low_IV_cols =  ['age', 'owns_house', 'yearly_debt_payments', 'credit_limit',\n",
        "      'no_of_children', 'total_family_members', 'net_yearly_income',\n",
        "       'owns_car', 'prev_defaults', 'migrant_worker']"
      ]
    },
    {
      "cell_type": "code",
      "execution_count": null,
      "id": "98e2b6c8",
      "metadata": {
        "id": "98e2b6c8"
      },
      "outputs": [],
      "source": [
        "#dt_s = sc.var_filter(df, y=\"credit_card_default\",return_rm_reason=True)"
      ]
    },
    {
      "cell_type": "code",
      "execution_count": null,
      "id": "ad83cf1d",
      "metadata": {
        "id": "ad83cf1d"
      },
      "outputs": [],
      "source": [
        "#dt_s[\"dt\"]"
      ]
    },
    {
      "cell_type": "markdown",
      "id": "7adfb175",
      "metadata": {
        "id": "7adfb175"
      },
      "source": [
        "## WOE binning"
      ]
    },
    {
      "cell_type": "code",
      "execution_count": null,
      "id": "25020c2c",
      "metadata": {
        "id": "25020c2c"
      },
      "outputs": [],
      "source": [
        "# woe binning ------\n",
        "bins = sc.woebin(df.drop(columns = [\"customer_id\", \"name\"]), y=\"credit_card_default\")\n",
        "sc.woebin_plot(bins)"
      ]
    },
    {
      "cell_type": "code",
      "execution_count": null,
      "id": "a0638c97",
      "metadata": {
        "id": "a0638c97"
      },
      "outputs": [],
      "source": [
        "# converting train and test into woe values\n",
        "train_woe = sc.woebin_ply(df, bins)\n",
        "train_woe.drop(columns = [\"customer_id\", \"name\"], inplace = True)\n",
        "train_woe.head(10)"
      ]
    },
    {
      "cell_type": "code",
      "execution_count": null,
      "id": "7a4f2cbb",
      "metadata": {
        "id": "7a4f2cbb"
      },
      "outputs": [],
      "source": [
        "# dropping text columns that aren't necessary like 'customer_id' and 'name'\n",
        "old_df = df.copy()\n",
        "\n",
        "df.drop(['customer_id', 'name'], axis=1, inplace=True)\n",
        "df.drop(low_IV_cols, axis=1, inplace=True)\n",
        "df.head()"
      ]
    },
    {
      "cell_type": "markdown",
      "id": "b74f77e3",
      "metadata": {
        "id": "b74f77e3"
      },
      "source": [
        "## Encoding"
      ]
    },
    {
      "cell_type": "code",
      "execution_count": null,
      "id": "b871afa8",
      "metadata": {
        "id": "b871afa8"
      },
      "outputs": [],
      "source": [
        "df[\"gender\"] = df[\"gender\"].apply(lambda x : 1 if x == \"F\" else 0)\n",
        "#df[\"owns_car\"] = df[\"owns_car\"].apply(lambda x : 1 if x == \"Y\" else 0)\n",
        "#df[\"owns_house\"] = df[\"owns_house\"].apply(lambda x : 1 if x == \"Y\" else 0)"
      ]
    },
    {
      "cell_type": "code",
      "execution_count": null,
      "id": "49cab960",
      "metadata": {
        "id": "49cab960"
      },
      "outputs": [],
      "source": [
        "occupation_type_encoded_df = pd.get_dummies(df[\"occupation_type\"], prefix= \"occupation\")\n",
        "df = pd.concat([df, occupation_type_encoded_df], axis=1)\n",
        "df.drop(columns=[\"occupation_type\"], inplace=True)\n",
        "df.head()"
      ]
    },
    {
      "cell_type": "markdown",
      "id": "cfa402da",
      "metadata": {
        "id": "cfa402da"
      },
      "source": [
        "## Split dataset"
      ]
    },
    {
      "cell_type": "code",
      "execution_count": null,
      "id": "4486f2d2",
      "metadata": {
        "id": "4486f2d2"
      },
      "outputs": [],
      "source": [
        "# split train-test data\n",
        "X = df.drop(['credit_card_default'], axis=1)\n",
        "y = df['credit_card_default']\n",
        "\n",
        "X_train, X_test, y_train, y_test = train_test_split(X, y, test_size=0.3, stratify=y, random_state=42)\n",
        "\n",
        "print(\"X=\",X_train.shape, X_test.shape)\n",
        "print(\"y=\",y_train.shape, y_test.shape)"
      ]
    },
    {
      "cell_type": "code",
      "execution_count": null,
      "id": "986930fb",
      "metadata": {
        "id": "986930fb"
      },
      "outputs": [],
      "source": [
        "X_train.head()"
      ]
    },
    {
      "cell_type": "code",
      "execution_count": null,
      "id": "8effc8f3",
      "metadata": {
        "id": "8effc8f3"
      },
      "outputs": [],
      "source": [
        "y_train"
      ]
    },
    {
      "cell_type": "code",
      "execution_count": null,
      "id": "028ed27a",
      "metadata": {
        "id": "028ed27a"
      },
      "outputs": [],
      "source": [
        "# WOE data\n",
        "X_woe = train_woe.drop(['credit_card_default'], axis=1)\n",
        "y_woe = train_woe['credit_card_default']\n",
        "\n",
        "X_train_woe, X_test_woe, y_train_woe, y_test_woe = train_test_split(X_woe, y_woe, test_size=0.3, stratify=y_woe, random_state=42)\n",
        "\n",
        "print(\"X=\",X_train_woe.shape, X_test_woe.shape)\n",
        "print(\"y=\",y_train_woe.shape, y_test_woe.shape)"
      ]
    },
    {
      "cell_type": "code",
      "execution_count": null,
      "id": "d3847d17",
      "metadata": {
        "id": "d3847d17"
      },
      "outputs": [],
      "source": [
        "X_train_woe.head()"
      ]
    },
    {
      "cell_type": "code",
      "execution_count": null,
      "id": "7319cf37",
      "metadata": {
        "id": "7319cf37"
      },
      "outputs": [],
      "source": [
        "y_woe"
      ]
    },
    {
      "cell_type": "markdown",
      "id": "3f718739",
      "metadata": {
        "id": "3f718739"
      },
      "source": [
        "## Scaling data"
      ]
    },
    {
      "cell_type": "code",
      "execution_count": null,
      "id": "1bcaef88",
      "metadata": {
        "id": "1bcaef88"
      },
      "outputs": [],
      "source": [
        "# scaling the features to standardize\n",
        "scaler = MinMaxScaler()\n",
        "\n",
        "cols = X_train.columns\n",
        "X_train[cols] = scaler.fit_transform(X_train[cols])\n",
        "X_test[cols] = scaler.transform(X_test[cols])"
      ]
    },
    {
      "cell_type": "markdown",
      "id": "eeea52ac",
      "metadata": {
        "id": "eeea52ac"
      },
      "source": [
        "## Data Imbalancing Handling"
      ]
    },
    {
      "cell_type": "code",
      "execution_count": null,
      "id": "cfc4aabd",
      "metadata": {
        "id": "cfc4aabd"
      },
      "outputs": [],
      "source": [
        "# initialize SMOTE method\n",
        "sm = SMOTE(random_state=42)\n",
        "X_train,y_train = sm.fit_resample(X_train,y_train)"
      ]
    },
    {
      "cell_type": "code",
      "execution_count": null,
      "id": "6eac2be0",
      "metadata": {
        "id": "6eac2be0"
      },
      "outputs": [],
      "source": [
        "print(\"Dimension of X_train_sm Shape:\", X_train.shape)\n",
        "print(\"Dimension of y_train_sm Shape:\", y_train.shape)"
      ]
    },
    {
      "cell_type": "code",
      "execution_count": null,
      "id": "b4d09ddf",
      "metadata": {
        "id": "b4d09ddf"
      },
      "outputs": [],
      "source": [
        "X_train = pd.DataFrame(data=X_train, columns=cols)\n",
        "print(\"X_train.shape:\",X_train.shape)\n",
        "y_train = pd.Series(y_train)\n",
        "print(\"y_train.shape:\",y_train.shape)\n",
        "X_train.head()"
      ]
    },
    {
      "cell_type": "code",
      "execution_count": null,
      "id": "a931e0b5",
      "metadata": {
        "id": "a931e0b5"
      },
      "outputs": [],
      "source": [
        "y_train.value_counts(normalize=True)"
      ]
    },
    {
      "cell_type": "markdown",
      "id": "274e32d4",
      "metadata": {
        "id": "274e32d4"
      },
      "source": [
        "# Sử dụng mô hình Logit trong chấm điểm tín dụng:"
      ]
    },
    {
      "cell_type": "markdown",
      "id": "29c2e7a1",
      "metadata": {
        "id": "29c2e7a1"
      },
      "source": [
        "## Chạy mô hình logit cho tập train cho dữ liệu ban đầu"
      ]
    },
    {
      "cell_type": "code",
      "execution_count": null,
      "id": "bf307ae9",
      "metadata": {
        "id": "bf307ae9"
      },
      "outputs": [],
      "source": [
        "from statsmodels.discrete.discrete_model import Logit\n",
        "logit = Logit(y_train, X_train)\n",
        "logit_fit = logit.fit()"
      ]
    },
    {
      "cell_type": "code",
      "execution_count": null,
      "id": "43a5e031",
      "metadata": {
        "id": "43a5e031"
      },
      "outputs": [],
      "source": [
        "logit_fit.summary()"
      ]
    },
    {
      "cell_type": "markdown",
      "id": "1e4e88eb",
      "metadata": {
        "id": "1e4e88eb"
      },
      "source": [
        "## Chạy mô hình logit cho tập train cho dữ liệu sử dụng WOE"
      ]
    },
    {
      "cell_type": "code",
      "execution_count": null,
      "id": "c04cd17c",
      "metadata": {
        "id": "c04cd17c"
      },
      "outputs": [],
      "source": [
        "# logistic regression ------\n",
        "lr = LogisticRegression(penalty='l1', C=0.9, solver='saga', n_jobs=-1)\n",
        "lr.fit(X_train_woe, y_train_woe)\n",
        "# lr.coef_\n",
        "# lr.intercept_\n",
        "\n",
        "# predicted proability\n",
        "train_pred = lr.predict_proba(X_train_woe)[:,1]\n",
        "test_pred = lr.predict_proba(X_test_woe)[:,1]\n",
        "\n",
        "# performance ks & roc ------\n",
        "train_perf = sc.perf_eva(y_train_woe, train_pred, title = \"train\")\n",
        "test_perf = sc.perf_eva(y_test_woe, test_pred, title = \"test\")\n",
        "\n",
        "# score ------\n",
        "card = sc.scorecard(bins, lr, X_train_woe.columns)\n",
        "# credit score\n",
        "score = sc.scorecard_ply(old_df, card, only_total_score=False, print_step=0, replace_blank_na=True, var_kp = None)\n",
        "#test_score = sc.scorecard_ply(test_woe, card, print_step=0)"
      ]
    },
    {
      "cell_type": "code",
      "execution_count": null,
      "id": "a19ce838",
      "metadata": {
        "id": "a19ce838"
      },
      "outputs": [],
      "source": [
        "score"
      ]
    },
    {
      "cell_type": "code",
      "execution_count": null,
      "id": "db7ee5a9",
      "metadata": {
        "id": "db7ee5a9"
      },
      "outputs": [],
      "source": [
        "plt.hist(score[\"score\"])"
      ]
    },
    {
      "cell_type": "markdown",
      "id": "7c3218d7",
      "metadata": {
        "id": "7c3218d7"
      },
      "source": [
        "# Sử dụng các mô hình khác nhau cho Credit Risk Analysis"
      ]
    },
    {
      "cell_type": "code",
      "execution_count": null,
      "id": "0f9791db",
      "metadata": {
        "id": "0f9791db"
      },
      "outputs": [],
      "source": [
        "# evaluation function\n",
        "def evaluation(model):\n",
        "    y_train_pred = model.predict(X_train)\n",
        "    y_test_pred = model.predict(X_test)\n",
        "    print(\"=\"*50)\n",
        "\n",
        "    print(confusion_matrix(y_train, y_train_pred))\n",
        "    print(classification_report(y_train, y_train_pred))\n",
        "    print(\"Accuracy of TRAIN data:\", 100*accuracy_score(y_train, y_train_pred))\n",
        "    print(\"F1_Score of TRAIN data:\", 100*f1_score(y_train, y_train_pred, average=\"macro\"))\n",
        "    print(\"=\"*50)\n",
        "\n",
        "    print(confusion_matrix(y_test, y_test_pred))\n",
        "    print(classification_report(y_test, y_test_pred))\n",
        "    print(\"Accuracy of TEST data:\", 100*accuracy_score(y_test, y_test_pred))\n",
        "    print(\"F1_Score of TEST data:\", 100*f1_score(y_test, y_test_pred, average=\"macro\"))\n",
        "    print(\"=\"*50)\n",
        "\n",
        "    # calculate the RMSE\n",
        "    rmse = np.sqrt(mean_squared_error(y_test, y_test_pred))\n",
        "    print(\"RMSE: \", rmse)\n",
        "\n",
        "    # calculate ROC AUC\n",
        "    roc_auc = roc_auc_score(y_test, y_test_pred, average=None)\n",
        "    print(\"ROC AUC score: \", roc_auc)\n",
        ""
      ]
    },
    {
      "cell_type": "code",
      "execution_count": null,
      "id": "a23aba52",
      "metadata": {
        "id": "a23aba52"
      },
      "outputs": [],
      "source": [
        "y_test"
      ]
    },
    {
      "cell_type": "markdown",
      "id": "034697b8",
      "metadata": {
        "id": "034697b8"
      },
      "source": [
        "## Logisitc Regression"
      ]
    },
    {
      "cell_type": "code",
      "execution_count": null,
      "id": "bbef03e3",
      "metadata": {
        "id": "bbef03e3"
      },
      "outputs": [],
      "source": [
        "# initialize LogisticRegression and fit the model\n",
        "logreg = LogisticRegression()\n",
        "logreg.fit(X_train, y_train)"
      ]
    },
    {
      "cell_type": "code",
      "execution_count": null,
      "id": "91380368",
      "metadata": {
        "id": "91380368"
      },
      "outputs": [],
      "source": [
        "# prediction\n",
        "evaluation(logreg)"
      ]
    },
    {
      "cell_type": "markdown",
      "id": "488b6dbb",
      "metadata": {
        "id": "488b6dbb"
      },
      "source": [
        "## Decision Tree"
      ]
    },
    {
      "cell_type": "code",
      "execution_count": null,
      "id": "5e27088c",
      "metadata": {
        "id": "5e27088c"
      },
      "outputs": [],
      "source": [
        "tree_model = DecisionTreeClassifier()\n",
        "tree_model.fit(X_train, y_train)"
      ]
    },
    {
      "cell_type": "code",
      "execution_count": null,
      "id": "58792876",
      "metadata": {
        "id": "58792876"
      },
      "outputs": [],
      "source": [
        "# prediction\n",
        "evaluation(tree_model)"
      ]
    },
    {
      "cell_type": "markdown",
      "id": "413cbef0",
      "metadata": {
        "id": "413cbef0"
      },
      "source": [
        "## Random Forest"
      ]
    },
    {
      "cell_type": "code",
      "execution_count": null,
      "id": "28048732",
      "metadata": {
        "id": "28048732"
      },
      "outputs": [],
      "source": [
        "regr_rfr = RandomForestClassifier(random_state=42, oob_score=True)\n",
        "regr_rfr.fit(X_train, y_train)"
      ]
    },
    {
      "cell_type": "code",
      "execution_count": null,
      "id": "0df9f28c",
      "metadata": {
        "id": "0df9f28c"
      },
      "outputs": [],
      "source": [
        "# prediction\n",
        "evaluation(regr_rfr)"
      ]
    },
    {
      "cell_type": "markdown",
      "id": "9061378d",
      "metadata": {
        "id": "9061378d"
      },
      "source": [
        "## CatBoost"
      ]
    },
    {
      "cell_type": "code",
      "execution_count": null,
      "id": "46429c48",
      "metadata": {
        "id": "46429c48"
      },
      "outputs": [],
      "source": [
        "reg_catb = CatBoostClassifier(random_seed=42)\n",
        "reg_catb.fit(X_train, y_train)"
      ]
    },
    {
      "cell_type": "code",
      "execution_count": null,
      "id": "490d1cb7",
      "metadata": {
        "id": "490d1cb7"
      },
      "outputs": [],
      "source": [
        "# prediction\n",
        "evaluation(reg_catb)"
      ]
    },
    {
      "cell_type": "markdown",
      "id": "21e02e70",
      "metadata": {
        "id": "21e02e70"
      },
      "source": [
        "## XGBoost"
      ]
    },
    {
      "cell_type": "code",
      "execution_count": null,
      "id": "3f8c83ec",
      "metadata": {
        "id": "3f8c83ec"
      },
      "outputs": [],
      "source": [
        "xgb_model = XGBClassifier(random_seed=42)\n",
        "xgb_model.fit(X_train, y_train)"
      ]
    },
    {
      "cell_type": "code",
      "execution_count": null,
      "id": "d6131b6e",
      "metadata": {
        "id": "d6131b6e"
      },
      "outputs": [],
      "source": [
        "# prediction\n",
        "evaluation(xgb_model)"
      ]
    },
    {
      "cell_type": "code",
      "execution_count": null,
      "id": "262564e2",
      "metadata": {
        "id": "262564e2"
      },
      "outputs": [],
      "source": [
        "xgb_model.feature_importances_"
      ]
    },
    {
      "cell_type": "code",
      "execution_count": null,
      "id": "6be50b55",
      "metadata": {
        "id": "6be50b55"
      },
      "outputs": [],
      "source": [
        "from xgboost import plot_importance"
      ]
    },
    {
      "cell_type": "code",
      "execution_count": null,
      "id": "3461480f",
      "metadata": {
        "id": "3461480f"
      },
      "outputs": [],
      "source": [
        "plot_importance(xgb_model)\n",
        "plt.show()\n",
        "plt.savefig(\"Feature importance.png\")"
      ]
    },
    {
      "cell_type": "markdown",
      "id": "1d991b2d",
      "metadata": {
        "id": "1d991b2d"
      },
      "source": [
        "## LightGBM"
      ]
    },
    {
      "cell_type": "code",
      "execution_count": null,
      "id": "bfd66602",
      "metadata": {
        "id": "bfd66602"
      },
      "outputs": [],
      "source": [
        "lgbm_model = LGBMClassifier(random_state=42)\n",
        "lgbm_model.fit(X_train, y_train)"
      ]
    },
    {
      "cell_type": "code",
      "execution_count": null,
      "id": "317f2f33",
      "metadata": {
        "id": "317f2f33"
      },
      "outputs": [],
      "source": [
        "# prediction\n",
        "evaluation(lgbm_model)"
      ]
    },
    {
      "cell_type": "markdown",
      "id": "0b19ca69",
      "metadata": {
        "id": "0b19ca69"
      },
      "source": [
        "## KNN"
      ]
    },
    {
      "cell_type": "code",
      "execution_count": null,
      "id": "2b4129d9",
      "metadata": {
        "id": "2b4129d9"
      },
      "outputs": [],
      "source": [
        "# # iterating knn model for all values of k from 1-39\n",
        "error_rate = []\n",
        "\n",
        "for i in range(1,40):\n",
        "    knn = KNeighborsClassifier(n_neighbors=i)\n",
        "    knn.fit(X_train, y_train)\n",
        "    pred_i = knn.predict(X_test)\n",
        "    error_rate.append(np.mean(pred_i != y_test))"
      ]
    },
    {
      "cell_type": "code",
      "execution_count": null,
      "id": "6a43bcfa",
      "metadata": {
        "id": "6a43bcfa"
      },
      "outputs": [],
      "source": [
        "# ploting the error_rate\n",
        "\n",
        "plt.figure(figsize=[10,6])\n",
        "plt.plot(range(1,40), error_rate, color='blue', linestyle='dashed',\n",
        "          marker='o', markerfacecolor='red', markersize=10)\n",
        "plt.title('Error rate vs K')\n",
        "plt.xlabel('K')\n",
        "plt.ylabel('Error Rate')"
      ]
    },
    {
      "cell_type": "markdown",
      "id": "c9d2fb28",
      "metadata": {
        "id": "c9d2fb28"
      },
      "source": [
        "Choose k = 2"
      ]
    },
    {
      "cell_type": "code",
      "execution_count": null,
      "id": "9a6dc967",
      "metadata": {
        "id": "9a6dc967"
      },
      "outputs": [],
      "source": [
        "# # building knn and fit the model\n",
        "knn = KNeighborsClassifier(n_neighbors = 2)\n",
        "knn.fit(X_train, y_train)"
      ]
    },
    {
      "cell_type": "code",
      "execution_count": null,
      "id": "afa8e694",
      "metadata": {
        "id": "afa8e694"
      },
      "outputs": [],
      "source": [
        "# # Evaluation\n",
        "evaluation(knn)"
      ]
    },
    {
      "cell_type": "code",
      "execution_count": null,
      "id": "a3775850",
      "metadata": {
        "id": "a3775850"
      },
      "outputs": [],
      "source": []
    }
  ],
  "metadata": {
    "kernelspec": {
      "display_name": "Python 3 (ipykernel)",
      "language": "python",
      "name": "python3"
    },
    "language_info": {
      "codemirror_mode": {
        "name": "ipython",
        "version": 3
      },
      "file_extension": ".py",
      "mimetype": "text/x-python",
      "name": "python",
      "nbconvert_exporter": "python",
      "pygments_lexer": "ipython3",
      "version": "3.9.7"
    },
    "colab": {
      "provenance": []
    }
  },
  "nbformat": 4,
  "nbformat_minor": 5
}